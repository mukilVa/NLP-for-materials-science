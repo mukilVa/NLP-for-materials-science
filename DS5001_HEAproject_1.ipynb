{
 "cells": [
  {
   "cell_type": "code",
   "execution_count": 1,
   "id": "9f154964",
   "metadata": {},
   "outputs": [
    {
     "data": {
      "text/plain": [
       "'DS5001 project'"
      ]
     },
     "execution_count": 1,
     "metadata": {},
     "output_type": "execute_result"
    }
   ],
   "source": [
    "\"\"\"DS5001 project\"\"\""
   ]
  },
  {
   "cell_type": "code",
   "execution_count": null,
   "id": "6b36cb89",
   "metadata": {},
   "outputs": [],
   "source": [
    "import pandas as pd\n",
    "import re"
   ]
  },
  {
   "cell_type": "markdown",
   "id": "94aa861d",
   "metadata": {},
   "source": [
    "### Document 1 "
   ]
  },
  {
   "cell_type": "code",
   "execution_count": null,
   "id": "7350b7fe",
   "metadata": {},
   "outputs": [],
   "source": [
    "with open ('1.txt',encoding='utf-8-sig') as f:\n",
    "    lines = f.read().strip().splitlines()"
   ]
  },
  {
   "cell_type": "code",
   "execution_count": null,
   "id": "c36cf983",
   "metadata": {},
   "outputs": [],
   "source": [
    "lines"
   ]
  },
  {
   "cell_type": "code",
   "execution_count": null,
   "id": "03a73fed",
   "metadata": {},
   "outputs": [],
   "source": [
    "len(lines)"
   ]
  },
  {
   "cell_type": "markdown",
   "id": "9a150794",
   "metadata": {},
   "source": [
    "### Remove beginning lines:"
   ]
  },
  {
   "cell_type": "markdown",
   "id": "361a125c",
   "metadata": {},
   "source": [
    "idx1 =[]\n",
    "for i in range(len(lines)):\n",
    "    if lines[i] == 'Chemical interaction':\n",
    "        idx1.append(i)"
   ]
  },
  {
   "cell_type": "markdown",
   "id": "484c0a70",
   "metadata": {},
   "source": [
    "lines = lines[idx1[0]+1:]"
   ]
  },
  {
   "cell_type": "code",
   "execution_count": null,
   "id": "6aafd4d1",
   "metadata": {},
   "outputs": [],
   "source": [
    "for i in lines:\n",
    "    i = i.lower()\n",
    "    i = i.encode(\"ascii\", \"ignore\").decode()\n",
    "    i = re.sub('https*\\S+', '', i)\n",
    "    i = re.sub('#\\S+', '', i)\n",
    "    i = re.sub('\\'\\w+', '', i)\n",
    "    i = re.sub('\\s{2,}', '', i)"
   ]
  },
  {
   "cell_type": "code",
   "execution_count": null,
   "id": "bef2ca6f",
   "metadata": {},
   "outputs": [],
   "source": [
    "for i in lines:\n",
    "    print(i)"
   ]
  },
  {
   "cell_type": "code",
   "execution_count": null,
   "id": "ae53540d",
   "metadata": {},
   "outputs": [],
   "source": [
    "lines"
   ]
  },
  {
   "cell_type": "code",
   "execution_count": null,
   "id": "c4f04dcc",
   "metadata": {},
   "outputs": [],
   "source": [
    "len(lines)"
   ]
  },
  {
   "cell_type": "markdown",
   "id": "26fff258",
   "metadata": {},
   "source": [
    "### Remove Special Characters and others "
   ]
  },
  {
   "cell_type": "code",
   "execution_count": null,
   "id": "1729bb20",
   "metadata": {},
   "outputs": [],
   "source": [
    "spcChars = ['corresponding author', 'e-mail', 'https', 'fig', 'table']"
   ]
  },
  {
   "cell_type": "code",
   "execution_count": null,
   "id": "b61e3852",
   "metadata": {},
   "outputs": [],
   "source": [
    "try:\n",
    "    for i in range(len(lines)):\n",
    "        for j in spcChars:\n",
    "            if j in lines[i].lower():\n",
    "                    del lines[i]\n",
    "\n",
    "except:\n",
    "    'IndexError'"
   ]
  },
  {
   "cell_type": "code",
   "execution_count": null,
   "id": "e2628cc1",
   "metadata": {},
   "outputs": [],
   "source": [
    "len(lines)"
   ]
  },
  {
   "cell_type": "code",
   "execution_count": null,
   "id": "ea704fe5",
   "metadata": {},
   "outputs": [],
   "source": [
    "try:\n",
    "    for i in range(len(lines)):\n",
    "        while u'\\u00a9' in lines[i]:\n",
    "            del lines[i]\n",
    "except:\n",
    "    'IndexError'"
   ]
  },
  {
   "cell_type": "code",
   "execution_count": null,
   "id": "ecb06d82",
   "metadata": {},
   "outputs": [],
   "source": [
    "len(lines)"
   ]
  },
  {
   "cell_type": "code",
   "execution_count": null,
   "id": "9c68f427",
   "metadata": {},
   "outputs": [],
   "source": [
    "lines"
   ]
  },
  {
   "cell_type": "markdown",
   "id": "5f21c3da",
   "metadata": {},
   "source": [
    "def remove_blank_lines(s):\n",
    "    lines = s.split(\"\\n\")\n",
    "    lines = filter(None, lines)\n",
    "    return \"\\n\".join(lines)"
   ]
  },
  {
   "cell_type": "markdown",
   "id": "a389c79f",
   "metadata": {},
   "source": [
    "### Remove unnecessary paragraphs (Acknowledgements/References):"
   ]
  },
  {
   "cell_type": "code",
   "execution_count": null,
   "id": "70b61c78",
   "metadata": {},
   "outputs": [],
   "source": [
    "idx2=[]\n",
    "for j in range(len(lines)):\n",
    "    if 'acknowledgement' in lines[j].lower():\n",
    "        idx2.append(j)\n",
    "idx2"
   ]
  },
  {
   "cell_type": "code",
   "execution_count": null,
   "id": "8053b495",
   "metadata": {},
   "outputs": [],
   "source": [
    "lines = lines[:idx2[0]]"
   ]
  },
  {
   "cell_type": "code",
   "execution_count": null,
   "id": "edb1baaa",
   "metadata": {},
   "outputs": [],
   "source": [
    "lines"
   ]
  },
  {
   "cell_type": "code",
   "execution_count": null,
   "id": "73a72698",
   "metadata": {},
   "outputs": [],
   "source": [
    "# treat ending words \n",
    "lines_paragraph = []\n",
    "idx = 0\n",
    "paragraph = ''\n",
    "firstSentence = True\n",
    "\n",
    "while True:\n",
    "    if idx == len(lines) - 1:\n",
    "        lines_paragraph.append( paragraph.strip() )\n",
    "        print('end of text')\n",
    "        break\n",
    "    print( idx, lines )\n",
    "   \n",
    "    line = lines[idx].strip()\n",
    "    end_paragraph = True if len(line) == 0 else False\n",
    "    if not end_paragraph: \n",
    "        curr_end = False if line[-1] == '-' else True\n",
    "    else: \n",
    "        lines_paragraph.append( paragraph.strip() )\n",
    "        paragraph = ''\n",
    "        idx += 1\n",
    "        firstSentence = True\n",
    "        continue\n",
    "\n",
    "    if idx == 0:\n",
    "        paragraph += ' ' + line if curr_end else ' ' + line[:-1]\n",
    "    else: \n",
    "        prev_line = lines[idx-1].strip()\n",
    "    if not firstSentence:\n",
    "        prev_end = False if prev_line[-1] == '-' else True\n",
    "    else: \n",
    "        prev_end = True\n",
    "        firstSentence = False\n",
    "\n",
    "    if not prev_end and not curr_end:\n",
    "        paragraph += line[:-1]\n",
    "    elif not prev_end and curr_end:\n",
    "        paragraph += line\n",
    "    elif prev_end and curr_end:\n",
    "        paragraph += ' ' + line\n",
    "    elif prev_end and not curr_end:\n",
    "        paragraph += ' ' + line[:-1]\n",
    "    idx += 1"
   ]
  },
  {
   "cell_type": "code",
   "execution_count": null,
   "id": "6f692fcf",
   "metadata": {},
   "outputs": [],
   "source": [
    "lines_paragraph"
   ]
  },
  {
   "cell_type": "code",
   "execution_count": null,
   "id": "15c4d57f",
   "metadata": {},
   "outputs": [],
   "source": [
    "while '' in lines_paragraph:\n",
    "    for i in range(len(lines_paragraph)):\n",
    "        try:\n",
    "            if lines_paragraph[i].strip() == '':\n",
    "                del lines_paragraph[i]\n",
    "        except:\n",
    "            'IndexError'"
   ]
  },
  {
   "cell_type": "code",
   "execution_count": null,
   "id": "11d2cca8",
   "metadata": {},
   "outputs": [],
   "source": [
    "lines_paragraph"
   ]
  },
  {
   "cell_type": "markdown",
   "id": "c5b3d47d",
   "metadata": {},
   "source": [
    "### Remove any paragraphs that does not end with '.': Removes equations and other unnecessary lines as well."
   ]
  },
  {
   "cell_type": "code",
   "execution_count": null,
   "id": "6820a615",
   "metadata": {
    "scrolled": true
   },
   "outputs": [],
   "source": [
    "try:\n",
    "    for i in range(len(lines_paragraph)):\n",
    "        while '.' not in lines_paragraph[i][-1]:\n",
    "            del lines_paragraph[i]\n",
    "except:\n",
    "    'IndexError'"
   ]
  },
  {
   "cell_type": "code",
   "execution_count": null,
   "id": "e349aa90",
   "metadata": {},
   "outputs": [],
   "source": [
    "len(lines_paragraph)"
   ]
  },
  {
   "cell_type": "code",
   "execution_count": null,
   "id": "93d9f249",
   "metadata": {},
   "outputs": [],
   "source": [
    "lines_paragraph"
   ]
  },
  {
   "cell_type": "code",
   "execution_count": null,
   "id": "588588c4",
   "metadata": {
    "scrolled": true
   },
   "outputs": [],
   "source": [
    "# remove reference, equations, \n",
    "ref_regex = '\\[([0-9]+|([0-9]+|\\,)+)\\]'\n",
    "equt_regex = '\\([0-9]+\\)'\n",
    "nonEnglish_regex = '^[^A-Za-z][^A-Za-z0-9/()\\-]*'\n",
    "multispace_regex = ' {2,}'\n",
    "lines_paragraph_removed = []\n",
    "for para_idx, paragraph in enumerate(lines_paragraph):\n",
    "    sentences = paragraph.split('. ')\n",
    "    newParagraph = ''\n",
    "    print( 'paragraph', para_idx )\n",
    "    paragraph = [x for x in sentences if len(x) != 0]\n",
    "    for sent_idx, sentence in enumerate(sentences):  \n",
    "    # if len(paragraph) == 1:\n",
    "    #   if len(paragraph[0]) > 20:\n",
    "    #     print( 'remove equation', paragraph)\n",
    "    #     break\n",
    "\n",
    "        if sent_idx == len(sentences) - 1:\n",
    "            if sentence[-1] == '.':\n",
    "                sentence = sentence[:-1]\n",
    "        sentence = sentence.strip()\n",
    "        newSentence = re.sub( ref_regex, '', sentence ).strip()\n",
    "        newSentence = re.sub( equt_regex, '', newSentence ).strip()\n",
    "        newSentence = re.sub( nonEnglish_regex, '', newSentence ).strip()\n",
    "        newSentence = re.sub( multispace_regex, ' ', newSentence ).strip()\n",
    "\n",
    "        newParagraph += ' ' + newSentence + '.'\n",
    "    \n",
    "    # check newSentence is empty\n",
    "    print( '', 'sentence', sent_idx )\n",
    "    print( '', '', sentence)\n",
    "    print( '', '', newSentence)\n",
    "    lines_paragraph_removed.append(newParagraph.strip())"
   ]
  },
  {
   "cell_type": "code",
   "execution_count": null,
   "id": "d85967bc",
   "metadata": {},
   "outputs": [],
   "source": [
    "paras = lines_paragraph_removed"
   ]
  },
  {
   "cell_type": "code",
   "execution_count": null,
   "id": "e278f42b",
   "metadata": {},
   "outputs": [],
   "source": [
    "len(paras)"
   ]
  },
  {
   "cell_type": "code",
   "execution_count": null,
   "id": "660e51f3",
   "metadata": {},
   "outputs": [],
   "source": [
    "paras"
   ]
  },
  {
   "cell_type": "code",
   "execution_count": null,
   "id": "136cfb07",
   "metadata": {},
   "outputs": [],
   "source": [
    "try:\n",
    "    for i in range(len(paras)):\n",
    "        count = paras[i].count('.')\n",
    "        if count < 2:\n",
    "            del paras[i]\n",
    "except:\n",
    "    'IndexError'"
   ]
  },
  {
   "cell_type": "markdown",
   "id": "edb1d844",
   "metadata": {},
   "source": [
    "idx3=[]\n",
    "try:\n",
    "    for i in range(len(paras)):\n",
    "        count = paras[i].count('.')\n",
    "        if count < 4:\n",
    "            idx3.append(i)\n",
    "except:\n",
    "    'IndexError'"
   ]
  },
  {
   "cell_type": "markdown",
   "id": "be47a871",
   "metadata": {},
   "source": [
    "try:\n",
    "    for i in idx3:\n",
    "        del paras[i]\n",
    "except:\n",
    "    'IndexError'"
   ]
  },
  {
   "cell_type": "code",
   "execution_count": null,
   "id": "cf8e1117",
   "metadata": {},
   "outputs": [],
   "source": [
    "len(paras)"
   ]
  },
  {
   "cell_type": "code",
   "execution_count": null,
   "id": "a5e34af7",
   "metadata": {},
   "outputs": [],
   "source": [
    "paras"
   ]
  },
  {
   "cell_type": "code",
   "execution_count": null,
   "id": "e69b5c5a",
   "metadata": {},
   "outputs": [],
   "source": [
    "paras_new = []\n",
    "for i in range(len(paras)):\n",
    "    a = paras[i].split('.')\n",
    "    if a[0][0].isupper() == False:\n",
    "        a = a[1:]\n",
    "    b = '.'.join(a)\n",
    "    paras_new.append(b)"
   ]
  },
  {
   "cell_type": "code",
   "execution_count": null,
   "id": "634141e9",
   "metadata": {},
   "outputs": [],
   "source": [
    "while '' in paras_new:\n",
    "    for i in range(len(paras_new)):\n",
    "        try:\n",
    "            if paras_new[i].strip() == '':\n",
    "                del paras_new[i]\n",
    "        except:\n",
    "            'IndexError'"
   ]
  },
  {
   "cell_type": "code",
   "execution_count": null,
   "id": "98e0bc84",
   "metadata": {},
   "outputs": [],
   "source": [
    "paras_new"
   ]
  },
  {
   "cell_type": "code",
   "execution_count": null,
   "id": "42fbcb8d",
   "metadata": {},
   "outputs": [],
   "source": [
    "len(paras_new)"
   ]
  },
  {
   "cell_type": "code",
   "execution_count": null,
   "id": "14eade5d",
   "metadata": {},
   "outputs": [],
   "source": [
    "idx3=[]\n",
    "try:\n",
    "    for i in range(len(paras_new)):\n",
    "        count = paras_new[i].count('.')\n",
    "        if count < 3:\n",
    "            idx3.append(i)\n",
    "except:\n",
    "    'IndexError'"
   ]
  },
  {
   "cell_type": "markdown",
   "id": "50bfc426",
   "metadata": {},
   "source": [
    "len(idx3)"
   ]
  },
  {
   "cell_type": "code",
   "execution_count": null,
   "id": "c61b9a4d",
   "metadata": {},
   "outputs": [],
   "source": [
    "try:\n",
    "    for i in idx3:\n",
    "        del paras_new[i]\n",
    "except:\n",
    "    'IndexError'"
   ]
  },
  {
   "cell_type": "code",
   "execution_count": null,
   "id": "f738daa7",
   "metadata": {},
   "outputs": [],
   "source": [
    "len(paras_new)"
   ]
  },
  {
   "cell_type": "code",
   "execution_count": null,
   "id": "f4267fa2",
   "metadata": {},
   "outputs": [],
   "source": [
    "paras_new"
   ]
  },
  {
   "cell_type": "code",
   "execution_count": null,
   "id": "b4e3b989",
   "metadata": {},
   "outputs": [],
   "source": [
    "OHCO = ['para_num', 'sent_num', 'token_num']"
   ]
  },
  {
   "cell_type": "code",
   "execution_count": null,
   "id": "42c1db19",
   "metadata": {},
   "outputs": [],
   "source": [
    "PARAS = pd.DataFrame(paras_new, columns=['para_str'])"
   ]
  },
  {
   "cell_type": "code",
   "execution_count": null,
   "id": "48b65d59",
   "metadata": {},
   "outputs": [],
   "source": [
    "PARAS"
   ]
  },
  {
   "cell_type": "code",
   "execution_count": null,
   "id": "b2c9506c",
   "metadata": {},
   "outputs": [],
   "source": [
    "PARAS.index.names=OHCO[:1]"
   ]
  },
  {
   "cell_type": "code",
   "execution_count": null,
   "id": "a6dcd2b8",
   "metadata": {},
   "outputs": [],
   "source": [
    "PARAS"
   ]
  },
  {
   "cell_type": "code",
   "execution_count": null,
   "id": "074fe930",
   "metadata": {},
   "outputs": [],
   "source": [
    "SENTS = PARAS['para_str'].str.split(r'[.?!;:\"]+', expand=True).stack()\\\n",
    "    .to_frame().rename(columns={0:'sent_str'})\n",
    "SENTS.index.names = OHCO[:2]\n",
    "SENTS.sent_str = SENTS.sent_str.str.strip()"
   ]
  },
  {
   "cell_type": "code",
   "execution_count": null,
   "id": "e2236182",
   "metadata": {},
   "outputs": [],
   "source": [
    "SENTS"
   ]
  },
  {
   "cell_type": "code",
   "execution_count": null,
   "id": "f37a2c5f",
   "metadata": {},
   "outputs": [],
   "source": [
    "TOKENS = SENTS['sent_str'].str.split(r\"[\\s',-]+\", expand=True).stack()\\\n",
    "    .to_frame('token_str')\n",
    "TOKENS.index.names = OHCO[:3]"
   ]
  },
  {
   "cell_type": "code",
   "execution_count": null,
   "id": "944b1378",
   "metadata": {},
   "outputs": [],
   "source": [
    "TOKENS"
   ]
  },
  {
   "cell_type": "code",
   "execution_count": null,
   "id": "b0ccf460",
   "metadata": {},
   "outputs": [],
   "source": [
    "TOKENS.to_csv('doc1.csv')"
   ]
  },
  {
   "cell_type": "markdown",
   "id": "2548407f",
   "metadata": {},
   "source": [
    "### Document 2 "
   ]
  },
  {
   "cell_type": "code",
   "execution_count": null,
   "id": "2bcf192f",
   "metadata": {},
   "outputs": [],
   "source": [
    "import pandas as pd\n",
    "import re"
   ]
  },
  {
   "cell_type": "code",
   "execution_count": null,
   "id": "2bc9a6ef",
   "metadata": {},
   "outputs": [],
   "source": [
    "with open ('2.txt',encoding='utf-8-sig') as f:\n",
    "    lines = f.read().strip().splitlines()"
   ]
  },
  {
   "cell_type": "code",
   "execution_count": null,
   "id": "e5830399",
   "metadata": {},
   "outputs": [],
   "source": [
    "len(lines)"
   ]
  },
  {
   "cell_type": "code",
   "execution_count": null,
   "id": "04363248",
   "metadata": {},
   "outputs": [],
   "source": [
    "lines"
   ]
  },
  {
   "cell_type": "code",
   "execution_count": null,
   "id": "31620cf1",
   "metadata": {},
   "outputs": [],
   "source": [
    "for i in lines:\n",
    "    i = i.lower()\n",
    "    i = i.encode(\"ascii\", \"ignore\").decode()\n",
    "    i = re.sub('https*\\S+', '', i)\n",
    "    i = re.sub('#\\S+', '', i)\n",
    "    i = re.sub('\\'\\w+', '', i)\n",
    "    i = re.sub('\\s{2,}', '', i)"
   ]
  },
  {
   "cell_type": "code",
   "execution_count": null,
   "id": "4bfdb760",
   "metadata": {},
   "outputs": [],
   "source": [
    "len(lines)"
   ]
  },
  {
   "cell_type": "code",
   "execution_count": null,
   "id": "08cf2432",
   "metadata": {},
   "outputs": [],
   "source": [
    "spcChars = ['corresponding author', 'e-mail', 'https', 'fig', 'table']"
   ]
  },
  {
   "cell_type": "code",
   "execution_count": null,
   "id": "6dfae06e",
   "metadata": {},
   "outputs": [],
   "source": [
    "try:\n",
    "    for i in range(len(lines)):\n",
    "        for j in spcChars:\n",
    "            if j in lines[i].lower():\n",
    "                    del lines[i]\n",
    "\n",
    "except:\n",
    "    'IndexError'"
   ]
  },
  {
   "cell_type": "code",
   "execution_count": null,
   "id": "f01ac978",
   "metadata": {},
   "outputs": [],
   "source": [
    "len(lines)"
   ]
  },
  {
   "cell_type": "code",
   "execution_count": null,
   "id": "be9a10ff",
   "metadata": {},
   "outputs": [],
   "source": [
    "lines"
   ]
  },
  {
   "cell_type": "code",
   "execution_count": null,
   "id": "d0a4a32e",
   "metadata": {},
   "outputs": [],
   "source": [
    "try:\n",
    "    for i in range(len(lines)):\n",
    "        while u'\\u00a9' in lines[i]:\n",
    "            del lines[i]\n",
    "except:\n",
    "    'IndexError'"
   ]
  },
  {
   "cell_type": "code",
   "execution_count": null,
   "id": "c83f35cc",
   "metadata": {},
   "outputs": [],
   "source": [
    "len(lines)"
   ]
  },
  {
   "cell_type": "code",
   "execution_count": null,
   "id": "ea3d58bd",
   "metadata": {},
   "outputs": [],
   "source": [
    "idx=[]\n",
    "for j in range(len(lines)):\n",
    "    if 'acknowledgement' in lines[j].lower():\n",
    "        idx.append(j)\n",
    "idx"
   ]
  },
  {
   "cell_type": "code",
   "execution_count": null,
   "id": "d571a4d3",
   "metadata": {},
   "outputs": [],
   "source": [
    "lines = lines[:idx[0]]"
   ]
  },
  {
   "cell_type": "code",
   "execution_count": null,
   "id": "5bcb5086",
   "metadata": {},
   "outputs": [],
   "source": [
    "len(lines)"
   ]
  },
  {
   "cell_type": "code",
   "execution_count": null,
   "id": "343f0fdc",
   "metadata": {},
   "outputs": [],
   "source": [
    "lines"
   ]
  },
  {
   "cell_type": "code",
   "execution_count": null,
   "id": "42d17714",
   "metadata": {},
   "outputs": [],
   "source": [
    "# treat ending words \n",
    "lines_paragraph = []\n",
    "idx = 0\n",
    "paragraph = ''\n",
    "firstSentence = True\n",
    "\n",
    "while True:\n",
    "    if idx == len(lines) - 1:\n",
    "        lines_paragraph.append( paragraph.strip() )\n",
    "        print('end of text')\n",
    "        break\n",
    "    print( idx, lines )\n",
    "   \n",
    "    line = lines[idx].strip()\n",
    "    end_paragraph = True if len(line) == 0 else False\n",
    "    if not end_paragraph: \n",
    "        curr_end = False if line[-1] == '-' else True\n",
    "    else: \n",
    "        lines_paragraph.append( paragraph.strip() )\n",
    "        paragraph = ''\n",
    "        idx += 1\n",
    "        firstSentence = True\n",
    "        continue\n",
    "\n",
    "    if idx == 0:\n",
    "        paragraph += ' ' + line if curr_end else ' ' + line[:-1]\n",
    "    else: \n",
    "        prev_line = lines[idx-1].strip()\n",
    "    if not firstSentence:\n",
    "        prev_end = False if prev_line[-1] == '-' else True\n",
    "    else: \n",
    "        prev_end = True\n",
    "        firstSentence = False\n",
    "\n",
    "    if not prev_end and not curr_end:\n",
    "        paragraph += line[:-1]\n",
    "    elif not prev_end and curr_end:\n",
    "        paragraph += line\n",
    "    elif prev_end and curr_end:\n",
    "        paragraph += ' ' + line\n",
    "    elif prev_end and not curr_end:\n",
    "        paragraph += ' ' + line[:-1]\n",
    "    idx += 1"
   ]
  },
  {
   "cell_type": "code",
   "execution_count": null,
   "id": "16b2ca49",
   "metadata": {},
   "outputs": [],
   "source": [
    "len(lines_paragraph)"
   ]
  },
  {
   "cell_type": "code",
   "execution_count": null,
   "id": "ba355e9e",
   "metadata": {},
   "outputs": [],
   "source": [
    "lines_paragraph"
   ]
  },
  {
   "cell_type": "code",
   "execution_count": null,
   "id": "002884a4",
   "metadata": {},
   "outputs": [],
   "source": [
    "while '' in lines_paragraph:\n",
    "    for i in range(len(lines_paragraph)):\n",
    "        try:\n",
    "            if lines_paragraph[i].strip() == '':\n",
    "                del lines_paragraph[i]\n",
    "        except:\n",
    "            'IndexError'"
   ]
  },
  {
   "cell_type": "code",
   "execution_count": null,
   "id": "8b532f9b",
   "metadata": {},
   "outputs": [],
   "source": [
    "len(lines_paragraph)"
   ]
  },
  {
   "cell_type": "code",
   "execution_count": null,
   "id": "9ea9445d",
   "metadata": {},
   "outputs": [],
   "source": [
    "lines_paragraph"
   ]
  },
  {
   "cell_type": "code",
   "execution_count": null,
   "id": "7126074c",
   "metadata": {},
   "outputs": [],
   "source": [
    "# remove reference, equations, \n",
    "ref_regex = '\\[([0-9]+|([0-9]+|\\,)+)\\]'\n",
    "equt_regex = '\\([0-9]+\\)'\n",
    "nonEnglish_regex = '^[^A-Za-z][^A-Za-z0-9/()\\-]*'\n",
    "multispace_regex = ' {2,}'\n",
    "lines_paragraph_removed = []\n",
    "for para_idx, paragraph in enumerate(lines_paragraph):\n",
    "    sentences = paragraph.split('. ')\n",
    "    newParagraph = ''\n",
    "    print( 'paragraph', para_idx )\n",
    "    paragraph = [x for x in sentences if len(x) != 0]\n",
    "    for sent_idx, sentence in enumerate(sentences):  \n",
    "    # if len(paragraph) == 1:\n",
    "    #   if len(paragraph[0]) > 20:\n",
    "    #     print( 'remove equation', paragraph)\n",
    "    #     break\n",
    "\n",
    "        if sent_idx == len(sentences) - 1:\n",
    "            if sentence[-1] == '.':\n",
    "                sentence = sentence[:-1]\n",
    "        sentence = sentence.strip()\n",
    "        newSentence = re.sub( ref_regex, '', sentence ).strip()\n",
    "        newSentence = re.sub( equt_regex, '', newSentence ).strip()\n",
    "        newSentence = re.sub( nonEnglish_regex, '', newSentence ).strip()\n",
    "        newSentence = re.sub( multispace_regex, ' ', newSentence ).strip()\n",
    "\n",
    "        newParagraph += ' ' + newSentence + '.'\n",
    "    \n",
    "    # check newSentence is empty\n",
    "    print( '', 'sentence', sent_idx )\n",
    "    print( '', '', sentence)\n",
    "    print( '', '', newSentence)\n",
    "    lines_paragraph_removed.append(newParagraph.strip())"
   ]
  },
  {
   "cell_type": "code",
   "execution_count": null,
   "id": "8404b4b4",
   "metadata": {},
   "outputs": [],
   "source": [
    "len(lines_paragraph_removed)"
   ]
  },
  {
   "cell_type": "code",
   "execution_count": null,
   "id": "822f75a5",
   "metadata": {},
   "outputs": [],
   "source": [
    "paras = lines_paragraph_removed"
   ]
  },
  {
   "cell_type": "code",
   "execution_count": null,
   "id": "060a2749",
   "metadata": {},
   "outputs": [],
   "source": [
    "idx1 = ['Materials Letters 232 160-162 Materials Letters 232 160-162.',\n",
    "        'High entropy alloys Mechanical alloying Nanocrystalline materials.']\n",
    "idx2 = []\n",
    "for i in idx1:\n",
    "    for j in range(len(paras)):\n",
    "        if i in paras[j]:\n",
    "            idx2.append(j)\n",
    "paras = paras[idx2[1]+1:]"
   ]
  },
  {
   "cell_type": "code",
   "execution_count": null,
   "id": "12b0bad2",
   "metadata": {},
   "outputs": [],
   "source": [
    "idx2"
   ]
  },
  {
   "cell_type": "code",
   "execution_count": null,
   "id": "2e5571b5",
   "metadata": {},
   "outputs": [],
   "source": [
    "paras = paras[idx2[1]+1:]"
   ]
  },
  {
   "cell_type": "code",
   "execution_count": null,
   "id": "c8c261b3",
   "metadata": {
    "scrolled": true
   },
   "outputs": [],
   "source": [
    "paras"
   ]
  },
  {
   "cell_type": "code",
   "execution_count": null,
   "id": "5eda7a85",
   "metadata": {},
   "outputs": [],
   "source": [
    "drop_list = ['. Introduction.', '. Experimental details.', 'D. Oleszak et al./ Materials Letters 232 160-162.',\n",
    "             '. Results and discussion.',  '220 50 h + DSC.',\n",
    " '00 h.',\n",
    " 'WMOoNbZrV.',\n",
    " '0 h.',\n",
    " 'IN.',\n",
    " 'Intensity [a.u.].',\n",
    " 'theta [deg].',\n",
    " 'increasing processing time and after heating in the DSC up to 700 °C.',\n",
    " '61.',  '8.',\n",
    " '030.',\n",
    " '025.',\n",
    " '020.',\n",
    " '015.',\n",
    " '010.',\n",
    " 'WMoNbZrV.',\n",
    " '.',\n",
    " '0 h MA 0,7 6.',\n",
    " 'a 50 h MA + DSC 700°C.',\n",
    " '6.',\n",
    " '005 0,5 0,000 -}——— 7 Fe oO _ 00 04 02 03 04 05 06 07 08 O09 1,0 — = sin 6 0,4 x a o 03 : after DSC o + up to 700°C Oo 0,2 after DSC up to 700°C i 0,1 0,0 0 10 20 30 40 50 60 70 80 90 100 110 t [h].',\n",
    " 'followed by continuous heating in the DSC up to 700 °C.',\n",
    " '62 D. Oleszak et al./ Materials Letters 232 160-162.',\n",
    " '174 3,172.',\n",
    " '171.',\n",
    " '170 3,169 |.',\n",
    " '168 3,167.',\n",
    " 'ml 3,166.',\n",
    " '165 1.',\n",
    " 'aA].',\n",
    " 'after DSC up to 700°C.',\n",
    " '164 3,163.',\n",
    " '162 0 10 20 30 40 50 60 70 80 90 100 110.',\n",
    " 't [h].',\n",
    " 'treatment.', '. Conclusions.']"
   ]
  },
  {
   "cell_type": "code",
   "execution_count": null,
   "id": "b6a1420a",
   "metadata": {},
   "outputs": [],
   "source": [
    "for i in drop_list:\n",
    "    paras.remove(i)"
   ]
  },
  {
   "cell_type": "code",
   "execution_count": null,
   "id": "b9d3ca61",
   "metadata": {},
   "outputs": [],
   "source": [
    "paras_new = paras"
   ]
  },
  {
   "cell_type": "markdown",
   "id": "871c56c3",
   "metadata": {},
   "source": [
    "idx = []\n",
    "for i in range(len(paras_new)):\n",
    "    if 'extrapolation method' in paras_new[i]:\n",
    "        idx.append(i)\n",
    "    elif 'diffraction lines and gradual disappearance' in paras_new[i]:\n",
    "        idx.append(i)\n",
    "    elif 'and Mo reveal the highest melting point' in paras_new[i]:\n",
    "        idx.append(i)"
   ]
  },
  {
   "cell_type": "code",
   "execution_count": null,
   "id": "e8c34134",
   "metadata": {},
   "outputs": [],
   "source": [
    "idx = []\n",
    "for i in range(len(paras_new)):\n",
    "    if 'extrapolation method' in paras_new[i]:\n",
    "        idx.append(i)\n",
    "        \n",
    "paras_new[4] = paras_new[4].replace(paras_new[4], paras_new[4][:-1] + ' ' + paras_new[5])\n",
    "paras_new.remove(paras_new[5])"
   ]
  },
  {
   "cell_type": "code",
   "execution_count": null,
   "id": "a1ae78e7",
   "metadata": {},
   "outputs": [],
   "source": [
    "idx"
   ]
  },
  {
   "cell_type": "code",
   "execution_count": null,
   "id": "b313d2f2",
   "metadata": {},
   "outputs": [],
   "source": [
    "paras_new[4] = paras_new[4].replace(paras_new[4], paras_new[4][:-1] + ' ' + paras_new[5])\n",
    "paras_new.remove(paras_new[5])"
   ]
  },
  {
   "cell_type": "markdown",
   "id": "cec6e9b8",
   "metadata": {},
   "source": [
    "while i in idx:\n",
    "    paras_new[i-1] = paras_new[i-1].replace(paras_new[i-1], paras_new[i-1][:-1] + ' ' + paras_new[i])\n",
    "    paras_new.remove(paras_new[i])"
   ]
  },
  {
   "cell_type": "code",
   "execution_count": null,
   "id": "eb34b219",
   "metadata": {},
   "outputs": [],
   "source": [
    "idx = []\n",
    "for i in range(len(paras_new)):\n",
    "    if 'diffraction lines and gradual disappearance' in paras_new[i]:\n",
    "        idx.append(i)"
   ]
  },
  {
   "cell_type": "code",
   "execution_count": null,
   "id": "012ddfc8",
   "metadata": {},
   "outputs": [],
   "source": [
    "idx"
   ]
  },
  {
   "cell_type": "code",
   "execution_count": null,
   "id": "4ab9d673",
   "metadata": {},
   "outputs": [],
   "source": [
    "paras_new[5] = paras_new[5].replace(paras_new[5], paras_new[5][:-1] + ' ' + paras_new[6])\n",
    "paras_new.remove(paras_new[6])"
   ]
  },
  {
   "cell_type": "code",
   "execution_count": null,
   "id": "b935ece6",
   "metadata": {},
   "outputs": [],
   "source": [
    "idx = []\n",
    "for i in range(len(paras_new)):\n",
    "    if 'and Mo reveal the highest melting point' in paras_new[i]:\n",
    "        idx.append(i)"
   ]
  },
  {
   "cell_type": "code",
   "execution_count": null,
   "id": "a781e96b",
   "metadata": {},
   "outputs": [],
   "source": [
    "idx"
   ]
  },
  {
   "cell_type": "code",
   "execution_count": null,
   "id": "b12c1248",
   "metadata": {},
   "outputs": [],
   "source": [
    "paras_new[12] = paras_new[12].replace(paras_new[12], paras_new[12][:-1] + ' ' + paras_new[13])\n",
    "paras_new.remove(paras_new[13])"
   ]
  },
  {
   "cell_type": "code",
   "execution_count": null,
   "id": "d81a2308",
   "metadata": {},
   "outputs": [],
   "source": [
    "paras_new"
   ]
  },
  {
   "cell_type": "code",
   "execution_count": null,
   "id": "56b97510",
   "metadata": {},
   "outputs": [],
   "source": [
    "OHCO = ['para_num', 'sent_num', 'token_num']\n",
    "PARAS = pd.DataFrame(paras_new, columns=['para_str'])\n",
    "PARAS.index.names=OHCO[:1]\n",
    "SENTS = PARAS['para_str'].str.split(r'[.?!;:\"]+', expand=True).stack()\\\n",
    "    .to_frame().rename(columns={0:'sent_str'})\n",
    "SENTS.index.names = OHCO[:2]\n",
    "SENTS.sent_str = SENTS.sent_str.str.strip()\n",
    "TOKENS = SENTS['sent_str'].str.split(r\"[\\s',-]+\", expand=True).stack()\\\n",
    "    .to_frame('token_str')\n",
    "TOKENS.index.names = OHCO[:3]\n",
    "TOKENS.to_csv('doc2.csv')"
   ]
  },
  {
   "cell_type": "code",
   "execution_count": null,
   "id": "788bf019",
   "metadata": {},
   "outputs": [],
   "source": [
    "TOKENS"
   ]
  },
  {
   "cell_type": "markdown",
   "id": "603b470c",
   "metadata": {},
   "source": [
    "### Document 3"
   ]
  },
  {
   "cell_type": "code",
   "execution_count": null,
   "id": "5697296c",
   "metadata": {},
   "outputs": [],
   "source": [
    "import pandas as pd\n",
    "import re"
   ]
  },
  {
   "cell_type": "code",
   "execution_count": null,
   "id": "9d6943be",
   "metadata": {},
   "outputs": [],
   "source": [
    "with open ('3.txt',encoding='utf-8-sig') as f:\n",
    "    lines = f.read().strip().splitlines()"
   ]
  },
  {
   "cell_type": "code",
   "execution_count": null,
   "id": "d9a9117d",
   "metadata": {},
   "outputs": [],
   "source": [
    "len(lines)"
   ]
  },
  {
   "cell_type": "code",
   "execution_count": null,
   "id": "6467be4e",
   "metadata": {},
   "outputs": [],
   "source": [
    "lines"
   ]
  },
  {
   "cell_type": "code",
   "execution_count": null,
   "id": "3e55a84f",
   "metadata": {},
   "outputs": [],
   "source": [
    "for i in lines:\n",
    "    i = i.lower()\n",
    "    i = i.encode(\"ascii\", \"ignore\").decode()\n",
    "    i = re.sub('https*\\S+', '', i)\n",
    "    i = re.sub('#\\S+', '', i)\n",
    "    i = re.sub('\\'\\w+', '', i)\n",
    "    i = re.sub('\\s{2,}', '', i)"
   ]
  },
  {
   "cell_type": "code",
   "execution_count": null,
   "id": "27eaefe1",
   "metadata": {},
   "outputs": [],
   "source": [
    "len(lines)"
   ]
  },
  {
   "cell_type": "code",
   "execution_count": null,
   "id": "6523e9c4",
   "metadata": {},
   "outputs": [],
   "source": [
    "lines"
   ]
  },
  {
   "cell_type": "code",
   "execution_count": null,
   "id": "05470c33",
   "metadata": {},
   "outputs": [],
   "source": [
    "spcChars = ['corresponding author', 'e-mail', 'https', 'fig', 'table']"
   ]
  },
  {
   "cell_type": "code",
   "execution_count": null,
   "id": "36cf721b",
   "metadata": {},
   "outputs": [],
   "source": [
    "try:\n",
    "    for i in range(len(lines)):\n",
    "        for j in spcChars:\n",
    "            if j in lines[i].lower():\n",
    "                    del lines[i]\n",
    "\n",
    "except:\n",
    "    'IndexError'"
   ]
  },
  {
   "cell_type": "code",
   "execution_count": null,
   "id": "c8550800",
   "metadata": {},
   "outputs": [],
   "source": [
    "len(lines)"
   ]
  },
  {
   "cell_type": "code",
   "execution_count": null,
   "id": "4bf4b88e",
   "metadata": {},
   "outputs": [],
   "source": [
    "lines"
   ]
  },
  {
   "cell_type": "code",
   "execution_count": null,
   "id": "c48ceb21",
   "metadata": {},
   "outputs": [],
   "source": [
    "try:\n",
    "    for i in range(len(lines)):\n",
    "        while u'\\u00a9' in lines[i]:\n",
    "            del lines[i]\n",
    "except:\n",
    "    'IndexError'\n",
    "    \n",
    "idx=[]\n",
    "for j in range(len(lines)):\n",
    "    if 'acknowledgement' in lines[j].lower():\n",
    "        idx.append(j)\n",
    "idx\n",
    "lines = lines[:idx[0]]"
   ]
  },
  {
   "cell_type": "code",
   "execution_count": null,
   "id": "8183503d",
   "metadata": {},
   "outputs": [],
   "source": [
    "len(lines)"
   ]
  },
  {
   "cell_type": "code",
   "execution_count": null,
   "id": "078952ab",
   "metadata": {},
   "outputs": [],
   "source": [
    "lines"
   ]
  },
  {
   "cell_type": "code",
   "execution_count": null,
   "id": "2408ab91",
   "metadata": {},
   "outputs": [],
   "source": [
    "# treat ending words \n",
    "lines_paragraph = []\n",
    "idx = 0\n",
    "paragraph = ''\n",
    "firstSentence = True\n",
    "\n",
    "while True:\n",
    "    if idx == len(lines) - 1:\n",
    "        lines_paragraph.append( paragraph.strip() )\n",
    "        print('end of text')\n",
    "        break\n",
    "    print( idx, lines )\n",
    "   \n",
    "    line = lines[idx].strip()\n",
    "    end_paragraph = True if len(line) == 0 else False\n",
    "    if not end_paragraph: \n",
    "        curr_end = False if line[-1] == '-' else True\n",
    "    else: \n",
    "        lines_paragraph.append( paragraph.strip() )\n",
    "        paragraph = ''\n",
    "        idx += 1\n",
    "        firstSentence = True\n",
    "        continue\n",
    "\n",
    "    if idx == 0:\n",
    "        paragraph += ' ' + line if curr_end else ' ' + line[:-1]\n",
    "    else: \n",
    "        prev_line = lines[idx-1].strip()\n",
    "    if not firstSentence:\n",
    "        prev_end = False if prev_line[-1] == '-' else True\n",
    "    else: \n",
    "        prev_end = True\n",
    "        firstSentence = False\n",
    "\n",
    "    if not prev_end and not curr_end:\n",
    "        paragraph += line[:-1]\n",
    "    elif not prev_end and curr_end:\n",
    "        paragraph += line\n",
    "    elif prev_end and curr_end:\n",
    "        paragraph += ' ' + line\n",
    "    elif prev_end and not curr_end:\n",
    "        paragraph += ' ' + line[:-1]\n",
    "    idx += 1"
   ]
  },
  {
   "cell_type": "code",
   "execution_count": null,
   "id": "ff5d03df",
   "metadata": {},
   "outputs": [],
   "source": [
    "len(lines_paragraph)"
   ]
  },
  {
   "cell_type": "code",
   "execution_count": null,
   "id": "b4c3eab9",
   "metadata": {},
   "outputs": [],
   "source": [
    "lines_paragraph"
   ]
  },
  {
   "cell_type": "code",
   "execution_count": null,
   "id": "f9361334",
   "metadata": {},
   "outputs": [],
   "source": [
    "while '' in lines_paragraph:\n",
    "    for i in range(len(lines_paragraph)):\n",
    "        try:\n",
    "            if lines_paragraph[i].strip() == '':\n",
    "                del lines_paragraph[i]\n",
    "        except:\n",
    "            'IndexError'"
   ]
  },
  {
   "cell_type": "code",
   "execution_count": null,
   "id": "ed98b3a3",
   "metadata": {},
   "outputs": [],
   "source": [
    "len(lines_paragraph)"
   ]
  },
  {
   "cell_type": "code",
   "execution_count": null,
   "id": "02cfa85e",
   "metadata": {},
   "outputs": [],
   "source": [
    "lines_paragraph"
   ]
  },
  {
   "cell_type": "code",
   "execution_count": null,
   "id": "b8c1ab98",
   "metadata": {},
   "outputs": [],
   "source": [
    "idx=[]\n",
    "for j in range(len(lines_paragraph)):\n",
    "    if '1. Introduction' in lines_paragraph[j]:\n",
    "               idx.append(j)\n",
    "#lines_paragraph = lines_paragraph[idx[1]+1:]"
   ]
  },
  {
   "cell_type": "code",
   "execution_count": null,
   "id": "c69eea7a",
   "metadata": {},
   "outputs": [],
   "source": [
    "idx"
   ]
  },
  {
   "cell_type": "code",
   "execution_count": null,
   "id": "3a070e21",
   "metadata": {},
   "outputs": [],
   "source": [
    "lines_paragraph = lines_paragraph[21:]"
   ]
  },
  {
   "cell_type": "code",
   "execution_count": null,
   "id": "3fc71aa8",
   "metadata": {},
   "outputs": [],
   "source": [
    "lines_paragraph"
   ]
  },
  {
   "cell_type": "code",
   "execution_count": null,
   "id": "89e6f5a7",
   "metadata": {},
   "outputs": [],
   "source": [
    "# remove reference, equations, \n",
    "ref_regex = '\\[([0-9]+|([0-9]+|\\,)+)\\]'\n",
    "equt_regex = '\\([0-9]+\\)'\n",
    "nonEnglish_regex = '^[^A-Za-z][^A-Za-z0-9/()\\-]*'\n",
    "multispace_regex = ' {2,}'\n",
    "lines_paragraph_removed = []\n",
    "for para_idx, paragraph in enumerate(lines_paragraph):\n",
    "    sentences = paragraph.split('. ')\n",
    "    newParagraph = ''\n",
    "    print( 'paragraph', para_idx )\n",
    "    paragraph = [x for x in sentences if len(x) != 0]\n",
    "    for sent_idx, sentence in enumerate(sentences):  \n",
    "    # if len(paragraph) == 1:\n",
    "    #   if len(paragraph[0]) > 20:\n",
    "    #     print( 'remove equation', paragraph)\n",
    "    #     break\n",
    "\n",
    "        if sent_idx == len(sentences) - 1:\n",
    "            if sentence[-1] == '.':\n",
    "                sentence = sentence[:-1]\n",
    "        sentence = sentence.strip()\n",
    "        newSentence = re.sub( ref_regex, '', sentence ).strip()\n",
    "        newSentence = re.sub( equt_regex, '', newSentence ).strip()\n",
    "        newSentence = re.sub( nonEnglish_regex, '', newSentence ).strip()\n",
    "        newSentence = re.sub( multispace_regex, ' ', newSentence ).strip()\n",
    "\n",
    "        newParagraph += ' ' + newSentence + '.'\n",
    "    \n",
    "    # check newSentence is empty\n",
    "    print( '', 'sentence', sent_idx )\n",
    "    print( '', '', sentence)\n",
    "    print( '', '', newSentence)\n",
    "    lines_paragraph_removed.append(newParagraph.strip())"
   ]
  },
  {
   "cell_type": "code",
   "execution_count": null,
   "id": "ed7364cb",
   "metadata": {
    "scrolled": true
   },
   "outputs": [],
   "source": [
    "lines_paragraph_removed"
   ]
  },
  {
   "cell_type": "code",
   "execution_count": null,
   "id": "ab1e48b4",
   "metadata": {},
   "outputs": [],
   "source": [
    "paras = lines_paragraph_removed"
   ]
  },
  {
   "cell_type": "code",
   "execution_count": null,
   "id": "13fd9148",
   "metadata": {},
   "outputs": [],
   "source": [
    "drop_list=[ 'Received 30 November 2017; Received in revised form 12 January 2018; Accepted 20 January 2018.',\n",
    " 'S. Huang et al.',\n",
    " 'Intermetallics 95 80-84.',\n",
    " 'List of equiatomic medium- and high-entropy alloys crystallizing in the fec and/or bec phases. The calculated equilibrium Wigner-Seitz radius in ferromagnetic (paramagnetic) state and Curie temperature are presented, along with the available experimental and other theoretical data.',\n",
    "        'available experimental and theoretical data for system in the fcc phase.',\n",
    " '00.',\n",
    " '00 T., in the bec phase (K).',\n",
    " '00.',\n",
    " '200.',\n",
    " '1.', 'S. Huang et al.',\n",
    " '8 —B—Fe-Fe —@—Cr-Mn —@— Fe-Cr —*— Co-Co —h— Fe-Co —@— Co-Ni —w— Fe-Ni —#— Co-Mn.',\n",
    " '2 —¢-— Fe-Mn —@—Ni-Ni —>— Cr-Cr —&— Ni-Mn —@& Cr-Co —F Mn-Mn.',\n",
    " 'phase (11,,).',\n",
    " '3 5 2 = &.',\n",
    " 'Reduced exchange interaction (mRy).',\n",
    " '6 9.',\n",
    " 'pth coordination shell.',\n",
    " 'function of pth coordination shell. The inset shows the magnetic moments of each components for the fcc and bcc phases, respectively.',\n",
    " '80 — 5 _ fo} z = ma Magnetic susceptibility (arb. units) = = wm Ss oan so 2 ® Ss N =i oO 2 250 300 350 400 120 ~ on Temperature (K) Ww S ~ 0.',\n",
    " '100 200 300 400 fee bee.',\n",
    " 'Temperature (K) Crystal structure.',\n",
    " 'fee and bec phases, respectively. The inset shows the magnetic susceptibility in the bcc phase. Results are obtained using Monte-Carlo (MC) simulations based on Heisenberg Hamiltonian and ab initio exchange interaction parameters. Right panel: Comparison of Curie temperature obtained via MFA and MC approaches for CrMnFeCoNi in the fee and bec phases, respectively.',\n",
    " 'Intermetallics 95 80-84.', '. Results and discussion.',  \"Prediction of Wigner-Seitz radius and Curie temperature for some equiatomic medium- and high-entropy alloys in the bec phase. The columns denoted as “average” list values obtained according to Vegard's law based on the experimental Wigner-Seitz radii of the alloy components.\",\n",
    " 'Alloy Wigner-Seitz radius (bohr) Curie temperature (K) Alloy Wigner-Seitz radius (bohr) Curie temperature (K) EMTO-CPA average EMTO-CPA average AlVCr 2.775 2.829 - AlVCrMn 2.717 2.797 AIVMn 2.742 2.835 - AlVCrFe 2.723 (2.716) 2.789 119 AlVFe 2.756 (2.747) 2.824 292 AlVMnFe 2.708 (2.701) 2.793 190 AlCrMn 2.690 2.792 - AIVNbMo 2.947 2.951 AlCrFe 2.704 (2.699) 2.781 288 AIVNbBW 2.959 2.953 TiVNb 2.972 2.979 - AlCrMnFe 2.672 (2.667) 2.760 189 TiVMo 2.909 2.931 - TiVCrMn 2.741 2.812 TiCrMo 2.866 2.888 - TiVCrMo 2.848 2.870 TiNbMo 3.003 3.017 - TiVNbMo 2.956 2.966 VCrMn 2.668 2.732 - VCrMnFe 2.660 (2.656) 2.716 221 VCrFe 2.678 (2.672) 2.721 253 VCrNbMo 2.881 2.874 VMnFe 2.666 (2.658) 2.727 395 AITiVCrMn 2.776 2.848 VNbMo 2.943 2.937 - AlVCrMnFe 2.692 (2.688) 2.771 102 AITiVMn 2.813 2.889 - AlVCrNbW 2.905 2.899 AITiVFe 2.821 (2.811) 2.881 181 AlVCrNbMoWw 2.911 2.904 AITiCrMn 2.773 2.857 =.',\n",
    " 'S. Huang et al.', 'Intermetallics 95 80-84.', '. Conclusions.']"
   ]
  },
  {
   "cell_type": "code",
   "execution_count": null,
   "id": "82ba03b4",
   "metadata": {},
   "outputs": [],
   "source": [
    "for i in drop_list:\n",
    "    paras.remove(i)"
   ]
  },
  {
   "cell_type": "code",
   "execution_count": null,
   "id": "62ff2d23",
   "metadata": {},
   "outputs": [],
   "source": [
    "len(paras)"
   ]
  },
  {
   "cell_type": "code",
   "execution_count": null,
   "id": "32ccb7cb",
   "metadata": {},
   "outputs": [],
   "source": [
    "paras"
   ]
  },
  {
   "cell_type": "code",
   "execution_count": null,
   "id": "0534df9f",
   "metadata": {},
   "outputs": [],
   "source": [
    "for i in paras:\n",
    "    if 'the multicomponent nature of the HEAs' in i:\n",
    "        idx = paras.index(i)\n",
    "result = paras[idx[0]].find('the multicomponent')"
   ]
  },
  {
   "cell_type": "code",
   "execution_count": null,
   "id": "97e06161",
   "metadata": {},
   "outputs": [],
   "source": [
    "idx"
   ]
  },
  {
   "cell_type": "code",
   "execution_count": null,
   "id": "d0cdef72",
   "metadata": {},
   "outputs": [],
   "source": [
    "result = paras[4].find('the multicomponent')"
   ]
  },
  {
   "cell_type": "code",
   "execution_count": null,
   "id": "887c0c6e",
   "metadata": {},
   "outputs": [],
   "source": [
    "result"
   ]
  },
  {
   "cell_type": "code",
   "execution_count": null,
   "id": "dafb19d0",
   "metadata": {},
   "outputs": [],
   "source": [
    "paras[4] = paras[4][result:]"
   ]
  },
  {
   "cell_type": "code",
   "execution_count": null,
   "id": "196aa16c",
   "metadata": {},
   "outputs": [],
   "source": [
    "paras[4]"
   ]
  },
  {
   "cell_type": "code",
   "execution_count": null,
   "id": "d0cea80e",
   "metadata": {},
   "outputs": [],
   "source": [
    "paras"
   ]
  },
  {
   "cell_type": "code",
   "execution_count": null,
   "id": "b47e1d9b",
   "metadata": {},
   "outputs": [],
   "source": [
    "idx = []\n",
    "for i in range(len(paras)):\n",
    "    if 'with a slightly decreasing' in paras[i]:\n",
    "        idx.append(i)\n",
    "        \n",
    "paras[idx[0]-1] = paras[idx[0]-1].replace(paras[idx[0]-1], paras[idx[0]-1][:-1] + ' ' + paras[idx[0]])\n",
    "paras.remove(paras[idx[0]])"
   ]
  },
  {
   "cell_type": "code",
   "execution_count": null,
   "id": "ac4b9b3c",
   "metadata": {},
   "outputs": [],
   "source": [
    "paras"
   ]
  },
  {
   "cell_type": "code",
   "execution_count": null,
   "id": "b78bef8c",
   "metadata": {},
   "outputs": [],
   "source": [
    "idx = []\n",
    "for i in range(len(paras)):\n",
    "    if 'volumes of the alloy components.' in paras[i]:\n",
    "        idx.append(i)\n",
    "        \n",
    "paras[idx[0]-1] = paras[idx[0]-1].replace(paras[idx[0]-1], paras[idx[0]-1][:-1] + ' ' + paras[idx[0]])\n",
    "paras.remove(paras[idx[0]])"
   ]
  },
  {
   "cell_type": "code",
   "execution_count": null,
   "id": "af15a1f4",
   "metadata": {
    "scrolled": true
   },
   "outputs": [],
   "source": [
    "paras"
   ]
  },
  {
   "cell_type": "code",
   "execution_count": null,
   "id": "104ad128",
   "metadata": {},
   "outputs": [],
   "source": [
    "OHCO = ['para_num', 'sent_num', 'token_num']\n",
    "PARAS = pd.DataFrame(paras, columns=['para_str'])\n",
    "PARAS.index.names=OHCO[:1]\n",
    "SENTS = PARAS['para_str'].str.split(r'[.?!;:\"]+', expand=True).stack()\\\n",
    "    .to_frame().rename(columns={0:'sent_str'})\n",
    "SENTS.index.names = OHCO[:2]\n",
    "SENTS.sent_str = SENTS.sent_str.str.strip()\n",
    "TOKENS = SENTS['sent_str'].str.split(r\"[\\s',-]+\", expand=True).stack()\\\n",
    "    .to_frame('token_str')\n",
    "TOKENS.index.names = OHCO[:3]\n",
    "TOKENS.to_csv('doc3.csv')"
   ]
  },
  {
   "cell_type": "code",
   "execution_count": null,
   "id": "d6f9b49c",
   "metadata": {},
   "outputs": [],
   "source": [
    "TOKENS"
   ]
  },
  {
   "cell_type": "markdown",
   "id": "18c02f9a",
   "metadata": {},
   "source": [
    "### Document 4"
   ]
  },
  {
   "cell_type": "code",
   "execution_count": null,
   "id": "3f01e5d7",
   "metadata": {},
   "outputs": [],
   "source": [
    "import pandas as pd\n",
    "import re"
   ]
  },
  {
   "cell_type": "code",
   "execution_count": null,
   "id": "e97a2769",
   "metadata": {},
   "outputs": [],
   "source": [
    "with open ('4.txt',encoding='utf-8-sig') as f:\n",
    "    lines = f.read().strip().splitlines()"
   ]
  },
  {
   "cell_type": "code",
   "execution_count": null,
   "id": "dbf5bbc1",
   "metadata": {},
   "outputs": [],
   "source": [
    "len(lines)"
   ]
  },
  {
   "cell_type": "code",
   "execution_count": null,
   "id": "f0e6df48",
   "metadata": {},
   "outputs": [],
   "source": [
    "lines"
   ]
  },
  {
   "cell_type": "code",
   "execution_count": null,
   "id": "b7887d00",
   "metadata": {},
   "outputs": [],
   "source": [
    "spcChars = ['corresponding author', 'e-mail', 'https']\n",
    "for i in lines:\n",
    "    i = i.lower()\n",
    "    i = i.encode(\"ascii\", \"ignore\").decode()\n",
    "    i = re.sub('https*\\S+', '', i)\n",
    "    i = re.sub('#\\S+', '', i)\n",
    "    i = re.sub('\\'\\w+', '', i)\n",
    "    i = re.sub('\\s{2,}', '', i)"
   ]
  },
  {
   "cell_type": "code",
   "execution_count": null,
   "id": "3de0704b",
   "metadata": {},
   "outputs": [],
   "source": [
    "for i in lines:\n",
    "    i = i.lower()\n",
    "    i = i.encode(\"ascii\", \"ignore\").decode()\n",
    "    i = re.sub('https*\\S+', '', i)\n",
    "    i = re.sub('#\\S+', '', i)\n",
    "    i = re.sub('\\'\\w+', '', i)\n",
    "    i = re.sub('\\s{2,}', '', i)"
   ]
  },
  {
   "cell_type": "code",
   "execution_count": null,
   "id": "84deafec",
   "metadata": {},
   "outputs": [],
   "source": [
    "len(lines)"
   ]
  },
  {
   "cell_type": "code",
   "execution_count": null,
   "id": "20f3c975",
   "metadata": {},
   "outputs": [],
   "source": [
    "try:\n",
    "    for i in range(len(lines)):\n",
    "        for j in spcChars:\n",
    "            if j in lines[i].lower():\n",
    "                    del lines[i]\n",
    "\n",
    "except:\n",
    "    'IndexError'"
   ]
  },
  {
   "cell_type": "code",
   "execution_count": null,
   "id": "b4a14c20",
   "metadata": {},
   "outputs": [],
   "source": [
    "len(lines)"
   ]
  },
  {
   "cell_type": "code",
   "execution_count": null,
   "id": "d5436410",
   "metadata": {},
   "outputs": [],
   "source": [
    "lines"
   ]
  },
  {
   "cell_type": "code",
   "execution_count": null,
   "id": "78716e30",
   "metadata": {},
   "outputs": [],
   "source": [
    "try:\n",
    "    for i in range(len(lines)):\n",
    "        while u'\\u00a9' in lines[i]:\n",
    "            del lines[i]\n",
    "except:\n",
    "    'IndexError'"
   ]
  },
  {
   "cell_type": "code",
   "execution_count": null,
   "id": "7b4cc869",
   "metadata": {},
   "outputs": [],
   "source": [
    "len(lines)"
   ]
  },
  {
   "cell_type": "code",
   "execution_count": null,
   "id": "bdd9148a",
   "metadata": {},
   "outputs": [],
   "source": [
    "idx2=[]\n",
    "for j in range(len(lines)):\n",
    "    if 'acknowledgement' in lines[j].lower():\n",
    "        idx2.append(j)\n",
    "idx2\n",
    "lines = lines[:idx2[0]]"
   ]
  },
  {
   "cell_type": "code",
   "execution_count": null,
   "id": "735cf2b1",
   "metadata": {},
   "outputs": [],
   "source": [
    "lines = lines[:idx2[0]]"
   ]
  },
  {
   "cell_type": "code",
   "execution_count": null,
   "id": "4478bb9c",
   "metadata": {},
   "outputs": [],
   "source": [
    "len(lines)"
   ]
  },
  {
   "cell_type": "code",
   "execution_count": null,
   "id": "22eb1d3d",
   "metadata": {},
   "outputs": [],
   "source": [
    "# treat ending words \n",
    "lines_paragraph = []\n",
    "idx = 0\n",
    "paragraph = ''\n",
    "firstSentence = True\n",
    "\n",
    "while True:\n",
    "    if idx == len(lines) - 1:\n",
    "        lines_paragraph.append( paragraph.strip() )\n",
    "        print('end of text')\n",
    "        break\n",
    "    print( idx, lines )\n",
    "   \n",
    "    line = lines[idx].strip()\n",
    "    end_paragraph = True if len(line) == 0 else False\n",
    "    if not end_paragraph: \n",
    "        curr_end = False if line[-1] == '-' else True\n",
    "    else: \n",
    "        lines_paragraph.append( paragraph.strip() )\n",
    "        paragraph = ''\n",
    "        idx += 1\n",
    "        firstSentence = True\n",
    "        continue\n",
    "\n",
    "    if idx == 0:\n",
    "        paragraph += ' ' + line if curr_end else ' ' + line[:-1]\n",
    "    else: \n",
    "        prev_line = lines[idx-1].strip()\n",
    "    if not firstSentence:\n",
    "        prev_end = False if prev_line[-1] == '-' else True\n",
    "    else: \n",
    "        prev_end = True\n",
    "        firstSentence = False\n",
    "\n",
    "    if not prev_end and not curr_end:\n",
    "        paragraph += line[:-1]\n",
    "    elif not prev_end and curr_end:\n",
    "        paragraph += line\n",
    "    elif prev_end and curr_end:\n",
    "        paragraph += ' ' + line\n",
    "    elif prev_end and not curr_end:\n",
    "        paragraph += ' ' + line[:-1]\n",
    "    idx += 1"
   ]
  },
  {
   "cell_type": "code",
   "execution_count": null,
   "id": "398f390a",
   "metadata": {},
   "outputs": [],
   "source": [
    "len(lines_paragraph)"
   ]
  },
  {
   "cell_type": "code",
   "execution_count": null,
   "id": "6bd77afc",
   "metadata": {},
   "outputs": [],
   "source": [
    "while '' in lines_paragraph:\n",
    "    for i in range(len(lines_paragraph)):\n",
    "        try:\n",
    "            if lines_paragraph[i].strip() == '':\n",
    "                del lines_paragraph[i]\n",
    "        except:\n",
    "            'IndexError'"
   ]
  },
  {
   "cell_type": "code",
   "execution_count": null,
   "id": "3ba9423b",
   "metadata": {},
   "outputs": [],
   "source": [
    "len(lines_paragraph)"
   ]
  },
  {
   "cell_type": "code",
   "execution_count": null,
   "id": "9907282a",
   "metadata": {},
   "outputs": [],
   "source": [
    "# remove reference, equations, \n",
    "ref_regex = '\\[([0-9]+|([0-9]+|\\,)+)\\]'\n",
    "equt_regex = '\\([0-9]+\\)'\n",
    "nonEnglish_regex = '^[^A-Za-z][^A-Za-z0-9/()\\-]*'\n",
    "multispace_regex = ' {2,}'\n",
    "lines_paragraph_removed = []\n",
    "for para_idx, paragraph in enumerate(lines_paragraph):\n",
    "    sentences = paragraph.split('. ')\n",
    "    newParagraph = ''\n",
    "    print( 'paragraph', para_idx )\n",
    "    paragraph = [x for x in sentences if len(x) != 0]\n",
    "    for sent_idx, sentence in enumerate(sentences):  \n",
    "    # if len(paragraph) == 1:\n",
    "    #   if len(paragraph[0]) > 20:\n",
    "    #     print( 'remove equation', paragraph)\n",
    "    #     break\n",
    "\n",
    "        if sent_idx == len(sentences) - 1:\n",
    "            if sentence[-1] == '.':\n",
    "                sentence = sentence[:-1]\n",
    "        sentence = sentence.strip()\n",
    "        newSentence = re.sub( ref_regex, '', sentence ).strip()\n",
    "        newSentence = re.sub( equt_regex, '', newSentence ).strip()\n",
    "        newSentence = re.sub( nonEnglish_regex, '', newSentence ).strip()\n",
    "        newSentence = re.sub( multispace_regex, ' ', newSentence ).strip()\n",
    "\n",
    "        newParagraph += ' ' + newSentence + '.'\n",
    "    \n",
    "    # check newSentence is empty\n",
    "    print( '', 'sentence', sent_idx )\n",
    "    print( '', '', sentence)\n",
    "    print( '', '', newSentence)\n",
    "    lines_paragraph_removed.append(newParagraph.strip())"
   ]
  },
  {
   "cell_type": "code",
   "execution_count": null,
   "id": "b80d6585",
   "metadata": {},
   "outputs": [],
   "source": [
    "len(lines_paragraph_removed)"
   ]
  },
  {
   "cell_type": "code",
   "execution_count": null,
   "id": "d05ea08c",
   "metadata": {},
   "outputs": [],
   "source": [
    "paras = lines_paragraph_removed"
   ]
  },
  {
   "cell_type": "code",
   "execution_count": null,
   "id": "39fa92f9",
   "metadata": {},
   "outputs": [],
   "source": [
    "paras"
   ]
  },
  {
   "cell_type": "code",
   "execution_count": null,
   "id": "015121f0",
   "metadata": {},
   "outputs": [],
   "source": [
    "idx2 = []\n",
    "for j in range(len(paras)):\n",
    "    if 'ABSTRACT.' in paras[j]:\n",
    "        idx2.append(j)"
   ]
  },
  {
   "cell_type": "code",
   "execution_count": null,
   "id": "79261305",
   "metadata": {},
   "outputs": [],
   "source": [
    "idx2"
   ]
  },
  {
   "cell_type": "code",
   "execution_count": null,
   "id": "366fcb68",
   "metadata": {},
   "outputs": [],
   "source": [
    "paras = paras[idx2[0]+1:]"
   ]
  },
  {
   "cell_type": "code",
   "execution_count": null,
   "id": "5c439dad",
   "metadata": {},
   "outputs": [],
   "source": [
    "paras"
   ]
  },
  {
   "cell_type": "code",
   "execution_count": null,
   "id": "41ccf866",
   "metadata": {},
   "outputs": [],
   "source": [
    "drop_list = ['. Introduction.', '8 V. Shivam et al. Journal of Alloys and Compounds 757 87—97.',\n",
    "            '. Materials and experimental details.', '. Results.', 'Intensity (arb.units).',\n",
    " '0 (degree).',\n",
    " 'Fig. . XRD patterns of AlCoCrFeNiMn HEA powders with different milling time. Evolution of the BCC phase is evident with the progress of milling.',\n",
    " 'V. Shivam et al. Journal of Alloys and Compounds 757 87—97 89.', 'Table 1 The crystallite size and lattice strain of equiatomic AlCoCrFeNiMn high entropy alloy powder.',\n",
    " 'Milling time (h) 5h 10h 15h 20h 25h 30h.',\n",
    " 'Crystallite size(nm) 20 18 17 17 16 15 15 15 Lattice strain (%) 0.54 061 063 O66 067 068 069 0.70.',\n",
    " '5h 40h.',\n",
    " 'Intensity (arb. units).',\n",
    " '0 (degree).',\n",
    " 'Fig. . XRD patterns of (a) AlCoCr (b) FeMnNi (c) AlCoCrFeNiMn HEA powders with different milling time. In (a) after 20h of milling, no known phase appears. In (b) the phases cannot be ascertained and in (c) BCC phase appears after 25 h of milling of 20 h milled powder of (a) & (b).',\n",
    "             '0 V. Shivam et al. Journal of Alloys and Compounds 757 87—97.',  \n",
    "            'No. of particles.',\n",
    " 'an as > maa in N = N an.',\n",
    " '3.0.',\n",
    " 'Particle size (4m).',\n",
    " 'Fig. . Particle size distribution in equiatomic AlCoCrFeNiMn high entropy alloy after 40h of milling. The median particle size is in the range ~ 1—1.5 pm.',\n",
    "            'Fig. . SEM micrographs of AlCoCrFeNiMn HEA powders with 40h of milling at different magnifications. In both the cases fractured particles with extensive river pattern on the.',\n",
    " 'surfaces can be observed.',\n",
    " 'V. Shivam et al. Journal of Alloys and Compounds 757 87—97 91.',\n",
    " 'Fig. . TEM bright field image (a) of 40h milled AlCoCrFeNiMn HEA powder and corresponding SAD pattern (b) with HRTEM (c). From the diffraction pattern, the presence of the BCC phase can be confirmed. Similar spacings are observed in the high-resolution image also.',\n",
    "         'B\\\\ o£ i In (4 = —Rr, + C; (Kissinger equation) E. In(@) = -RT C, (Ozawa equation).',\n",
    "             '2 V. Shivam et al. Journal of Alloys and Compounds 757 87—97.',\n",
    " 'i 100 2m.',\n",
    " \"emmee AL's ALLL.\",\n",
    " 'a.',\n",
    " 'MY.',\n",
    " '100 nm.',\n",
    " 'Fig. . The STEM-EDS mapping of equiatomic AlCoCrFeNiMn hexanary high entropy alloy after 40 h of milling. The elements are homogeneously distributed to give rise to the single.',\n",
    " 'BCC phase.',\n",
    "              'V. Shivam et al. Journal of Alloys and Compounds 757 87—97 93.',\n",
    " 'DSC/nuV/mg).',\n",
    " '00 600 800 1000 Temperature (°C).',\n",
    "             \n",
    "          'Fig. . DSC thermogram of 40h milled AlCoCrFeNiMn high entropy alloy powder at different heating rates. Two exothermic heat events are observed at higher heating rates which are reduced to one heat event at lower heating rates, attributed to the diffusional nature of the transformation process.',\n",
    " '50° C (1223 K) & 1000 °C (1273 K) have been shown in Fig. 3. It is evident that along with the BCC phase, the nucleation of an ordered NisAl type intermetallic phase takes place.',\n",
    " '. Discussion 4.1. HEAs and BMGs.', 'Table 2.',\n",
    " 'Intensity (arb. units).',\n",
    " '0 60 90 20 (degree) Fig. . XRD patterns of 40h milled AlCoCrFeNiMn high entropy alloy powder upto.',\n",
    " '00°C (773 K). No phase transformation is observed up to this temperature, which signifies that the alloy is stable up to this temperature.',\n",
    " 'FCC .BCC *Mn,Co, # LI, phase.',\n",
    " 'Intensity (arb. units).',\n",
    " '0 40 60 80 100 20 (degree).',\n",
    " 'Fig. . XRD pattern 40 h milled AlCoCrFeNiMn high entropy alloy powder upto 800°C (1073 K). Sequential precipitation of Llz phase and Mn3Co7 phases are clearly observed.',\n",
    "      'Activation energy calculation by Kissinger and Ozawa model for the first transformation event of the AlCoCrFeNiMn high entropy alloy.',\n",
    " 'Heating Rate , K/min Peak Temperature (K).',\n",
    " '0 814 20 822 40 838.',\n",
    " '0 840.',\n",
    " 'Activation Energies kJ/mol-K.',\n",
    " '10 (Kissinger model) 324 (Ozawa model).',\n",
    " '4 V. Shivam et al. Journal of Alloys and Compounds 757 87—97.',\n",
    " 'BON alin) ae.',\n",
    " 'Fig. 0. Bright field image and corresponding SADP of AlCoCrFeNiMn powder sintered at 500 °C (773 K) under control atmosphere. Fine-grained structure (shown with arrows) of.',\n",
    " 'the alloy and the presence of the BCC phase is observed after sintering.',\n",
    " 'C00) ge.',\n",
    " '.',\n",
    " '.',\n",
    " '.',\n",
    " 'Fig. 1. a) Bright field image and (b) corresponding SADP of AlCoCrFeNiMn powder sintered at 800°C (1073 K) under control atmosphere. The grains are faceted (shown with.',\n",
    " 'arrows) however not extraordinarily grown due to sluggish diffusion kinetics.', '2. Mechanical alloying behaviour of AlCoCrFeMnNi HEA.',\n",
    "            'V. Shivam et al. Journal of Alloys and Compounds 757 87—97 95.',\n",
    " 'Fig. 2. Optical micrographs of AlCoCrFeNiMn HEA compact after microwave sintering at (a) 900 °C (1173 K)(b) 950 °C (1223 K) (c) 1000 °C (1273 K). Fine distribution of grains and.',\n",
    " 'porosity (shown with arrows) can be observed.',\n",
    " 'BCC # LI, phase.',\n",
    " 'Intensity (arb.units).',\n",
    " '0 40 60 80 20 (degree).',\n",
    " 'Fig. 3. XRD patterns of AlCoCrFeNiMn HEA alloy compact after microwave sintering at 900 °C(1173 K), 950 °C (1223 K) & 1000°C (1273 K). Along with the BCC phase, the presence of L12 phase can also be discerned.',\n",
    "      'Table 3 The values of atomic size difference 5 (%) in the AlCoCrFeNiMn high entropy alloys system.',\n",
    " 'Element Al Co Cr Fe Ni Mn.',\n",
    " 'Al _ 6.7 6.8 71 6.9 2.9 Co 6.7 a 0.08 0.4 0.2 3.8 Cr 6.8 0.08 = 0.32 0.12 3.9 Fe 7.1 0.4 0.32 _ 0.20 4.2 Ni 6.9 0.2 0.12 0.20 = 4.0 Mn 2.9 3.8 3.9 4.2 4.0 _.',\n",
    "      '6 V. Shivam et al. Journal of Alloys and Compounds 757 87—97.',\n",
    " 'Table 4 The values of chemical enthalpy of mixing( AH\", kJ/mol), of atomic pairs for AlCoCrFeMnNi high entropy alloy, following the Miedema\\'s approach.',\n",
    " 'Element Al Co Cr Fe Ni Mn Al _ —19 —10 -11 —22 -19 Co -19 - —4 -1 0 —5 Cr —10 —4 - -1 -7 2.',\n",
    " 'Fe —11 -1 -1 — —2 0.',\n",
    " 'Ni —22 0 —7 —2 - -8 Mn -19 —5 2 0 -8 =.',\n",
    " 'Table 5.',\n",
    " 'Calculated thermodynamic and physical parameters for AlCoCrFeMnNi high entropy.',\n",
    " 'alloy. K-1 Q AR mix (Kot) ASconf.',\n",
    " '11.39 1944 14.89 2.5.',\n",
    " 'Tm (K).',\n",
    "       '3. Thermal stability of the phases evolved in the AlCoCrFeMnNi HEA.']"
   ]
  },
  {
   "cell_type": "code",
   "execution_count": null,
   "id": "6992fe76",
   "metadata": {},
   "outputs": [],
   "source": [
    "for i in drop_list:\n",
    "    paras.remove(i)"
   ]
  },
  {
   "cell_type": "code",
   "execution_count": null,
   "id": "e0cccabd",
   "metadata": {},
   "outputs": [],
   "source": [
    "paras"
   ]
  },
  {
   "cell_type": "code",
   "execution_count": null,
   "id": "34d2c2ab",
   "metadata": {},
   "outputs": [],
   "source": [
    "for i in paras:\n",
    "    if 'solutions. Equiatomic CoCrFeNiMn was the first alloy' in i:\n",
    "        idx = paras.index(i)\n"
   ]
  },
  {
   "cell_type": "code",
   "execution_count": null,
   "id": "cdcdde60",
   "metadata": {},
   "outputs": [],
   "source": [
    "result = paras[idx].find('It can be concluded from the present work that') "
   ]
  },
  {
   "cell_type": "code",
   "execution_count": null,
   "id": "3bef4aaf",
   "metadata": {},
   "outputs": [],
   "source": [
    "result"
   ]
  },
  {
   "cell_type": "code",
   "execution_count": null,
   "id": "723683da",
   "metadata": {},
   "outputs": [],
   "source": [
    "paras[idx] = paras[idx][result:]"
   ]
  },
  {
   "cell_type": "code",
   "execution_count": null,
   "id": "ef40e81d",
   "metadata": {},
   "outputs": [],
   "source": [
    "paras"
   ]
  },
  {
   "cell_type": "code",
   "execution_count": null,
   "id": "8cce95d0",
   "metadata": {},
   "outputs": [],
   "source": [
    "idx = []\n",
    "for i in range(len(paras)):\n",
    "    if 'transformation starts beforehand' in paras[i]:\n",
    "        idx.append(i)\n",
    "        \n",
    "paras[idx[0]-1] = paras[idx[0]-1].replace(paras[idx[0]-1], paras[idx[0]-1][:-1] + ' ' + paras[idx[0]])\n",
    "paras.remove(paras[idx[0]])"
   ]
  },
  {
   "cell_type": "code",
   "execution_count": null,
   "id": "f5a83b6e",
   "metadata": {
    "scrolled": true
   },
   "outputs": [],
   "source": [
    "paras"
   ]
  },
  {
   "cell_type": "code",
   "execution_count": null,
   "id": "ea623c53",
   "metadata": {},
   "outputs": [],
   "source": [
    "idx = []\n",
    "for i in range(len(paras)):\n",
    "    if '. Conclusions It can be concluded' in paras[i]:\n",
    "        idx.append(i)\n",
    "paras[idx[0]] = paras[idx[0]].replace('. Conclusions ', '')"
   ]
  },
  {
   "cell_type": "code",
   "execution_count": null,
   "id": "022e89a3",
   "metadata": {},
   "outputs": [],
   "source": [
    "idx = []\n",
    "for i in range(len(paras)):\n",
    "    if 'Visible light micrographs of microwave' in paras[i]:\n",
    "        idx.append(i)\n",
    "paras[idx[0]] = paras[idx[0]].replace(paras[idx[0]], paras[idx[0]][:-1] + ' ' + '950 C (1223 K) & 1000 C (1273 K) have been shown in Fig. 13. It is evident that along with the BCC phase, the nucleation of an ordered Ni3Al type intermetallic phase takes place.')"
   ]
  },
  {
   "cell_type": "code",
   "execution_count": null,
   "id": "5884a49c",
   "metadata": {},
   "outputs": [],
   "source": [
    "idx = []\n",
    "for i in range(len(paras)):\n",
    "    if 'It can be concluded from the present work that.' in paras[i]:\n",
    "        idx.append(i)\n",
    "    elif '. AlCoCrFeNiMn equiatomic alloy leads to the formation of a single-phase BCC' in paras[i]:\n",
    "        idx.append(i)\n",
    "    elif '. The semi-empirical thermodynamic analysis reveals' in paras[i]:\n",
    "        idx.append(i)\n",
    "    elif '. The high entropy alloy is stable upto ~500 °C (773 K)' in paras[i]:\n",
    "        idx.append(i)\n",
    "    elif '. Consolidated and sintered pellet of the same alloy after' in paras[i]:\n",
    "        idx.append(i)"
   ]
  },
  {
   "cell_type": "code",
   "execution_count": null,
   "id": "916da623",
   "metadata": {},
   "outputs": [],
   "source": [
    "paras[idx[0]] = paras[idx[0]].replace(paras[idx[0]], paras[idx[0]] + ' ' + paras[idx[1]][2:] + ' ' + paras[idx[2]][2:] + ' ' + paras[idx[3]][2:] + ' ' + paras[idx[4]][2:])"
   ]
  },
  {
   "cell_type": "code",
   "execution_count": null,
   "id": "41a390c6",
   "metadata": {},
   "outputs": [],
   "source": [
    "paras"
   ]
  },
  {
   "cell_type": "code",
   "execution_count": null,
   "id": "329127a9",
   "metadata": {},
   "outputs": [],
   "source": [
    "idx = []\n",
    "for i in range(len(paras)):\n",
    "    if '. AlCoCrFeNiMn equiatomic alloy leads to the formation' in paras[i]:\n",
    "        idx.append(i)\n",
    "paras=paras[:idx[1]]"
   ]
  },
  {
   "cell_type": "code",
   "execution_count": null,
   "id": "b2c6b482",
   "metadata": {},
   "outputs": [],
   "source": [
    "idx = []\n",
    "for i in range(len(paras)):\n",
    "    if 'Activation energy calculation for the transformation of this alloy' in paras[i]:\n",
    "        idx.append(i)"
   ]
  },
  {
   "cell_type": "code",
   "execution_count": null,
   "id": "5f1d593e",
   "metadata": {},
   "outputs": [],
   "source": [
    "paras[idx[0]] = paras[idx[0]].replace(paras[idx[0]], paras[idx[0]-1][:-1] + ' ' + paras[idx[0]])"
   ]
  },
  {
   "cell_type": "code",
   "execution_count": null,
   "id": "3d84e3a7",
   "metadata": {},
   "outputs": [],
   "source": [
    "paras[idx[0]-1][:-1]"
   ]
  },
  {
   "cell_type": "code",
   "execution_count": null,
   "id": "f001a657",
   "metadata": {},
   "outputs": [],
   "source": [
    "paras.remove(paras[12])"
   ]
  },
  {
   "cell_type": "code",
   "execution_count": null,
   "id": "74b6c5df",
   "metadata": {},
   "outputs": [],
   "source": [
    "paras"
   ]
  },
  {
   "cell_type": "code",
   "execution_count": null,
   "id": "295090c3",
   "metadata": {},
   "outputs": [],
   "source": [
    "OHCO = ['para_num', 'sent_num', 'token_num']\n",
    "PARAS = pd.DataFrame(paras, columns=['para_str'])\n",
    "PARAS.index.names=OHCO[:1]\n",
    "SENTS = PARAS['para_str'].str.split(r'[.?!;:\"]+', expand=True).stack()\\\n",
    "    .to_frame().rename(columns={0:'sent_str'})\n",
    "SENTS.index.names = OHCO[:2]\n",
    "SENTS.sent_str = SENTS.sent_str.str.strip()\n",
    "TOKENS = SENTS['sent_str'].str.split(r\"[\\s',-]+\", expand=True).stack()\\\n",
    "    .to_frame('token_str')\n",
    "TOKENS.index.names = OHCO[:3]\n",
    "TOKENS.to_csv('doc4.csv')"
   ]
  },
  {
   "cell_type": "code",
   "execution_count": null,
   "id": "63183fa0",
   "metadata": {},
   "outputs": [],
   "source": [
    "TOKENS"
   ]
  },
  {
   "cell_type": "markdown",
   "id": "9b9fedb1",
   "metadata": {},
   "source": [
    "### Document 5"
   ]
  },
  {
   "cell_type": "code",
   "execution_count": null,
   "id": "c70e4a49",
   "metadata": {},
   "outputs": [],
   "source": [
    "import pandas as pd\n",
    "import re"
   ]
  },
  {
   "cell_type": "code",
   "execution_count": null,
   "id": "4ee7aae5",
   "metadata": {},
   "outputs": [],
   "source": [
    "with open ('5.txt',encoding='utf-8-sig') as f:\n",
    "    lines = f.read().strip().splitlines()"
   ]
  },
  {
   "cell_type": "code",
   "execution_count": null,
   "id": "9dfea6dc",
   "metadata": {},
   "outputs": [],
   "source": [
    "len(lines)"
   ]
  },
  {
   "cell_type": "code",
   "execution_count": null,
   "id": "03bdb7e2",
   "metadata": {},
   "outputs": [],
   "source": [
    "lines"
   ]
  },
  {
   "cell_type": "code",
   "execution_count": null,
   "id": "93c9fb0a",
   "metadata": {},
   "outputs": [],
   "source": [
    "spcChars = ['corresponding author', 'e-mail', 'https']\n",
    "for i in lines:\n",
    "    i = i.lower()\n",
    "    i = i.encode(\"ascii\", \"ignore\").decode()\n",
    "    i = re.sub('https*\\S+', '', i)\n",
    "    i = re.sub('#\\S+', '', i)\n",
    "    i = re.sub('\\'\\w+', '', i)\n",
    "    i = re.sub('\\s{2,}', '', i)\n",
    "\n",
    "try:\n",
    "    for i in range(len(lines)):\n",
    "        for j in spcChars:\n",
    "            if j in lines[i].lower():\n",
    "                    del lines[i]\n",
    "\n",
    "except:\n",
    "    'IndexError'\n",
    "    \n",
    "for j in [u'\\u00a9', u'\\u00Ae']:\n",
    "    try:\n",
    "        for i in range(len(lines)):\n",
    "            while  in lines[i]:\n",
    "                del lines[i]\n",
    "    except:\n",
    "        'IndexError'"
   ]
  },
  {
   "cell_type": "code",
   "execution_count": null,
   "id": "ea51389f",
   "metadata": {},
   "outputs": [],
   "source": []
  },
  {
   "cell_type": "code",
   "execution_count": null,
   "id": "8a617b10",
   "metadata": {},
   "outputs": [],
   "source": [
    "try:\n",
    "    for i in range(len(lines)):\n",
    "        for j in spcChars:\n",
    "            if j in lines[i].lower():\n",
    "                    del lines[i]\n",
    "\n",
    "except:\n",
    "    'IndexError'"
   ]
  },
  {
   "cell_type": "code",
   "execution_count": null,
   "id": "1cf9d9b1",
   "metadata": {},
   "outputs": [],
   "source": [
    "len(lines)"
   ]
  },
  {
   "cell_type": "code",
   "execution_count": null,
   "id": "606a5754",
   "metadata": {},
   "outputs": [],
   "source": [
    "try:\n",
    "    for i in range(len(lines)):\n",
    "        while u'\\u00a9' in lines[i]:\n",
    "            del lines[i]\n",
    "except:\n",
    "    'IndexError'"
   ]
  },
  {
   "cell_type": "code",
   "execution_count": null,
   "id": "9863cd5c",
   "metadata": {},
   "outputs": [],
   "source": [
    "len(lines)"
   ]
  },
  {
   "cell_type": "code",
   "execution_count": null,
   "id": "3d9b2027",
   "metadata": {},
   "outputs": [],
   "source": [
    "idx2=[]\n",
    "for j in range(len(lines)):\n",
    "    if 'acknowledgement' in lines[j].lower():\n",
    "        idx2.append(j)\n",
    "idx2\n",
    "lines = lines[:idx2[0]]"
   ]
  },
  {
   "cell_type": "code",
   "execution_count": null,
   "id": "5d09d8da",
   "metadata": {},
   "outputs": [],
   "source": [
    "len(lines)"
   ]
  },
  {
   "cell_type": "code",
   "execution_count": null,
   "id": "64a09e22",
   "metadata": {},
   "outputs": [],
   "source": [
    "# treat ending words \n",
    "lines_paragraph = []\n",
    "idx = 0\n",
    "paragraph = ''\n",
    "firstSentence = True\n",
    "\n",
    "while True:\n",
    "    if idx == len(lines) - 1:\n",
    "        lines_paragraph.append( paragraph.strip() )\n",
    "        print('end of text')\n",
    "        break\n",
    "    print( idx, lines )\n",
    "   \n",
    "    line = lines[idx].strip()\n",
    "    end_paragraph = True if len(line) == 0 else False\n",
    "    if not end_paragraph: \n",
    "        curr_end = False if line[-1] == '-' else True\n",
    "    else: \n",
    "        lines_paragraph.append( paragraph.strip() )\n",
    "        paragraph = ''\n",
    "        idx += 1\n",
    "        firstSentence = True\n",
    "        continue\n",
    "\n",
    "    if idx == 0:\n",
    "        paragraph += ' ' + line if curr_end else ' ' + line[:-1]\n",
    "    else: \n",
    "        prev_line = lines[idx-1].strip()\n",
    "    if not firstSentence:\n",
    "        prev_end = False if prev_line[-1] == '-' else True\n",
    "    else: \n",
    "        prev_end = True\n",
    "        firstSentence = False\n",
    "\n",
    "    if not prev_end and not curr_end:\n",
    "        paragraph += line[:-1]\n",
    "    elif not prev_end and curr_end:\n",
    "        paragraph += line\n",
    "    elif prev_end and curr_end:\n",
    "        paragraph += ' ' + line\n",
    "    elif prev_end and not curr_end:\n",
    "        paragraph += ' ' + line[:-1]\n",
    "    idx += 1"
   ]
  },
  {
   "cell_type": "code",
   "execution_count": null,
   "id": "e90ef2dd",
   "metadata": {},
   "outputs": [],
   "source": [
    "len(lines_paragraph)"
   ]
  },
  {
   "cell_type": "code",
   "execution_count": null,
   "id": "0b1618f9",
   "metadata": {},
   "outputs": [],
   "source": [
    "lines_paragraph"
   ]
  },
  {
   "cell_type": "code",
   "execution_count": null,
   "id": "0ff47365",
   "metadata": {},
   "outputs": [],
   "source": [
    "while '' in lines_paragraph:\n",
    "    for i in range(len(lines_paragraph)):\n",
    "        try:\n",
    "            if lines_paragraph[i].strip() == '':\n",
    "                del lines_paragraph[i]\n",
    "        except:\n",
    "            'IndexError'"
   ]
  },
  {
   "cell_type": "code",
   "execution_count": null,
   "id": "93639f26",
   "metadata": {},
   "outputs": [],
   "source": [
    "len(lines_paragraph)"
   ]
  },
  {
   "cell_type": "code",
   "execution_count": null,
   "id": "877c1e09",
   "metadata": {},
   "outputs": [],
   "source": [
    "lines_paragraph"
   ]
  },
  {
   "cell_type": "code",
   "execution_count": null,
   "id": "a2cdb932",
   "metadata": {},
   "outputs": [],
   "source": [
    "# remove reference, equations, \n",
    "ref_regex = '\\[([0-9]+|([0-9]+|\\,)+)\\]'\n",
    "equt_regex = '\\([0-9]+\\)'\n",
    "nonEnglish_regex = '^[^A-Za-z][^A-Za-z0-9/()\\-]*'\n",
    "multispace_regex = ' {2,}'\n",
    "lines_paragraph_removed = []\n",
    "for para_idx, paragraph in enumerate(lines_paragraph):\n",
    "    sentences = paragraph.split('. ')\n",
    "    newParagraph = ''\n",
    "    print( 'paragraph', para_idx )\n",
    "    paragraph = [x for x in sentences if len(x) != 0]\n",
    "    for sent_idx, sentence in enumerate(sentences):  \n",
    "    # if len(paragraph) == 1:\n",
    "    #   if len(paragraph[0]) > 20:\n",
    "    #     print( 'remove equation', paragraph)\n",
    "    #     break\n",
    "\n",
    "        if sent_idx == len(sentences) - 1:\n",
    "            if sentence[-1] == '.':\n",
    "                sentence = sentence[:-1]\n",
    "        sentence = sentence.strip()\n",
    "        newSentence = re.sub( ref_regex, '', sentence ).strip()\n",
    "        newSentence = re.sub( equt_regex, '', newSentence ).strip()\n",
    "        newSentence = re.sub( nonEnglish_regex, '', newSentence ).strip()\n",
    "        newSentence = re.sub( multispace_regex, ' ', newSentence ).strip()\n",
    "\n",
    "        newParagraph += ' ' + newSentence + '.'\n",
    "    \n",
    "    # check newSentence is empty\n",
    "    print( '', 'sentence', sent_idx )\n",
    "    print( '', '', sentence)\n",
    "    print( '', '', newSentence)\n",
    "    lines_paragraph_removed.append(newParagraph.strip())"
   ]
  },
  {
   "cell_type": "code",
   "execution_count": null,
   "id": "446aa26e",
   "metadata": {},
   "outputs": [],
   "source": [
    "len(lines_paragraph_removed)"
   ]
  },
  {
   "cell_type": "code",
   "execution_count": null,
   "id": "e578292a",
   "metadata": {},
   "outputs": [],
   "source": [
    "paras = lines_paragraph_removed"
   ]
  },
  {
   "cell_type": "code",
   "execution_count": null,
   "id": "58af6952",
   "metadata": {},
   "outputs": [],
   "source": [
    "paras"
   ]
  },
  {
   "cell_type": "code",
   "execution_count": null,
   "id": "1f4bd1df",
   "metadata": {},
   "outputs": [],
   "source": [
    "drop_list=['np} Computational Materials np} Computational Materials.',\n",
    " 'ARTICLE OPEN.',\n",
    " 'www.nature.com/npjcompumats.',\n",
    " 'First-principles-based prediction of yield strength in the RhIrPdPtNiCu high-entropy alloy.',\n",
    " \"Binglun Yin' and William A. Curtin’.\",\n",
    "        'INTRODUCTION.',   'Laboratory for Multiscale Mechanics Modeling (LAMMM) and National Centre for Computational Design and Discovery of Novel Materials (NCCR MARVEL), Ecole Polytechnique.',\n",
    " 'Fédérale de Lausanne, 1015 Lausanne, Switzerland Correspondence: Binglun Yin (binglun.yin@epfl.ch).',\n",
    " 'Received: 17 August 2018 Accepted: 10 January 2019 Published online: 05 February 2019.',\n",
    " 'Published in partnership with the Shanghai Institute of Ceramics of the Chinese Academy of Sciences.',\n",
    " 'np} nature partner.',\n",
    " 'journals.',\n",
    " 'Np).',\n",
    " '.',\n",
    " 'B. Yin and W.A. Curtin.', \n",
    "          'T3520 AE, = 2.5785 a b? P36,.',\n",
    " 'ee Tyo = 0.04865 Pe P363,.',\n",
    " 'where 6 is the dislocation Burgers vector, and.',\n",
    " '2S~ c,AV2/.',\n",
    " 'is the well-known 6-parameter that describes the collective effect of the misfit volumes of all the elements in the alloy. In addition,.',\n",
    " 'P= abyyo/11107, Mirosiaa = (Cir — Cra + Cag) /3.',\n",
    "     'T3520 AE, = 2.5785 a b? P36,.',\n",
    " 'ee Tyo = 0.04865 Pe P363,.',\n",
    " 'where 6 is the dislocation Burgers vector, and.',\n",
    " '2S~ c,AV2/.',\n",
    " 'is the well-known 6-parameter that describes the collective effect of the misfit volumes of all the elements in the alloy. In addition,.',\n",
    " 'P= abyyo/11107, Mirosiaa = (Cir — Cra + Cag) /3.',  '.',\n",
    " 'elastic constants y°’° and v*”° as 1 + prre P(Cy1, Ci2, Cag) = ae.',\n",
    " \"Previous applications of the model used experimentally measured isotropic elastic constants of the alloy, u®°t and v&%Pt.7'° A forthcoming full anisotropic analysis will demonstrate that the use.\",\n",
    " 'of the Voigt-averaged elastic constants UY = (Cy — Ga + 3Caa)/5,.',\n",
    " '9, v SBS ee 2(3B + yu\") B= (Gi + 2G2)/3,.',\n",
    " 'where B is the bulk modulus agrees with the full anisotropic model to within ~3% over a wide range of elastic anisotropy. We will thus use the Voigt-averaged values.',\n",
    " 'The resulting strength versus temperature T and strain-rate € is.',\n",
    " '.',\n",
    " 'kgT | €9\\\\3 ty(T, é) = Tyo(T) ; _ (ear?) | ; where é) =10*s | is a reference strain-rate determined by the dislocation density and other factors. The properties entering Tyo(T) and AE,(T) should in principle be computed at the temperature of interest, especially the elastic constants. We discuss this further in Section “Yield strength prediction.” Experiments are typically performed in uniaxial tension on random untextured polycrystalline specimens. The measured uniaxial yield.',\n",
    " 'npj Computational Materials 14.',  'Misfit volumes.', 'AV, = )~ cm(avn,.',\n",
    " 'm.', 'V = Vo + AVnXs, AN,.',\n",
    " 'Ntt(1 — cp).', 'Published in partnership with the Shanghai Institute of Ceramics of the Chinese Academy of Sciences.',\n",
    " 'Table 1. Compositions and supercell formulas used here to compute misfit volumes.',\n",
    " 'X, (at.%).',\n",
    " 'Formula Not.',\n",
    " '6 A¢(ABCDEF),7 108 42 A¢(ABCDEF)23 144 0.0 Ao(ABCDEF),3 108 0.0 Ao(ABCDEF) >, 144 8 A_,(ABCDEF)>> 128.', \n",
    "      'Published in partnership with the Shanghai Institute of Ceramics of the Chinese Academy of Sciences.',\n",
    " 'B. Yin and W.A. Curtin.', 'Elastic constants.',  '86 176 176 -4 -2 -3 284 172 171 -1 -3 -2.',\n",
    " '96 182 -4 1 -3 288 176 -1 O -1 297 -5 OO -2 286 0 -2 -1 111-2 -2]? 111-1 #0.',\n",
    " 'sym 113, -2 sym 110 —2.',\n",
    " '13 112.', 'npj Computational Materials 14.',\n",
    " 'Np).',\n",
    " 'np}.',\n",
    " 'B. Yin and W.A. Curtin.',\n",
    " '4 Vo= 13.840 A’ 13.95 £ a= 3.811 A 44Pt A | Z ¥ Pd —~ 13.9F | 7 wT. PA -_ S 1385p Z—— O94 Rh o> l << 13.8; e. . 3.75 : ~~ cu 13.7 | R2= 0.997 | As. do , nAVn= 0.000 A® b= 3.873% Ni 13.65 1 1 1 1 1 1 1 L L 1 6 -5 -4 -32 2 -1 0 12 3 4 5 6 xs (at.%).',\n",
    " 'Fig. Atomic volumes of random alloys at compositions surrounding the equi-composition RhirPdPtNiCu alloy for various changes in composition. Solid lines show the linear regression that leads to the computed misfit volumes shown in Table 2, with the R? value indicated.',\n",
    " 'Table 2. Lattice constant, misfit volumes, and 6-parameter from direct DFT calculations of the RhirPdPtNiCu HEA.',\n",
    " \"Density functional theory (DFT) Vegard's law.\",\n",
    " 'dp (A).',\n",
    " 'AVan (A*) AV, (A*) AVwi (A*) AVpq (A”) AVpr (A*) AVcu (A’) 6 (%).',\n",
    " '811 0.253 0.767 —2.581 1.412 1.835 —1.686 3.873.',\n",
    " '800 0.259 0.799 —2.841 1.605 1.893 —1.715 4.193.',\n",
    " \"Also show for comparison are results from the application of Vegard's law using the elemental DFT lattice constants.\",\n",
    "       'npj Computational Materials 14.',\n",
    " 'Table 3. Density functional theory (DFT)-computed material.',\n",
    " 'quantities at T= 0K entering the solute strengthening model, and the resulting predicted yield strength at the experimental conditions of T=300K, é=10 45!.',\n",
    " 'dp (A).',\n",
    " '(%).',\n",
    " 'C11 (GPa) Cy2 (GPa) C44 (GPa).',\n",
    " 'u’ (GPa) v” 90 H110/111 (GPa) 75.',\n",
    " 'oy (MPa) 583.',\n",
    " 'The experimentally reported yield strength is shown in parenthesis.', 'Published in partnership with the Shanghai Institute of Ceramics of the Chinese Academy of Sciences.',\n",
    " 'Yield strength prediction.', 'DISCUSSION.',  'Published in partnership with the Shanghai Institute of Ceramics of the Chinese Academy of Sciences.',\n",
    " 'B. Yin and W.A. Curtin.', 'AV, _ V({Cn + (1 _ Gy Ket ~~ CmXs}) 7 V({Cn}) ,.',\n",
    " 'Xs.', 'npj Computational Materials 14.',\n",
    " 'Np).',\n",
    " 'Np).',\n",
    " '.',\n",
    " 'B. Yin and W.A. Curtin.', 'METHODS DFT methodology.', 'DATA AVAILABILITY.',\n",
    " 'The data that support the findings of this study are available from the corresponding doi.org/10.24435/materialscloud:2018.0019/v1).']"
   ]
  },
  {
   "cell_type": "code",
   "execution_count": null,
   "id": "7f172940",
   "metadata": {},
   "outputs": [],
   "source": [
    "try:\n",
    "    for i in drop_list:\n",
    "        paras.remove(i)\n",
    "except:\n",
    "    'ValueError'"
   ]
  },
  {
   "cell_type": "code",
   "execution_count": null,
   "id": "de520931",
   "metadata": {},
   "outputs": [],
   "source": [
    "idx = []\n",
    "for i in range(len(paras)):\n",
    "    if 'computes the fundamental zero-stress energy' in paras[i]:\n",
    "        idx.append(i)\n",
    "        \n",
    "paras[idx[0]-1] = paras[idx[0]-1].replace(paras[idx[0]-1], paras[idx[0]-1][:-1] + ' ' + paras[idx[0]])\n",
    "paras.remove(paras[idx[0]])"
   ]
  },
  {
   "cell_type": "code",
   "execution_count": null,
   "id": "fd808de6",
   "metadata": {},
   "outputs": [],
   "source": [
    "paras"
   ]
  },
  {
   "cell_type": "code",
   "execution_count": null,
   "id": "1efbf10a",
   "metadata": {},
   "outputs": [],
   "source": [
    "drop_list2 = ['€', 'Misfit volumes.', 'AV, = )~ cm(avn,.', 'm.', 'V = Vo + AVnXs, AN,.', 'Ntt(1 — cp).', 'Published in partnership with the Shanghai Institute of Ceramics of the Chinese Academy of Sciences.',\n",
    "             'Table 1. Compositions and supercell formulas used here to compute misfit volumes.', 'X, (at.).',\n",
    "             'Formula Not.', '6 A¢(ABCDEF),7 108 42 A¢(ABCDEF)23 144 0.0 Ao(ABCDEF),3 108 0.0 Ao(ABCDEF) >, 144 8 A_,(ABCDEF)>> 128.',\n",
    "             ', 100 < Nro¢ < 150 and 0.03 < |x,| < 0.06.', 'Published in partnership with the Shanghai Institute of Ceramics of the Chinese Academy of Sciences.', \n",
    "             'Elastic constants.', '86 176 176 -4 -2 -3 284 172 171 -1 -3 -2.',\n",
    " '96 182 -4 1 -3 288 176 -1 O -1 297 -5 OO -2 286 0 -2 -1 111-2 -2]? 111-1 #0.',\n",
    " 'sym 113, -2 sym 110 —2.',\n",
    " '13 112.', 'np}.', '4 Vo= 13.840 A’ 13.95 £ a= 3.811 A 44Pt A | Z ¥ Pd —~ 13.9F | 7 wT. PA -_ S 1385p Z—— O94 Rh o> l << 13.8; e. . 3.75 : ~~ cu 13.7 | R2= 0.997 | As. do , nAVn= 0.000 A b= 3.873 Ni 13.65 1 1 1 1 1 1 1 L L 1 6 -5 -4 -32 2 -1 0 12 3 4 5 6 xs (at.).',\n",
    "             'Fig. Atomic volumes of random alloys at compositions surrounding the equi-composition RhirPdPtNiCu alloy for various changes in composition. Solid lines show the linear regression that leads to the computed misfit volumes shown in Table 2, with the R? value indicated.',\n",
    " 'Table 2. Lattice constant, misfit volumes, and 6-parameter from direct DFT calculations of the RhirPdPtNiCu HEA.',\n",
    " \"Density functional theory (DFT) Vegard's law.\",\n",
    " 'dp (A).',\n",
    " 'AVan (A*) AV, (A*) AVwi (A*) AVpq (A”) AVpr (A*) AVcu (A’) 6 ().',\n",
    " '811 0.253 0.767 —2.581 1.412 1.835 —1.686 3.873.',\n",
    " '800 0.259 0.799 —2.841 1.605 1.893 —1.715 4.193.',\n",
    " \"Also show for comparison are results from the application of Vegard's law using the elemental DFT lattice constants.\", 'y..¢ = 2(E — EE) /AKS,.', 'Table 3. Density functional theory (DFT)-computed material.',\n",
    " 'quantities at T= 0K entering the solute strengthening model, and the resulting predicted yield strength at the experimental conditions of T=300K, é=10 45!.',\n",
    " 'dp (A).',\n",
    " '().',\n",
    " 'C11 (GPa) Cy2 (GPa) C44 (GPa).',\n",
    " 'u’ (GPa) v” 90 H110/111 (GPa) 75.',\n",
    " 'oy (MPa) 583.',\n",
    " 'The experimentally reported yield strength is shown in parenthesis.', 'Published in partnership with the Shanghai Institute of Ceramics of the Chinese Academy of Sciences.',\n",
    " 'Yield strength prediction.', 'DISCUSSION.', 'Published in partnership with the Shanghai Institute of Ceramics of the Chinese Academy of Sciences.',\n",
    " 'Xs.', 'RESULTS', \n",
    " 'of the Voigt-averaged elastic constants UY = (Cy — Ga + 3Caa)/5,.',  'where B is the bulk modulus agrees with the full anisotropic model to within ~3 over a wide range of elastic anisotropy. We will thus use the Voigt-averaged values.',\n",
    " 'The resulting strength versus temperature T and strain-rate  is.',\n",
    " '.', 'Stable stacking fault energy and partial separation',\n",
    " 'The stable stacking fault energy y5 is computed using the ANNNI model In this model, y<¢ is related to the difference between hc and fcc cohesive energies of the alloy as ',\n",
    " 'where ES? and E*< are the atomic energy for the fully relaxed hcp and fcc structures, respectively Af* is the fcc atomic area on the stacking fault plane']"
   ]
  },
  {
   "cell_type": "code",
   "execution_count": null,
   "id": "0a85ca8b",
   "metadata": {},
   "outputs": [],
   "source": [
    "for j in drop_list2:\n",
    "    try:\n",
    "        for i in range(len(paras)):\n",
    "            while j in paras[i]:\n",
    "                paras[i] = paras[i].replace(j, '')\n",
    "    except:\n",
    "        'IndexError'"
   ]
  },
  {
   "cell_type": "code",
   "execution_count": null,
   "id": "6ee2cad4",
   "metadata": {},
   "outputs": [],
   "source": [
    "while '' in paras:\n",
    "    for i in range(len(paras)):\n",
    "        try:\n",
    "            if paras[i].strip() == '':\n",
    "                del paras[i]\n",
    "        except:\n",
    "            'IndexError'"
   ]
  },
  {
   "cell_type": "code",
   "execution_count": null,
   "id": "8f7f4308",
   "metadata": {},
   "outputs": [],
   "source": [
    "try:\n",
    "    for i in range(len(paras)):\n",
    "        while 'desired misfit volumes AV', in paras[i]:\n",
    "            paras[i] = paras[i].replace('desired misfit volumes AV,', '')\n",
    "except:\n",
    "    'IndexError'"
   ]
  },
  {
   "cell_type": "code",
   "execution_count": null,
   "id": "c6409790",
   "metadata": {},
   "outputs": [],
   "source": [
    "paras"
   ]
  },
  {
   "cell_type": "code",
   "execution_count": null,
   "id": "e4d15250",
   "metadata": {},
   "outputs": [],
   "source": [
    "idx = []\n",
    "for i in range(len(paras)):\n",
    "    if 'stress is related to the shear yield stress' in paras[i]:\n",
    "        idx.append(i)\n",
    "        \n",
    "paras[idx[0]-1] = paras[idx[0]-1].replace(paras[idx[0]-1], paras[idx[0]-1][:-1] + ' ' + paras[idx[0]])\n",
    "paras.remove(paras[idx[0]])"
   ]
  },
  {
   "cell_type": "code",
   "execution_count": null,
   "id": "26bafaec",
   "metadata": {},
   "outputs": [],
   "source": [
    "paras"
   ]
  },
  {
   "cell_type": "code",
   "execution_count": null,
   "id": "699ab148",
   "metadata": {},
   "outputs": [],
   "source": [
    "OHCO = ['para_num', 'sent_num', 'token_num']\n",
    "PARAS = pd.DataFrame(paras, columns=['para_str'])\n",
    "PARAS.index.names=OHCO[:1]\n",
    "SENTS = PARAS['para_str'].str.split(r'[.?!;:\"]+', expand=True).stack()\\\n",
    "    .to_frame().rename(columns={0:'sent_str'})\n",
    "SENTS.index.names = OHCO[:2]\n",
    "SENTS.sent_str = SENTS.sent_str.str.strip()\n",
    "TOKENS = SENTS['sent_str'].str.split(r\"[\\s',-]+\", expand=True).stack()\\\n",
    "    .to_frame('token_str')\n",
    "TOKENS.index.names = OHCO[:3]\n",
    "TOKENS.to_csv('doc4.csv')"
   ]
  },
  {
   "cell_type": "code",
   "execution_count": null,
   "id": "e84f3695",
   "metadata": {},
   "outputs": [],
   "source": [
    "TOKENS"
   ]
  },
  {
   "cell_type": "markdown",
   "id": "871562be",
   "metadata": {},
   "source": [
    "### Document 6 "
   ]
  },
  {
   "cell_type": "code",
   "execution_count": null,
   "id": "97591995",
   "metadata": {},
   "outputs": [],
   "source": [
    "import pandas as pd\n",
    "import re"
   ]
  },
  {
   "cell_type": "code",
   "execution_count": null,
   "id": "2823b2ac",
   "metadata": {},
   "outputs": [],
   "source": [
    "with open ('6.txt',encoding='utf-8-sig') as f:\n",
    "    lines = f.read().strip().splitlines()"
   ]
  },
  {
   "cell_type": "code",
   "execution_count": null,
   "id": "2da24cdd",
   "metadata": {},
   "outputs": [],
   "source": [
    "len(lines)"
   ]
  },
  {
   "cell_type": "code",
   "execution_count": null,
   "id": "4950f8ca",
   "metadata": {},
   "outputs": [],
   "source": [
    "spcChars = ['corresponding author', 'e-mail', 'https']\n",
    "for i in lines:\n",
    "    i = i.lower()\n",
    "    i = i.encode(\"ascii\", \"ignore\").decode()\n",
    "    i = re.sub('https*\\S+', '', i)\n",
    "    i = re.sub('#\\S+', '', i)\n",
    "    i = re.sub('\\'\\w+', '', i)\n",
    "    i = re.sub('\\s{2,}', '', i)\n",
    "\n",
    "try:\n",
    "    for i in range(len(lines)):\n",
    "        for j in spcChars:\n",
    "            if j in lines[i].lower():\n",
    "                    del lines[i]\n",
    "\n",
    "except:\n",
    "    'IndexError'\n",
    "    \n",
    "for j in [u'\\u00a9', u'\\u00Ae']:\n",
    "    try:\n",
    "        for i in range(len(lines)):\n",
    "            while j in lines[i]:\n",
    "                del lines[i]\n",
    "    except:\n",
    "        'IndexError'"
   ]
  },
  {
   "cell_type": "code",
   "execution_count": null,
   "id": "4cc75165",
   "metadata": {},
   "outputs": [],
   "source": [
    "len(lines)"
   ]
  },
  {
   "cell_type": "code",
   "execution_count": null,
   "id": "aecf11a3",
   "metadata": {},
   "outputs": [],
   "source": [
    "idx2=[]\n",
    "for j in range(len(lines)):\n",
    "    if 'acknowledgement' in lines[j].lower():\n",
    "        idx2.append(j)\n",
    "idx2\n",
    "lines = lines[:idx2[0]]"
   ]
  },
  {
   "cell_type": "code",
   "execution_count": null,
   "id": "e2845826",
   "metadata": {},
   "outputs": [],
   "source": [
    "len(lines)"
   ]
  },
  {
   "cell_type": "code",
   "execution_count": null,
   "id": "84998403",
   "metadata": {},
   "outputs": [],
   "source": [
    "lines"
   ]
  },
  {
   "cell_type": "code",
   "execution_count": null,
   "id": "3b1f8f32",
   "metadata": {},
   "outputs": [],
   "source": [
    "# treat ending words \n",
    "lines_paragraph = []\n",
    "idx = 0\n",
    "paragraph = ''\n",
    "firstSentence = True\n",
    "\n",
    "while True:\n",
    "    if idx == len(lines) - 1:\n",
    "        lines_paragraph.append( paragraph.strip() )\n",
    "        print('end of text')\n",
    "        break\n",
    "    print( idx, lines )\n",
    "   \n",
    "    line = lines[idx].strip()\n",
    "    end_paragraph = True if len(line) == 0 else False\n",
    "    if not end_paragraph: \n",
    "        curr_end = False if line[-1] == '-' else True\n",
    "    else: \n",
    "        lines_paragraph.append( paragraph.strip() )\n",
    "        paragraph = ''\n",
    "        idx += 1\n",
    "        firstSentence = True\n",
    "        continue\n",
    "\n",
    "    if idx == 0:\n",
    "        paragraph += ' ' + line if curr_end else ' ' + line[:-1]\n",
    "    else: \n",
    "        prev_line = lines[idx-1].strip()\n",
    "    if not firstSentence:\n",
    "        prev_end = False if prev_line[-1] == '-' else True\n",
    "    else: \n",
    "        prev_end = True\n",
    "        firstSentence = False\n",
    "\n",
    "    if not prev_end and not curr_end:\n",
    "        paragraph += line[:-1]\n",
    "    elif not prev_end and curr_end:\n",
    "        paragraph += line\n",
    "    elif prev_end and curr_end:\n",
    "        paragraph += ' ' + line\n",
    "    elif prev_end and not curr_end:\n",
    "        paragraph += ' ' + line[:-1]\n",
    "    idx += 1"
   ]
  },
  {
   "cell_type": "code",
   "execution_count": null,
   "id": "da3e912a",
   "metadata": {},
   "outputs": [],
   "source": [
    "lines_paragraph"
   ]
  },
  {
   "cell_type": "code",
   "execution_count": null,
   "id": "f512928c",
   "metadata": {},
   "outputs": [],
   "source": [
    "while '' in lines_paragraph:\n",
    "    for i in range(len(lines_paragraph)):\n",
    "        try:\n",
    "            if lines_paragraph[i].strip() == '':\n",
    "                del lines_paragraph[i]\n",
    "        except:\n",
    "            'IndexError'"
   ]
  },
  {
   "cell_type": "code",
   "execution_count": null,
   "id": "dc8e1538",
   "metadata": {
    "scrolled": true
   },
   "outputs": [],
   "source": [
    "lines_paragraph"
   ]
  },
  {
   "cell_type": "code",
   "execution_count": null,
   "id": "160ea6ab",
   "metadata": {},
   "outputs": [],
   "source": [
    "# remove reference, equations, \n",
    "ref_regex = '\\[([0-9]+|([0-9]+|\\,)+)\\]'\n",
    "equt_regex = '\\([0-9]+\\)'\n",
    "nonEnglish_regex = '^[^A-Za-z][^A-Za-z0-9/()\\-]*'\n",
    "multispace_regex = ' {2,}'\n",
    "lines_paragraph_removed = []\n",
    "for para_idx, paragraph in enumerate(lines_paragraph):\n",
    "    sentences = paragraph.split('. ')\n",
    "    newParagraph = ''\n",
    "    print( 'paragraph', para_idx )\n",
    "    paragraph = [x for x in sentences if len(x) != 0]\n",
    "    for sent_idx, sentence in enumerate(sentences):  \n",
    "    # if len(paragraph) == 1:\n",
    "    #   if len(paragraph[0]) > 20:\n",
    "    #     print( 'remove equation', paragraph)\n",
    "    #     break\n",
    "\n",
    "        if sent_idx == len(sentences) - 1:\n",
    "            if sentence[-1] == '.':\n",
    "                sentence = sentence[:-1]\n",
    "        sentence = sentence.strip()\n",
    "        newSentence = re.sub( ref_regex, '', sentence ).strip()\n",
    "        newSentence = re.sub( equt_regex, '', newSentence ).strip()\n",
    "        newSentence = re.sub( nonEnglish_regex, '', newSentence ).strip()\n",
    "        newSentence = re.sub( multispace_regex, ' ', newSentence ).strip()\n",
    "\n",
    "        newParagraph += ' ' + newSentence + '.'\n",
    "    \n",
    "    # check newSentence is empty\n",
    "    print( '', 'sentence', sent_idx )\n",
    "    print( '', '', sentence)\n",
    "    print( '', '', newSentence)\n",
    "    lines_paragraph_removed.append(newParagraph.strip())"
   ]
  },
  {
   "cell_type": "code",
   "execution_count": null,
   "id": "f4aa37a0",
   "metadata": {},
   "outputs": [],
   "source": [
    "paras = lines_paragraph_removed"
   ]
  },
  {
   "cell_type": "code",
   "execution_count": null,
   "id": "433264aa",
   "metadata": {},
   "outputs": [],
   "source": [
    "paras"
   ]
  },
  {
   "cell_type": "code",
   "execution_count": null,
   "id": "0c457aff",
   "metadata": {},
   "outputs": [],
   "source": [
    "drop_list =['Journal of Alloys and Compounds 805 (2019) 1237-1245 Journal of Alloys and Compounds 805 (2019) 1237-1245',\n",
    " 'ES',\n",
    " 'Journal of Alloys and Compounds',\n",
    " 'Contents lists available at ScienceDirect',\n",
    " 'JOURNAL OF',\n",
    " 'ALLOYS AND COMPOUNDS',\n",
    " 'ELSEVIER journal homepage: http://www.elsevier.com/locate/jalcom Taree | by high-energy ball milling and spark plasma sintering is',\n",
    " 'A.S. Rogachev *”:*, $.G. Vadchenko °, N.A. Kochetov °, S. Rouvimov ‘, D.Yu Kovalev °, A.S. Shchukin *, D.O. Moskovskikh ”, A.A. Nepapushev ”, A.S. Mukasyan ‘',\n",
    " '* Mezhanov Institute of Structural Macrokinetics and Materials Science Russian Academy of Sciences, Chernogolovka, Russia',\n",
    " '> National University of Science and Technology “MISIS”, Moscow, Russia',\n",
    " 'ARTICLE INFO ABSTRACT',\n",
    " 'Article history:',\n",
    " 'Received 20 May 2019 Received in revised form',\n",
    " '16 July 2019',\n",
    " 'Accepted 17 July 2019 Available online 18 July 2019', 'Journal of Alloys and Compounds 805 (2019) 1237-1245 Journal of Alloys and Compounds 805 (2019) 1237-1245',\n",
    " 'ES',\n",
    " 'Journal of Alloys and Compounds',\n",
    " 'Contents lists available at ScienceDirect',\n",
    " 'JOURNAL OF',\n",
    " 'ALLOYS AND COMPOUNDS',\n",
    " 'ELSEVIER journal homepage: http://www.elsevier.com/locate/jalcom Taree | by high-energy ball milling and spark plasma sintering is',\n",
    " 'A.S. Rogachev *”:*, $.G. Vadchenko °, N.A. Kochetov °, S. Rouvimov ‘, D.Yu Kovalev °, A.S. Shchukin *, D.O. Moskovskikh ”, A.A. Nepapushev ”, A.S. Mukasyan ‘',\n",
    " '* Mezhanov Institute of Structural Macrokinetics and Materials Science Russian Academy of Sciences, Chernogolovka, Russia',\n",
    " '> National University of Science and Technology “MISIS”, Moscow, Russia',\n",
    " 'ARTICLE INFO ABSTRACT',\n",
    " 'Article history:',\n",
    " 'Received 20 May 2019 Received in revised form',\n",
    " '16 July 2019',\n",
    " 'Accepted 17 July 2019 Available online 18 July 2019', '1. Introduction', '2. Materials and methods',\n",
    "  '3. Results', 'A.S. Rogachev et al. / Journal of Alloys and Compounds 805 (2019) 1237—1245 1239',\n",
    " '| V fcc-Ni solid solution',\n",
    " '| (200) rs | | ° = Bline J, 90 min HEBM + SPS 2 ° 90 min HEBM__2 2 \\\\ Cc',\n",
    " '\\\\re (110), Ni (111), Cr (110) Mn (221) I (311), Mn (311) Fe (200), Cr (200)',\n",
    " 'meth nt! Nel reser aL ES',\n",
    " '30 35 40 45 50 55 60 65 70 75 80 85 90 95 100',\n",
    " '20, degree',\n",
    " 'Fig. 1. Evolution of XRD patterns from initial mixture to consolidated material. Obtained with Fe-K, radiation for better angle resolution.',\n",
    "  '298 K (after',\n",
    " 'Ss annealing) 2 @ c 1273 K £ = 1073 K 873 K',\n",
    " '298 K (before',\n",
    " 'annealing',\n",
    " '42 44. 46 48 50 52 54',\n",
    " '20, degree',\n",
    " 'Fig. 2. High-temperature XRD patterns of the HEA powder (90min HEBM; Cu-K, radiation).',\n",
    "  'TK 9',\n",
    " '2000 5, ae 4 TM l L 0,362 L 0,8 L0,7 + 0,361 Loe | L + 0,360 LO,5 + r L 0,359 L 0,4 L 0,3 + 0,358 Lo,2 | L L 0,357 +0,1 l L 0,356 L 0,0',\n",
    " 'qT CT CT : -0,1 4 0,355 0) 50 100 150 200 250 Time, min',\n",
    " 'Fig. 3. (color online) Results of the high-temperature XRD experiments: temperaturetime regime (T), crystal lattice distortion (5, %) and lattice parameter (a, nm). (For interpretation of the references to color in this figure legend, the reader is referred to the Web version of this article.)',\n",
    " '1240 A.S. Rogachev et al. / Journal of Alloys and Compounds 805 (2019) 1237—1245',\n",
    " 'Fig. 4. SEM of the multicomponent powder blend: initial mixture of elemental powders (a); after 60 min of HEBM (b); after 90 min of HEBM (c).',\n",
    " 'Fig. 5. TEM image and corresponding electron diffraction patterns: (a) - powder sample, after HEBM; (b) - compacted sample, after HEBM + SPS. Interpretation of the EDP is presented in Table 1.',\n",
    "  '4. Discussion', 'A.S. Rogachev et al. / Journal of Alloys and Compounds 805 (2019) 1237—1245 1241',\n",
    " 'Table 1 Interpretation of the Electron Diffraction Patterns presented in Fig. 5.',\n",
    " 'Experimental values',\n",
    " 'After HEBM',\n",
    " 'After HEBM and SPS',\n",
    " 'Ring diameter D, 1/nm d-spacings nm Ring diameter D, 1/nm',\n",
    " '6.69 7.88 9.62 0.208 9.62 11.04 0.181 11.27 12.45 13.28 15.78 0.127 15.57 18.38 0.109 18.51',\n",
    " 'Fig. 6. HRTEM of the powder sample (after HEBM).',\n",
    "  'Possible interpretations',\n",
    " 'Hypothetical structures: calculated d-spacings in nm, and',\n",
    " '(hkl) d-spacingsnm fcc, fcc, bcc, a=0.36nm a=1.05nm a=0.73 nm 0.299 - 0.304 (222) 0.298 (211) 0.254 - 0.258 (400) 0.258 (220) 0.208 0.208 (111) - 0.211 (222) 0.177 0.180 (200) - 0.182 (400) 0.161 - 0.159 (622) 0.163 (420) 0.151 - 0.152 (444) 0.156 (332) 0.149 (422) 0.128 0.127 (220) - 0.129 (440) 0.125 (530), (433) 0.108 0.108 (311) - 0.108 (631)',\n",
    " 'Concentration, at.%',\n",
    " '0 20 40 60 80 100 120 140 160 Distance along the scanning line, nm',\n",
    " '180 200',\n",
    " 'jw',\n",
    " 'Concentration, at.%',\n",
    " '= 1 0 20 40 60 80 100 120 140 160 180 200 Distance along the scanning line, nm',\n",
    " 'Fig. 7. EDS microanalysis along the scanning lines, that are shown by arrows on the inserted STEM pictures: (a) - powder sample, after HEBM; (b) - consolidated sample, after HEBM + SPS.',\n",
    " 'present work. These values are in a reasonable agreement with results from the work [14], where porosity was 7.61% after SPS at 1073 K and decreased to 0.12%, when SPS was carried out at 1273 K. However, our SEM study did not reveal residual porosity at polished',\n",
    " '1242 A.S. Rogachev et al. / Journal of Alloys and Compounds 805 (2019) 1237-1245',\n",
    " 'Fig. 8. SEM images of the consolidated sample (HEA + SPS): a - polished cross-section, Z-contrast (backscattered electrons, AsB detector); b — the same area after acid etching, image in secondary electrons. Results of EDS analysis are presented in Tal',\n",
    "  'Table 2',\n",
    " '[Lara a SGOT OA a Ms]8LONan)',\n",
    " 'ea D200 a',\n",
    " 'Fig. 9. (color online) HAADF STEM microstructure image of the sample consolidated by SPS, with corresponding X-ray mappings. (For interpretation of the references to color in this figure legend, the reader is referred to the Web version of this article.)',\n",
    " 'Fig. 10. HRTEM of the CoCrFeNiMn matrix phases: fcc phase with a = 0.356 nm (a) and fcc phase with a= 0.360 nm (b).',\n",
    " 'EDS analysis of the compacted material (HEBM + SPS).',\n",
    " 'Polished cross section Concentration, at. %',\n",
    " 'Fe Ni Mn',\n",
    " 'Co Cr Before etching 19.0+0.8 214+04 After etching 18.8+0.4 20.1 + 1.0',\n",
    " '23.2+1.2 18.6 + 2.0 17.8+1.7 22.8 +0.3 18.8 + 0.4 19.1+0.4',\n",
    " 'A.S. Rogachev et al. / Journal of Alloys and Compounds 805 (2019) 1237—1245 1243',\n",
    " 'Fig. 11. HRTEM of the precipitated dispersed phase. Angles: « ~ 70°, B ~ 110°.',\n",
    " '0.597/ 9 og vO, Oo',\n",
    " '90 oe',\n",
    " '3s ie Sef .',\n",
    " '. oo',\n",
    " '0.520',\n",
    " '0.512',\n",
    " '0.482',\n",
    " 'Fig. 12. (color online). Atomic structure of precipitate: HAADF STEM image with corresponding X-ray mappings (a), and principal lattice spacings (b). All dimensions are given in nanometers. (For interpretation of the references to color in this figure legend, the reader is referred to the Web version of this article.)',\n",
    " 'Cc, x, mm/s 6, 10°S J/kg K A 9.6 1000 9,4 92 900 9,0 800 8,8 8,6 700 8,4 82 1600',\n",
    " '300 350 400 450 500 550 #600 650 #700 Temperature, K',\n",
    " 'Fig. 13. Temperature dependence of the specific electrical conductivity (co), thermal diffusivity (y) and specific heat capacity (c) of the consolidated (HEBM + SPS) HEA material.',\n",
    "  'A gL: (1)', '1244 A.S. Rogachev et al. / Journal of Alloys and Compounds 805 (2019) 1237—1245',\n",
    "  'Conclusions', 'Mezhanov Institute of Structural Macrokinetics and Materials Science Russian Academy of Sciences, Chernogolovka, Russia.',\n",
    " 'National University of Science and Technology “MISIS”, Moscow, Russia.',\n",
    " '6 July 2019.',\n",
    " 'and formed precipitates. Up to three types of precipitates, with characteristic size from 10-30 nm to 200.',\n",
    " 'Keywords:.',\n",
    " 'Transition metal alloys Mechanical alloying Atomic scale structure Electrical transport Heat conduction X-ray diffraction.',\n",
    " '300 nm, have been detected and studied. Electric and thermal properties of the material, measured at room and elevated temperature, shown that lattice thermal conductivity plays an important role, along with free electron thermal conductivity.',\n",
    " '. Introduction.', 'materials Science Russian Academy of Sciences, Chernogolovka, Russia.',\n",
    "  'S.G. Vadchenko), kolyan_kochetov@mail.ru (N.A. Kochetov), Sergei.Rouvimov.1@ nd.edu (S. Rouvimov), kovalev@ism.ac.ru (D.Yu Kovalev), shchukin@ism.ac.ru (A.S. Shchukin), mos@misis.ru (D.O. Moskovskikh), anepapushev@gmail.com (A.A. Nepapushev), amoukasi@nd.edu (A.S. Mukasyan).',\n",
    "  '. Materials and methods.', '. Results.',\n",
    " 'The XRD patterns for the initial powder mixture, after 60 and 90 min of HEBM and of the sintered alloy are shown in Fig. . It can.',\n",
    " 'V fcc-Ni solid solution.',\n",
    " 'rs | | ° = Bline J, 90 min HEBM + SPS 2 ° 90 min HEBM__2 2 \\\\ Cc.',\n",
    " 're , Ni , Cr Mn I , Mn Fe , Cr.',\n",
    " '0 35 40 45 50 55 60 65 70 75 80 85 90 95 100.',\n",
    " '0, degree.',\n",
    " 'Fig. . Evolution of XRD patterns from initial mixture to consolidated material. Obtained with Fe-K, radiation for better angle resolution.',\n",
    " 'The mechanically alloyed powder was heated up to 1273 K with simultaneous XRD analysis, in order to study the thermal stability of the HEA phase. Evolution of XRD patterns, presented in Fig. .',\n",
    " '98 K (after.',\n",
    " '98 K (before.',\n",
    " '2 44. 6 48 50 52 54.',\n",
    " '0, degree.',\n",
    " 'Fig. . High-temperature XRD patterns of the HEA powder (90min HEBM; Cu-K, radiation).',\n",
    " '000 5, ae 4 TM l L 0,362 L 0,8 L0,7 + 0,361 Loe | L + 0,360 LO,5 + r L 0,359 L 0,4 L 0,3 + 0,358 Lo,2 | L L 0,357 +0,1 l L 0,356 L 0,0.',\n",
    " 'Fig. . color online) Results of the high-temperature XRD experiments: temperaturetime regime (T), crystal lattice distortion (5, %) and lattice parameter (a, nm). For interpretation of the references to color in this figure legend, the reader is referred to the Web version of this article.).',\n",
    " 'Fig. . SEM of the multicomponent powder blend: initial mixture of elemental powders (a); after 60 min of HEBM (b); after 90 min of HEBM (c).',\n",
    " 'Fig. . TEM image and corresponding electron diffraction patterns: (a) - powder sample, after HEBM; (b) - compacted sample, after HEBM + SPS. Interpretation of the EDP is presented in Table 1.',\n",
    "  '. Discussion.', 'Table 1 Interpretation of the Electron Diffraction Patterns presented in Fig. .',\n",
    " '69 7.88 9.62 0.208 9.62 11.04 0.181 11.27 12.45 13.28 15.78 0.127 15.57 18.38 0.109 18.51.',\n",
    " 'Fig. . HRTEM of the powder sample (after HEBM).',  'hkl) d-spacingsnm fcc, fcc, bcc, a=0.36nm a=1.05nm a=0.73 nm 0.299 - 0.304 0.298 0.254 - 0.258 0.258 0.208 0.208 - 0.211 0.177 0.180 - 0.182 0.161 - 0.159 0.163 0.151 - 0.152 0.156 0.149 0.128 0.127 - 0.129 0.125 , 0.108 0.108 - 0.108.',\n",
    " '20 40 60 80 100 120 140 160 Distance along the scanning line, nm.',\n",
    " '80 200.',\n",
    " 'Fig. . EDS microanalysis along the scanning lines, that are shown by arrows on the inserted STEM pictures: (a) - powder sample, after HEBM; (b) - consolidated sample, after HEBM + SPS.',\n",
    "  'Fig. . SEM images of the consolidated sample (HEA + SPS): a - polished cross-section, Z-contrast (backscattered electrons, AsB detector); b — the same area after acid etching, image in secondary electrons. Results of EDS analysis are presented in Tal.',\n",
    "'Lara a SGOT OA a Ms]8LONan).',\n",
    " 'Fig. . color online) HAADF STEM microstructure image of the sample consolidated by SPS, with corresponding X-ray mappings. For interpretation of the references to color in this figure legend, the reader is referred to the Web version of this article.).',\n",
    " 'Fig. 0. HRTEM of the CoCrFeNiMn matrix phases: fcc phase with a = 0.356 nm (a) and fcc phase with a= 0.360 nm (b).',\n",
    " 'Polished cross section Concentration, at. .',\n",
    " '3.2+1.2 18.6 + 2.0 17.8+1.7 22.8 +0.3 18.8 + 0.4 19.1+0.4.',\n",
    " 'Fig. 1. HRTEM of the precipitated dispersed phase. Angles: « ~ 70°, B ~ 110°.',\n",
    " '597/ 9 og vO, Oo.',\n",
    " '0 oe.',\n",
    " 's ie Sef.',\n",
    " '520.',\n",
    " '512.',\n",
    " '482.',\n",
    " 'Fig. 2. color online). Atomic structure of precipitate: HAADF STEM image with corresponding X-ray mappings (a), and principal lattice spacings (b). All dimensions are given in nanometers. For interpretation of the references to color in this figure legend, the reader is referred to the Web version of this article.).',\n",
    " '00 350 400 450 500 550 #600 650 #700 Temperature, K.',\n",
    " 'Fig. 3. Temperature dependence of the specific electrical conductivity (co), thermal diffusivity (y) and specific heat capacity (c) of the consolidated (HEBM + SPS) HEA material.',\n",
    "'A gL:.', '. Conclusions.']"
   ]
  },
  {
   "cell_type": "code",
   "execution_count": null,
   "id": "1cdd31bb",
   "metadata": {},
   "outputs": [],
   "source": [
    "for j in drop_list:\n",
    "    try:\n",
    "        for i in range(len(paras)):\n",
    "            while j in paras[i]:\n",
    "                paras[i] = paras[i].replace(j, '')\n",
    "    except:\n",
    "        'IndexError'"
   ]
  },
  {
   "cell_type": "code",
   "execution_count": null,
   "id": "3ed70afd",
   "metadata": {},
   "outputs": [],
   "source": [
    "len(paras)"
   ]
  },
  {
   "cell_type": "code",
   "execution_count": null,
   "id": "0aedde3c",
   "metadata": {},
   "outputs": [],
   "source": [
    "paras"
   ]
  },
  {
   "cell_type": "code",
   "execution_count": null,
   "id": "feaab20f",
   "metadata": {},
   "outputs": [],
   "source": [
    "while '' in paras:\n",
    "    for i in range(len(paras)):\n",
    "        try:\n",
    "            if paras[i].strip() == '':\n",
    "                del paras[i]\n",
    "        except:\n",
    "            'IndexError'"
   ]
  },
  {
   "cell_type": "code",
   "execution_count": null,
   "id": "19a7fbd9",
   "metadata": {},
   "outputs": [],
   "source": [
    "len(paras)"
   ]
  },
  {
   "cell_type": "code",
   "execution_count": null,
   "id": "365f62e4",
   "metadata": {},
   "outputs": [],
   "source": [
    "paras"
   ]
  },
  {
   "cell_type": "code",
   "execution_count": null,
   "id": "2352990b",
   "metadata": {},
   "outputs": [],
   "source": [
    "try:\n",
    "    for i in range(len(paras)):\n",
    "        if '. .' in paras[i]:\n",
    "            del paras[i]\n",
    "except:\n",
    "    'IndexError'"
   ]
  },
  {
   "cell_type": "code",
   "execution_count": null,
   "id": "958edf0b",
   "metadata": {},
   "outputs": [],
   "source": [
    "len(paras)"
   ]
  },
  {
   "cell_type": "code",
   "execution_count": null,
   "id": "15681065",
   "metadata": {
    "scrolled": true
   },
   "outputs": [],
   "source": [
    "paras"
   ]
  },
  {
   "cell_type": "code",
   "execution_count": null,
   "id": "64847fb8",
   "metadata": {},
   "outputs": [],
   "source": [
    "idx = []\n",
    "for i in range(len(paras)):\n",
    "    if 'High-entropy alloy CoCrFeNiMn was produced' in paras[i]:\n",
    "        idx.append(i)\n",
    "paras = paras[idx[0]:]"
   ]
  },
  {
   "cell_type": "code",
   "execution_count": null,
   "id": "70df77ce",
   "metadata": {},
   "outputs": [],
   "source": [
    "for i in range(len(paras)):\n",
    "    count = len(paras[i])\n",
    "    if '.' in paras[i] and count ==1:\n",
    "        del paras[i]"
   ]
  },
  {
   "cell_type": "code",
   "execution_count": null,
   "id": "9d8bcb85",
   "metadata": {},
   "outputs": [],
   "source": [
    "idx = []\n",
    "for i in range(len(paras)):\n",
    "    if 'heat — by electrons plus phonons.' in paras[i]:\n",
    "        idx.append(i)\n",
    "        \n",
    "paras[idx[0]-1] = paras[idx[0]-1].replace(paras[idx[0]-1], paras[idx[0]-1][:-1] + ' ' + paras[idx[0]])\n",
    "paras.remove(paras[idx[0]])"
   ]
  },
  {
   "cell_type": "code",
   "execution_count": null,
   "id": "7935467a",
   "metadata": {},
   "outputs": [],
   "source": [
    "paras"
   ]
  },
  {
   "cell_type": "code",
   "execution_count": null,
   "id": "9041215f",
   "metadata": {},
   "outputs": [],
   "source": [
    "idx = []\n",
    "for i in range(len(paras)):\n",
    "    if 'be seen that the intensities of diffraction peaks' in paras[i]:\n",
    "        idx.append(i)\n",
    "        \n",
    "paras[idx[0]] = paras[idx[0]].replace(paras[idx[0]], 'The XRD patterns for the initial powder mixture, after 60 and 90 min of HEBM and of the sintered alloy are shown in Fig. 1. It can' + ' ' + paras[idx[0]])"
   ]
  },
  {
   "cell_type": "code",
   "execution_count": null,
   "id": "6f1feb67",
   "metadata": {},
   "outputs": [],
   "source": [
    "paras"
   ]
  },
  {
   "cell_type": "code",
   "execution_count": null,
   "id": "a7648a5f",
   "metadata": {},
   "outputs": [],
   "source": [
    "OHCO = ['para_num', 'sent_num', 'token_num']\n",
    "PARAS = pd.DataFrame(paras, columns=['para_str'])\n",
    "PARAS.index.names=OHCO[:1]\n",
    "SENTS = PARAS['para_str'].str.split(r'[.?!;:\"]+', expand=True).stack()\\\n",
    "    .to_frame().rename(columns={0:'sent_str'})\n",
    "SENTS.index.names = OHCO[:2]\n",
    "SENTS.sent_str = SENTS.sent_str.str.strip()\n",
    "TOKENS = SENTS['sent_str'].str.split(r\"[\\s',-]+\", expand=True).stack()\\\n",
    "    .to_frame('token_str')\n",
    "TOKENS.index.names = OHCO[:3]\n",
    "TOKENS.to_csv('doc6.csv')"
   ]
  },
  {
   "cell_type": "code",
   "execution_count": null,
   "id": "401b1322",
   "metadata": {},
   "outputs": [],
   "source": [
    "TOKENS"
   ]
  },
  {
   "cell_type": "markdown",
   "id": "35fe1f84",
   "metadata": {},
   "source": [
    "### Load Corpus"
   ]
  },
  {
   "cell_type": "code",
   "execution_count": 1,
   "id": "17bb70df",
   "metadata": {},
   "outputs": [],
   "source": [
    "import nltk\n",
    "import pandas as pd\n",
    "import numpy as np"
   ]
  },
  {
   "cell_type": "code",
   "execution_count": 2,
   "id": "5ea2255b",
   "metadata": {},
   "outputs": [],
   "source": [
    "CORPUS = pd.read_csv('corpus.csv',index_col = [0])"
   ]
  },
  {
   "cell_type": "code",
   "execution_count": 3,
   "id": "ee1d256c",
   "metadata": {},
   "outputs": [
    {
     "data": {
      "text/html": [
       "<div>\n",
       "<style scoped>\n",
       "    .dataframe tbody tr th:only-of-type {\n",
       "        vertical-align: middle;\n",
       "    }\n",
       "\n",
       "    .dataframe tbody tr th {\n",
       "        vertical-align: top;\n",
       "    }\n",
       "\n",
       "    .dataframe thead th {\n",
       "        text-align: right;\n",
       "    }\n",
       "</style>\n",
       "<table border=\"1\" class=\"dataframe\">\n",
       "  <thead>\n",
       "    <tr style=\"text-align: right;\">\n",
       "      <th></th>\n",
       "      <th>parg_num</th>\n",
       "      <th>sent_num</th>\n",
       "      <th>token_num</th>\n",
       "      <th>token_str</th>\n",
       "    </tr>\n",
       "    <tr>\n",
       "      <th>doc_num</th>\n",
       "      <th></th>\n",
       "      <th></th>\n",
       "      <th></th>\n",
       "      <th></th>\n",
       "    </tr>\n",
       "  </thead>\n",
       "  <tbody>\n",
       "    <tr>\n",
       "      <th>0</th>\n",
       "      <td>0</td>\n",
       "      <td>0</td>\n",
       "      <td>0</td>\n",
       "      <td>variation</td>\n",
       "    </tr>\n",
       "    <tr>\n",
       "      <th>0</th>\n",
       "      <td>0</td>\n",
       "      <td>0</td>\n",
       "      <td>1</td>\n",
       "      <td>lattice</td>\n",
       "    </tr>\n",
       "    <tr>\n",
       "      <th>0</th>\n",
       "      <td>0</td>\n",
       "      <td>0</td>\n",
       "      <td>2</td>\n",
       "      <td>constant</td>\n",
       "    </tr>\n",
       "    <tr>\n",
       "      <th>0</th>\n",
       "      <td>0</td>\n",
       "      <td>0</td>\n",
       "      <td>3</td>\n",
       "      <td>alloying</td>\n",
       "    </tr>\n",
       "    <tr>\n",
       "      <th>0</th>\n",
       "      <td>0</td>\n",
       "      <td>0</td>\n",
       "      <td>4</td>\n",
       "      <td>elements</td>\n",
       "    </tr>\n",
       "    <tr>\n",
       "      <th>...</th>\n",
       "      <td>...</td>\n",
       "      <td>...</td>\n",
       "      <td>...</td>\n",
       "      <td>...</td>\n",
       "    </tr>\n",
       "    <tr>\n",
       "      <th>15</th>\n",
       "      <td>28</td>\n",
       "      <td>11</td>\n",
       "      <td>7</td>\n",
       "      <td>four</td>\n",
       "    </tr>\n",
       "    <tr>\n",
       "      <th>15</th>\n",
       "      <td>28</td>\n",
       "      <td>11</td>\n",
       "      <td>8</td>\n",
       "      <td>six</td>\n",
       "    </tr>\n",
       "    <tr>\n",
       "      <th>15</th>\n",
       "      <td>28</td>\n",
       "      <td>11</td>\n",
       "      <td>9</td>\n",
       "      <td>alloying</td>\n",
       "    </tr>\n",
       "    <tr>\n",
       "      <th>15</th>\n",
       "      <td>28</td>\n",
       "      <td>11</td>\n",
       "      <td>10</td>\n",
       "      <td>elements</td>\n",
       "    </tr>\n",
       "    <tr>\n",
       "      <th>15</th>\n",
       "      <td>28</td>\n",
       "      <td>11</td>\n",
       "      <td>11</td>\n",
       "      <td>studied</td>\n",
       "    </tr>\n",
       "  </tbody>\n",
       "</table>\n",
       "<p>30345 rows × 4 columns</p>\n",
       "</div>"
      ],
      "text/plain": [
       "         parg_num  sent_num  token_num  token_str\n",
       "doc_num                                          \n",
       "0               0         0          0  variation\n",
       "0               0         0          1    lattice\n",
       "0               0         0          2   constant\n",
       "0               0         0          3   alloying\n",
       "0               0         0          4   elements\n",
       "...           ...       ...        ...        ...\n",
       "15             28        11          7       four\n",
       "15             28        11          8        six\n",
       "15             28        11          9   alloying\n",
       "15             28        11         10   elements\n",
       "15             28        11         11    studied\n",
       "\n",
       "[30345 rows x 4 columns]"
      ]
     },
     "execution_count": 3,
     "metadata": {},
     "output_type": "execute_result"
    }
   ],
   "source": [
    "CORPUS"
   ]
  },
  {
   "cell_type": "code",
   "execution_count": 4,
   "id": "e1f233ea",
   "metadata": {},
   "outputs": [
    {
     "name": "stderr",
     "output_type": "stream",
     "text": [
      "[nltk_data] Downloading package stopwords to\n",
      "[nltk_data]     /home/digifort/nltk_data...\n",
      "[nltk_data]   Package stopwords is already up-to-date!\n"
     ]
    }
   ],
   "source": [
    "nltk.download('stopwords')\n",
    "stopwords = nltk.corpus.stopwords.words('english')"
   ]
  },
  {
   "cell_type": "code",
   "execution_count": 5,
   "id": "70abeae6",
   "metadata": {},
   "outputs": [],
   "source": [
    "CORPUS2 = pd.read_csv('Ankita_Corpus.csv', index_col= [0])"
   ]
  },
  {
   "cell_type": "code",
   "execution_count": 6,
   "id": "ca97c0bc",
   "metadata": {},
   "outputs": [
    {
     "data": {
      "text/html": [
       "<div>\n",
       "<style scoped>\n",
       "    .dataframe tbody tr th:only-of-type {\n",
       "        vertical-align: middle;\n",
       "    }\n",
       "\n",
       "    .dataframe tbody tr th {\n",
       "        vertical-align: top;\n",
       "    }\n",
       "\n",
       "    .dataframe thead th {\n",
       "        text-align: right;\n",
       "    }\n",
       "</style>\n",
       "<table border=\"1\" class=\"dataframe\">\n",
       "  <thead>\n",
       "    <tr style=\"text-align: right;\">\n",
       "      <th></th>\n",
       "      <th>para_num</th>\n",
       "      <th>sent_num</th>\n",
       "      <th>token_num</th>\n",
       "      <th>token_str</th>\n",
       "    </tr>\n",
       "    <tr>\n",
       "      <th>doc_id</th>\n",
       "      <th></th>\n",
       "      <th></th>\n",
       "      <th></th>\n",
       "      <th></th>\n",
       "    </tr>\n",
       "  </thead>\n",
       "  <tbody>\n",
       "    <tr>\n",
       "      <th>1</th>\n",
       "      <td>0</td>\n",
       "      <td>0</td>\n",
       "      <td>0</td>\n",
       "      <td>The</td>\n",
       "    </tr>\n",
       "    <tr>\n",
       "      <th>1</th>\n",
       "      <td>0</td>\n",
       "      <td>0</td>\n",
       "      <td>1</td>\n",
       "      <td>variation</td>\n",
       "    </tr>\n",
       "    <tr>\n",
       "      <th>1</th>\n",
       "      <td>0</td>\n",
       "      <td>0</td>\n",
       "      <td>2</td>\n",
       "      <td>of</td>\n",
       "    </tr>\n",
       "    <tr>\n",
       "      <th>1</th>\n",
       "      <td>0</td>\n",
       "      <td>0</td>\n",
       "      <td>3</td>\n",
       "      <td>the</td>\n",
       "    </tr>\n",
       "    <tr>\n",
       "      <th>1</th>\n",
       "      <td>0</td>\n",
       "      <td>0</td>\n",
       "      <td>4</td>\n",
       "      <td>lattice</td>\n",
       "    </tr>\n",
       "    <tr>\n",
       "      <th>...</th>\n",
       "      <td>...</td>\n",
       "      <td>...</td>\n",
       "      <td>...</td>\n",
       "      <td>...</td>\n",
       "    </tr>\n",
       "    <tr>\n",
       "      <th>6</th>\n",
       "      <td>27</td>\n",
       "      <td>2</td>\n",
       "      <td>5</td>\n",
       "      <td>=</td>\n",
       "    </tr>\n",
       "    <tr>\n",
       "      <th>6</th>\n",
       "      <td>27</td>\n",
       "      <td>2</td>\n",
       "      <td>6</td>\n",
       "      <td>0</td>\n",
       "    </tr>\n",
       "    <tr>\n",
       "      <th>6</th>\n",
       "      <td>27</td>\n",
       "      <td>3</td>\n",
       "      <td>0</td>\n",
       "      <td>356</td>\n",
       "    </tr>\n",
       "    <tr>\n",
       "      <th>6</th>\n",
       "      <td>27</td>\n",
       "      <td>3</td>\n",
       "      <td>1</td>\n",
       "      <td>nm)</td>\n",
       "    </tr>\n",
       "    <tr>\n",
       "      <th>6</th>\n",
       "      <td>27</td>\n",
       "      <td>4</td>\n",
       "      <td>0</td>\n",
       "      <td>NaN</td>\n",
       "    </tr>\n",
       "  </tbody>\n",
       "</table>\n",
       "<p>19814 rows × 4 columns</p>\n",
       "</div>"
      ],
      "text/plain": [
       "        para_num  sent_num  token_num  token_str\n",
       "doc_id                                          \n",
       "1              0         0          0        The\n",
       "1              0         0          1  variation\n",
       "1              0         0          2         of\n",
       "1              0         0          3        the\n",
       "1              0         0          4    lattice\n",
       "...          ...       ...        ...        ...\n",
       "6             27         2          5          =\n",
       "6             27         2          6          0\n",
       "6             27         3          0        356\n",
       "6             27         3          1        nm)\n",
       "6             27         4          0        NaN\n",
       "\n",
       "[19814 rows x 4 columns]"
      ]
     },
     "execution_count": 6,
     "metadata": {},
     "output_type": "execute_result"
    }
   ],
   "source": [
    "CORPUS2"
   ]
  },
  {
   "cell_type": "code",
   "execution_count": 7,
   "id": "421664dd",
   "metadata": {},
   "outputs": [],
   "source": [
    "CORPUS2['term_str'] = CORPUS2.token_str.str.replace(r\"\\W+\", \"\", regex=True).str.lower()"
   ]
  },
  {
   "cell_type": "code",
   "execution_count": 8,
   "id": "44763813",
   "metadata": {},
   "outputs": [
    {
     "data": {
      "text/html": [
       "<div>\n",
       "<style scoped>\n",
       "    .dataframe tbody tr th:only-of-type {\n",
       "        vertical-align: middle;\n",
       "    }\n",
       "\n",
       "    .dataframe tbody tr th {\n",
       "        vertical-align: top;\n",
       "    }\n",
       "\n",
       "    .dataframe thead th {\n",
       "        text-align: right;\n",
       "    }\n",
       "</style>\n",
       "<table border=\"1\" class=\"dataframe\">\n",
       "  <thead>\n",
       "    <tr style=\"text-align: right;\">\n",
       "      <th></th>\n",
       "      <th>para_num</th>\n",
       "      <th>sent_num</th>\n",
       "      <th>token_num</th>\n",
       "      <th>token_str</th>\n",
       "      <th>term_str</th>\n",
       "    </tr>\n",
       "    <tr>\n",
       "      <th>doc_id</th>\n",
       "      <th></th>\n",
       "      <th></th>\n",
       "      <th></th>\n",
       "      <th></th>\n",
       "      <th></th>\n",
       "    </tr>\n",
       "  </thead>\n",
       "  <tbody>\n",
       "    <tr>\n",
       "      <th>1</th>\n",
       "      <td>0</td>\n",
       "      <td>0</td>\n",
       "      <td>0</td>\n",
       "      <td>The</td>\n",
       "      <td>the</td>\n",
       "    </tr>\n",
       "    <tr>\n",
       "      <th>1</th>\n",
       "      <td>0</td>\n",
       "      <td>0</td>\n",
       "      <td>1</td>\n",
       "      <td>variation</td>\n",
       "      <td>variation</td>\n",
       "    </tr>\n",
       "    <tr>\n",
       "      <th>1</th>\n",
       "      <td>0</td>\n",
       "      <td>0</td>\n",
       "      <td>2</td>\n",
       "      <td>of</td>\n",
       "      <td>of</td>\n",
       "    </tr>\n",
       "    <tr>\n",
       "      <th>1</th>\n",
       "      <td>0</td>\n",
       "      <td>0</td>\n",
       "      <td>3</td>\n",
       "      <td>the</td>\n",
       "      <td>the</td>\n",
       "    </tr>\n",
       "    <tr>\n",
       "      <th>1</th>\n",
       "      <td>0</td>\n",
       "      <td>0</td>\n",
       "      <td>4</td>\n",
       "      <td>lattice</td>\n",
       "      <td>lattice</td>\n",
       "    </tr>\n",
       "    <tr>\n",
       "      <th>...</th>\n",
       "      <td>...</td>\n",
       "      <td>...</td>\n",
       "      <td>...</td>\n",
       "      <td>...</td>\n",
       "      <td>...</td>\n",
       "    </tr>\n",
       "    <tr>\n",
       "      <th>6</th>\n",
       "      <td>27</td>\n",
       "      <td>2</td>\n",
       "      <td>5</td>\n",
       "      <td>=</td>\n",
       "      <td></td>\n",
       "    </tr>\n",
       "    <tr>\n",
       "      <th>6</th>\n",
       "      <td>27</td>\n",
       "      <td>2</td>\n",
       "      <td>6</td>\n",
       "      <td>0</td>\n",
       "      <td>0</td>\n",
       "    </tr>\n",
       "    <tr>\n",
       "      <th>6</th>\n",
       "      <td>27</td>\n",
       "      <td>3</td>\n",
       "      <td>0</td>\n",
       "      <td>356</td>\n",
       "      <td>356</td>\n",
       "    </tr>\n",
       "    <tr>\n",
       "      <th>6</th>\n",
       "      <td>27</td>\n",
       "      <td>3</td>\n",
       "      <td>1</td>\n",
       "      <td>nm)</td>\n",
       "      <td>nm</td>\n",
       "    </tr>\n",
       "    <tr>\n",
       "      <th>6</th>\n",
       "      <td>27</td>\n",
       "      <td>4</td>\n",
       "      <td>0</td>\n",
       "      <td>NaN</td>\n",
       "      <td>NaN</td>\n",
       "    </tr>\n",
       "  </tbody>\n",
       "</table>\n",
       "<p>19814 rows × 5 columns</p>\n",
       "</div>"
      ],
      "text/plain": [
       "        para_num  sent_num  token_num  token_str   term_str\n",
       "doc_id                                                     \n",
       "1              0         0          0        The        the\n",
       "1              0         0          1  variation  variation\n",
       "1              0         0          2         of         of\n",
       "1              0         0          3        the        the\n",
       "1              0         0          4    lattice    lattice\n",
       "...          ...       ...        ...        ...        ...\n",
       "6             27         2          5          =           \n",
       "6             27         2          6          0          0\n",
       "6             27         3          0        356        356\n",
       "6             27         3          1        nm)         nm\n",
       "6             27         4          0        NaN        NaN\n",
       "\n",
       "[19814 rows x 5 columns]"
      ]
     },
     "execution_count": 8,
     "metadata": {},
     "output_type": "execute_result"
    }
   ],
   "source": [
    "CORPUS2"
   ]
  },
  {
   "cell_type": "code",
   "execution_count": 9,
   "id": "b54cf1d9",
   "metadata": {},
   "outputs": [],
   "source": [
    "CORPUS2['bool'] = CORPUS2['term_str'].apply(lambda x: 'NaN' if x in stopwords else 1)"
   ]
  },
  {
   "cell_type": "code",
   "execution_count": 10,
   "id": "8c3e9ce3",
   "metadata": {},
   "outputs": [
    {
     "data": {
      "text/html": [
       "<div>\n",
       "<style scoped>\n",
       "    .dataframe tbody tr th:only-of-type {\n",
       "        vertical-align: middle;\n",
       "    }\n",
       "\n",
       "    .dataframe tbody tr th {\n",
       "        vertical-align: top;\n",
       "    }\n",
       "\n",
       "    .dataframe thead th {\n",
       "        text-align: right;\n",
       "    }\n",
       "</style>\n",
       "<table border=\"1\" class=\"dataframe\">\n",
       "  <thead>\n",
       "    <tr style=\"text-align: right;\">\n",
       "      <th></th>\n",
       "      <th>para_num</th>\n",
       "      <th>sent_num</th>\n",
       "      <th>token_num</th>\n",
       "      <th>token_str</th>\n",
       "      <th>term_str</th>\n",
       "      <th>bool</th>\n",
       "    </tr>\n",
       "    <tr>\n",
       "      <th>doc_id</th>\n",
       "      <th></th>\n",
       "      <th></th>\n",
       "      <th></th>\n",
       "      <th></th>\n",
       "      <th></th>\n",
       "      <th></th>\n",
       "    </tr>\n",
       "  </thead>\n",
       "  <tbody>\n",
       "    <tr>\n",
       "      <th>1</th>\n",
       "      <td>0</td>\n",
       "      <td>0</td>\n",
       "      <td>0</td>\n",
       "      <td>The</td>\n",
       "      <td>the</td>\n",
       "      <td>NaN</td>\n",
       "    </tr>\n",
       "    <tr>\n",
       "      <th>1</th>\n",
       "      <td>0</td>\n",
       "      <td>0</td>\n",
       "      <td>1</td>\n",
       "      <td>variation</td>\n",
       "      <td>variation</td>\n",
       "      <td>1</td>\n",
       "    </tr>\n",
       "    <tr>\n",
       "      <th>1</th>\n",
       "      <td>0</td>\n",
       "      <td>0</td>\n",
       "      <td>2</td>\n",
       "      <td>of</td>\n",
       "      <td>of</td>\n",
       "      <td>NaN</td>\n",
       "    </tr>\n",
       "    <tr>\n",
       "      <th>1</th>\n",
       "      <td>0</td>\n",
       "      <td>0</td>\n",
       "      <td>3</td>\n",
       "      <td>the</td>\n",
       "      <td>the</td>\n",
       "      <td>NaN</td>\n",
       "    </tr>\n",
       "    <tr>\n",
       "      <th>1</th>\n",
       "      <td>0</td>\n",
       "      <td>0</td>\n",
       "      <td>4</td>\n",
       "      <td>lattice</td>\n",
       "      <td>lattice</td>\n",
       "      <td>1</td>\n",
       "    </tr>\n",
       "    <tr>\n",
       "      <th>...</th>\n",
       "      <td>...</td>\n",
       "      <td>...</td>\n",
       "      <td>...</td>\n",
       "      <td>...</td>\n",
       "      <td>...</td>\n",
       "      <td>...</td>\n",
       "    </tr>\n",
       "    <tr>\n",
       "      <th>6</th>\n",
       "      <td>27</td>\n",
       "      <td>2</td>\n",
       "      <td>5</td>\n",
       "      <td>=</td>\n",
       "      <td></td>\n",
       "      <td>1</td>\n",
       "    </tr>\n",
       "    <tr>\n",
       "      <th>6</th>\n",
       "      <td>27</td>\n",
       "      <td>2</td>\n",
       "      <td>6</td>\n",
       "      <td>0</td>\n",
       "      <td>0</td>\n",
       "      <td>1</td>\n",
       "    </tr>\n",
       "    <tr>\n",
       "      <th>6</th>\n",
       "      <td>27</td>\n",
       "      <td>3</td>\n",
       "      <td>0</td>\n",
       "      <td>356</td>\n",
       "      <td>356</td>\n",
       "      <td>1</td>\n",
       "    </tr>\n",
       "    <tr>\n",
       "      <th>6</th>\n",
       "      <td>27</td>\n",
       "      <td>3</td>\n",
       "      <td>1</td>\n",
       "      <td>nm)</td>\n",
       "      <td>nm</td>\n",
       "      <td>1</td>\n",
       "    </tr>\n",
       "    <tr>\n",
       "      <th>6</th>\n",
       "      <td>27</td>\n",
       "      <td>4</td>\n",
       "      <td>0</td>\n",
       "      <td>NaN</td>\n",
       "      <td>NaN</td>\n",
       "      <td>1</td>\n",
       "    </tr>\n",
       "  </tbody>\n",
       "</table>\n",
       "<p>19814 rows × 6 columns</p>\n",
       "</div>"
      ],
      "text/plain": [
       "        para_num  sent_num  token_num  token_str   term_str bool\n",
       "doc_id                                                          \n",
       "1              0         0          0        The        the  NaN\n",
       "1              0         0          1  variation  variation    1\n",
       "1              0         0          2         of         of  NaN\n",
       "1              0         0          3        the        the  NaN\n",
       "1              0         0          4    lattice    lattice    1\n",
       "...          ...       ...        ...        ...        ...  ...\n",
       "6             27         2          5          =               1\n",
       "6             27         2          6          0          0    1\n",
       "6             27         3          0        356        356    1\n",
       "6             27         3          1        nm)         nm    1\n",
       "6             27         4          0        NaN        NaN    1\n",
       "\n",
       "[19814 rows x 6 columns]"
      ]
     },
     "execution_count": 10,
     "metadata": {},
     "output_type": "execute_result"
    }
   ],
   "source": [
    "CORPUS2"
   ]
  },
  {
   "cell_type": "code",
   "execution_count": 11,
   "id": "7d34f7e6",
   "metadata": {},
   "outputs": [],
   "source": [
    "CORPUS2 = CORPUS2[CORPUS2['bool'] != 'NaN']"
   ]
  },
  {
   "cell_type": "code",
   "execution_count": 12,
   "id": "10ea8f4c",
   "metadata": {},
   "outputs": [
    {
     "data": {
      "text/html": [
       "<div>\n",
       "<style scoped>\n",
       "    .dataframe tbody tr th:only-of-type {\n",
       "        vertical-align: middle;\n",
       "    }\n",
       "\n",
       "    .dataframe tbody tr th {\n",
       "        vertical-align: top;\n",
       "    }\n",
       "\n",
       "    .dataframe thead th {\n",
       "        text-align: right;\n",
       "    }\n",
       "</style>\n",
       "<table border=\"1\" class=\"dataframe\">\n",
       "  <thead>\n",
       "    <tr style=\"text-align: right;\">\n",
       "      <th></th>\n",
       "      <th>para_num</th>\n",
       "      <th>sent_num</th>\n",
       "      <th>token_num</th>\n",
       "      <th>token_str</th>\n",
       "      <th>term_str</th>\n",
       "      <th>bool</th>\n",
       "    </tr>\n",
       "    <tr>\n",
       "      <th>doc_id</th>\n",
       "      <th></th>\n",
       "      <th></th>\n",
       "      <th></th>\n",
       "      <th></th>\n",
       "      <th></th>\n",
       "      <th></th>\n",
       "    </tr>\n",
       "  </thead>\n",
       "  <tbody>\n",
       "    <tr>\n",
       "      <th>1</th>\n",
       "      <td>0</td>\n",
       "      <td>0</td>\n",
       "      <td>1</td>\n",
       "      <td>variation</td>\n",
       "      <td>variation</td>\n",
       "      <td>1</td>\n",
       "    </tr>\n",
       "    <tr>\n",
       "      <th>1</th>\n",
       "      <td>0</td>\n",
       "      <td>0</td>\n",
       "      <td>4</td>\n",
       "      <td>lattice</td>\n",
       "      <td>lattice</td>\n",
       "      <td>1</td>\n",
       "    </tr>\n",
       "    <tr>\n",
       "      <th>1</th>\n",
       "      <td>0</td>\n",
       "      <td>0</td>\n",
       "      <td>5</td>\n",
       "      <td>constant</td>\n",
       "      <td>constant</td>\n",
       "      <td>1</td>\n",
       "    </tr>\n",
       "    <tr>\n",
       "      <th>1</th>\n",
       "      <td>0</td>\n",
       "      <td>0</td>\n",
       "      <td>7</td>\n",
       "      <td>alloying</td>\n",
       "      <td>alloying</td>\n",
       "      <td>1</td>\n",
       "    </tr>\n",
       "    <tr>\n",
       "      <th>1</th>\n",
       "      <td>0</td>\n",
       "      <td>0</td>\n",
       "      <td>8</td>\n",
       "      <td>elements</td>\n",
       "      <td>elements</td>\n",
       "      <td>1</td>\n",
       "    </tr>\n",
       "    <tr>\n",
       "      <th>...</th>\n",
       "      <td>...</td>\n",
       "      <td>...</td>\n",
       "      <td>...</td>\n",
       "      <td>...</td>\n",
       "      <td>...</td>\n",
       "      <td>...</td>\n",
       "    </tr>\n",
       "    <tr>\n",
       "      <th>6</th>\n",
       "      <td>27</td>\n",
       "      <td>2</td>\n",
       "      <td>5</td>\n",
       "      <td>=</td>\n",
       "      <td></td>\n",
       "      <td>1</td>\n",
       "    </tr>\n",
       "    <tr>\n",
       "      <th>6</th>\n",
       "      <td>27</td>\n",
       "      <td>2</td>\n",
       "      <td>6</td>\n",
       "      <td>0</td>\n",
       "      <td>0</td>\n",
       "      <td>1</td>\n",
       "    </tr>\n",
       "    <tr>\n",
       "      <th>6</th>\n",
       "      <td>27</td>\n",
       "      <td>3</td>\n",
       "      <td>0</td>\n",
       "      <td>356</td>\n",
       "      <td>356</td>\n",
       "      <td>1</td>\n",
       "    </tr>\n",
       "    <tr>\n",
       "      <th>6</th>\n",
       "      <td>27</td>\n",
       "      <td>3</td>\n",
       "      <td>1</td>\n",
       "      <td>nm)</td>\n",
       "      <td>nm</td>\n",
       "      <td>1</td>\n",
       "    </tr>\n",
       "    <tr>\n",
       "      <th>6</th>\n",
       "      <td>27</td>\n",
       "      <td>4</td>\n",
       "      <td>0</td>\n",
       "      <td>NaN</td>\n",
       "      <td>NaN</td>\n",
       "      <td>1</td>\n",
       "    </tr>\n",
       "  </tbody>\n",
       "</table>\n",
       "<p>12306 rows × 6 columns</p>\n",
       "</div>"
      ],
      "text/plain": [
       "        para_num  sent_num  token_num  token_str   term_str bool\n",
       "doc_id                                                          \n",
       "1              0         0          1  variation  variation    1\n",
       "1              0         0          4    lattice    lattice    1\n",
       "1              0         0          5   constant   constant    1\n",
       "1              0         0          7   alloying   alloying    1\n",
       "1              0         0          8   elements   elements    1\n",
       "...          ...       ...        ...        ...        ...  ...\n",
       "6             27         2          5          =               1\n",
       "6             27         2          6          0          0    1\n",
       "6             27         3          0        356        356    1\n",
       "6             27         3          1        nm)         nm    1\n",
       "6             27         4          0        NaN        NaN    1\n",
       "\n",
       "[12306 rows x 6 columns]"
      ]
     },
     "execution_count": 12,
     "metadata": {},
     "output_type": "execute_result"
    }
   ],
   "source": [
    "CORPUS2"
   ]
  },
  {
   "cell_type": "code",
   "execution_count": 13,
   "id": "d8cb2ba0",
   "metadata": {},
   "outputs": [],
   "source": [
    "CORPUS2 = CORPUS2.dropna(subset=['term_str'])"
   ]
  },
  {
   "cell_type": "code",
   "execution_count": 14,
   "id": "6fce5bfe",
   "metadata": {},
   "outputs": [
    {
     "data": {
      "text/html": [
       "<div>\n",
       "<style scoped>\n",
       "    .dataframe tbody tr th:only-of-type {\n",
       "        vertical-align: middle;\n",
       "    }\n",
       "\n",
       "    .dataframe tbody tr th {\n",
       "        vertical-align: top;\n",
       "    }\n",
       "\n",
       "    .dataframe thead th {\n",
       "        text-align: right;\n",
       "    }\n",
       "</style>\n",
       "<table border=\"1\" class=\"dataframe\">\n",
       "  <thead>\n",
       "    <tr style=\"text-align: right;\">\n",
       "      <th></th>\n",
       "      <th>para_num</th>\n",
       "      <th>sent_num</th>\n",
       "      <th>token_num</th>\n",
       "      <th>token_str</th>\n",
       "      <th>term_str</th>\n",
       "      <th>bool</th>\n",
       "    </tr>\n",
       "    <tr>\n",
       "      <th>doc_id</th>\n",
       "      <th></th>\n",
       "      <th></th>\n",
       "      <th></th>\n",
       "      <th></th>\n",
       "      <th></th>\n",
       "      <th></th>\n",
       "    </tr>\n",
       "  </thead>\n",
       "  <tbody>\n",
       "    <tr>\n",
       "      <th>1</th>\n",
       "      <td>0</td>\n",
       "      <td>0</td>\n",
       "      <td>1</td>\n",
       "      <td>variation</td>\n",
       "      <td>variation</td>\n",
       "      <td>1</td>\n",
       "    </tr>\n",
       "    <tr>\n",
       "      <th>1</th>\n",
       "      <td>0</td>\n",
       "      <td>0</td>\n",
       "      <td>4</td>\n",
       "      <td>lattice</td>\n",
       "      <td>lattice</td>\n",
       "      <td>1</td>\n",
       "    </tr>\n",
       "    <tr>\n",
       "      <th>1</th>\n",
       "      <td>0</td>\n",
       "      <td>0</td>\n",
       "      <td>5</td>\n",
       "      <td>constant</td>\n",
       "      <td>constant</td>\n",
       "      <td>1</td>\n",
       "    </tr>\n",
       "    <tr>\n",
       "      <th>1</th>\n",
       "      <td>0</td>\n",
       "      <td>0</td>\n",
       "      <td>7</td>\n",
       "      <td>alloying</td>\n",
       "      <td>alloying</td>\n",
       "      <td>1</td>\n",
       "    </tr>\n",
       "    <tr>\n",
       "      <th>1</th>\n",
       "      <td>0</td>\n",
       "      <td>0</td>\n",
       "      <td>8</td>\n",
       "      <td>elements</td>\n",
       "      <td>elements</td>\n",
       "      <td>1</td>\n",
       "    </tr>\n",
       "    <tr>\n",
       "      <th>...</th>\n",
       "      <td>...</td>\n",
       "      <td>...</td>\n",
       "      <td>...</td>\n",
       "      <td>...</td>\n",
       "      <td>...</td>\n",
       "      <td>...</td>\n",
       "    </tr>\n",
       "    <tr>\n",
       "      <th>6</th>\n",
       "      <td>27</td>\n",
       "      <td>2</td>\n",
       "      <td>3</td>\n",
       "      <td>stable</td>\n",
       "      <td>stable</td>\n",
       "      <td>1</td>\n",
       "    </tr>\n",
       "    <tr>\n",
       "      <th>6</th>\n",
       "      <td>27</td>\n",
       "      <td>2</td>\n",
       "      <td>5</td>\n",
       "      <td>=</td>\n",
       "      <td></td>\n",
       "      <td>1</td>\n",
       "    </tr>\n",
       "    <tr>\n",
       "      <th>6</th>\n",
       "      <td>27</td>\n",
       "      <td>2</td>\n",
       "      <td>6</td>\n",
       "      <td>0</td>\n",
       "      <td>0</td>\n",
       "      <td>1</td>\n",
       "    </tr>\n",
       "    <tr>\n",
       "      <th>6</th>\n",
       "      <td>27</td>\n",
       "      <td>3</td>\n",
       "      <td>0</td>\n",
       "      <td>356</td>\n",
       "      <td>356</td>\n",
       "      <td>1</td>\n",
       "    </tr>\n",
       "    <tr>\n",
       "      <th>6</th>\n",
       "      <td>27</td>\n",
       "      <td>3</td>\n",
       "      <td>1</td>\n",
       "      <td>nm)</td>\n",
       "      <td>nm</td>\n",
       "      <td>1</td>\n",
       "    </tr>\n",
       "  </tbody>\n",
       "</table>\n",
       "<p>12194 rows × 6 columns</p>\n",
       "</div>"
      ],
      "text/plain": [
       "        para_num  sent_num  token_num  token_str   term_str bool\n",
       "doc_id                                                          \n",
       "1              0         0          1  variation  variation    1\n",
       "1              0         0          4    lattice    lattice    1\n",
       "1              0         0          5   constant   constant    1\n",
       "1              0         0          7   alloying   alloying    1\n",
       "1              0         0          8   elements   elements    1\n",
       "...          ...       ...        ...        ...        ...  ...\n",
       "6             27         2          3     stable     stable    1\n",
       "6             27         2          5          =               1\n",
       "6             27         2          6          0          0    1\n",
       "6             27         3          0        356        356    1\n",
       "6             27         3          1        nm)         nm    1\n",
       "\n",
       "[12194 rows x 6 columns]"
      ]
     },
     "execution_count": 14,
     "metadata": {},
     "output_type": "execute_result"
    }
   ],
   "source": [
    "CORPUS2"
   ]
  },
  {
   "cell_type": "code",
   "execution_count": 15,
   "id": "177aba5e",
   "metadata": {},
   "outputs": [
    {
     "name": "stderr",
     "output_type": "stream",
     "text": [
      "/home/digifort/anaconda3/lib/python3.8/site-packages/pandas/core/frame.py:4308: SettingWithCopyWarning: \n",
      "A value is trying to be set on a copy of a slice from a DataFrame\n",
      "\n",
      "See the caveats in the documentation: https://pandas.pydata.org/pandas-docs/stable/user_guide/indexing.html#returning-a-view-versus-a-copy\n",
      "  return super().drop(\n"
     ]
    }
   ],
   "source": [
    "CORPUS2.drop('bool', axis=1, inplace=True)"
   ]
  },
  {
   "cell_type": "code",
   "execution_count": 16,
   "id": "c3ac3ac7",
   "metadata": {},
   "outputs": [],
   "source": [
    "CORPUS2.drop('token_str', axis=1, inplace=True)"
   ]
  },
  {
   "cell_type": "code",
   "execution_count": 17,
   "id": "234cb9b6",
   "metadata": {},
   "outputs": [
    {
     "data": {
      "text/html": [
       "<div>\n",
       "<style scoped>\n",
       "    .dataframe tbody tr th:only-of-type {\n",
       "        vertical-align: middle;\n",
       "    }\n",
       "\n",
       "    .dataframe tbody tr th {\n",
       "        vertical-align: top;\n",
       "    }\n",
       "\n",
       "    .dataframe thead th {\n",
       "        text-align: right;\n",
       "    }\n",
       "</style>\n",
       "<table border=\"1\" class=\"dataframe\">\n",
       "  <thead>\n",
       "    <tr style=\"text-align: right;\">\n",
       "      <th></th>\n",
       "      <th>para_num</th>\n",
       "      <th>sent_num</th>\n",
       "      <th>token_num</th>\n",
       "      <th>term_str</th>\n",
       "    </tr>\n",
       "    <tr>\n",
       "      <th>doc_id</th>\n",
       "      <th></th>\n",
       "      <th></th>\n",
       "      <th></th>\n",
       "      <th></th>\n",
       "    </tr>\n",
       "  </thead>\n",
       "  <tbody>\n",
       "    <tr>\n",
       "      <th>1</th>\n",
       "      <td>0</td>\n",
       "      <td>0</td>\n",
       "      <td>1</td>\n",
       "      <td>variation</td>\n",
       "    </tr>\n",
       "    <tr>\n",
       "      <th>1</th>\n",
       "      <td>0</td>\n",
       "      <td>0</td>\n",
       "      <td>4</td>\n",
       "      <td>lattice</td>\n",
       "    </tr>\n",
       "    <tr>\n",
       "      <th>1</th>\n",
       "      <td>0</td>\n",
       "      <td>0</td>\n",
       "      <td>5</td>\n",
       "      <td>constant</td>\n",
       "    </tr>\n",
       "    <tr>\n",
       "      <th>1</th>\n",
       "      <td>0</td>\n",
       "      <td>0</td>\n",
       "      <td>7</td>\n",
       "      <td>alloying</td>\n",
       "    </tr>\n",
       "    <tr>\n",
       "      <th>1</th>\n",
       "      <td>0</td>\n",
       "      <td>0</td>\n",
       "      <td>8</td>\n",
       "      <td>elements</td>\n",
       "    </tr>\n",
       "    <tr>\n",
       "      <th>...</th>\n",
       "      <td>...</td>\n",
       "      <td>...</td>\n",
       "      <td>...</td>\n",
       "      <td>...</td>\n",
       "    </tr>\n",
       "    <tr>\n",
       "      <th>6</th>\n",
       "      <td>27</td>\n",
       "      <td>2</td>\n",
       "      <td>3</td>\n",
       "      <td>stable</td>\n",
       "    </tr>\n",
       "    <tr>\n",
       "      <th>6</th>\n",
       "      <td>27</td>\n",
       "      <td>2</td>\n",
       "      <td>5</td>\n",
       "      <td></td>\n",
       "    </tr>\n",
       "    <tr>\n",
       "      <th>6</th>\n",
       "      <td>27</td>\n",
       "      <td>2</td>\n",
       "      <td>6</td>\n",
       "      <td>0</td>\n",
       "    </tr>\n",
       "    <tr>\n",
       "      <th>6</th>\n",
       "      <td>27</td>\n",
       "      <td>3</td>\n",
       "      <td>0</td>\n",
       "      <td>356</td>\n",
       "    </tr>\n",
       "    <tr>\n",
       "      <th>6</th>\n",
       "      <td>27</td>\n",
       "      <td>3</td>\n",
       "      <td>1</td>\n",
       "      <td>nm</td>\n",
       "    </tr>\n",
       "  </tbody>\n",
       "</table>\n",
       "<p>12194 rows × 4 columns</p>\n",
       "</div>"
      ],
      "text/plain": [
       "        para_num  sent_num  token_num   term_str\n",
       "doc_id                                          \n",
       "1              0         0          1  variation\n",
       "1              0         0          4    lattice\n",
       "1              0         0          5   constant\n",
       "1              0         0          7   alloying\n",
       "1              0         0          8   elements\n",
       "...          ...       ...        ...        ...\n",
       "6             27         2          3     stable\n",
       "6             27         2          5           \n",
       "6             27         2          6          0\n",
       "6             27         3          0        356\n",
       "6             27         3          1         nm\n",
       "\n",
       "[12194 rows x 4 columns]"
      ]
     },
     "execution_count": 17,
     "metadata": {},
     "output_type": "execute_result"
    }
   ],
   "source": [
    "CORPUS2"
   ]
  },
  {
   "cell_type": "code",
   "execution_count": 18,
   "id": "10e3d0f2",
   "metadata": {},
   "outputs": [],
   "source": [
    "CORPUS2.to_csv('Ankita_Corpus_2.csv')"
   ]
  },
  {
   "cell_type": "markdown",
   "id": "9417ee22",
   "metadata": {},
   "source": [
    "### Annotate"
   ]
  },
  {
   "cell_type": "code",
   "execution_count": 22,
   "id": "cac2e005",
   "metadata": {},
   "outputs": [],
   "source": [
    "import nltk"
   ]
  },
  {
   "cell_type": "code",
   "execution_count": 23,
   "id": "9c9bb331",
   "metadata": {},
   "outputs": [
    {
     "ename": "TypeError",
     "evalue": "tokens: expected a list of strings, got a string",
     "output_type": "error",
     "traceback": [
      "\u001b[0;31m---------------------------------------------------------------------------\u001b[0m",
      "\u001b[0;31mTypeError\u001b[0m                                 Traceback (most recent call last)",
      "\u001b[0;32m<ipython-input-23-286345259887>\u001b[0m in \u001b[0;36m<module>\u001b[0;34m\u001b[0m\n\u001b[0;32m----> 1\u001b[0;31m \u001b[0mCORPUS_new\u001b[0m \u001b[0;34m=\u001b[0m \u001b[0mCORPUS\u001b[0m\u001b[0;34m.\u001b[0m\u001b[0mtoken_str\u001b[0m\u001b[0;31m\\\u001b[0m\u001b[0;34m\u001b[0m\u001b[0;34m\u001b[0m\u001b[0m\n\u001b[0m\u001b[1;32m      2\u001b[0m             \u001b[0;34m.\u001b[0m\u001b[0mapply\u001b[0m\u001b[0;34m(\u001b[0m\u001b[0;32mlambda\u001b[0m \u001b[0mx\u001b[0m\u001b[0;34m:\u001b[0m \u001b[0mpd\u001b[0m\u001b[0;34m.\u001b[0m\u001b[0mSeries\u001b[0m\u001b[0;34m(\u001b[0m\u001b[0mnltk\u001b[0m\u001b[0;34m.\u001b[0m\u001b[0mpos_tag\u001b[0m\u001b[0;34m(\u001b[0m\u001b[0mx\u001b[0m\u001b[0;34m)\u001b[0m\u001b[0;34m)\u001b[0m\u001b[0;34m)\u001b[0m\u001b[0;31m\\\u001b[0m\u001b[0;34m\u001b[0m\u001b[0;34m\u001b[0m\u001b[0m\n\u001b[1;32m      3\u001b[0m             \u001b[0;34m.\u001b[0m\u001b[0mstack\u001b[0m\u001b[0;34m(\u001b[0m\u001b[0;34m)\u001b[0m\u001b[0;31m\\\u001b[0m\u001b[0;34m\u001b[0m\u001b[0;34m\u001b[0m\u001b[0m\n\u001b[1;32m      4\u001b[0m             \u001b[0;34m.\u001b[0m\u001b[0mto_frame\u001b[0m\u001b[0;34m(\u001b[0m\u001b[0;34m'pos_tuple'\u001b[0m\u001b[0;34m)\u001b[0m\u001b[0;34m\u001b[0m\u001b[0;34m\u001b[0m\u001b[0m\n",
      "\u001b[0;32m~/anaconda3/lib/python3.8/site-packages/pandas/core/series.py\u001b[0m in \u001b[0;36mapply\u001b[0;34m(self, func, convert_dtype, args, **kwds)\u001b[0m\n\u001b[1;32m   4136\u001b[0m             \u001b[0;32melse\u001b[0m\u001b[0;34m:\u001b[0m\u001b[0;34m\u001b[0m\u001b[0;34m\u001b[0m\u001b[0m\n\u001b[1;32m   4137\u001b[0m                 \u001b[0mvalues\u001b[0m \u001b[0;34m=\u001b[0m \u001b[0mself\u001b[0m\u001b[0;34m.\u001b[0m\u001b[0mastype\u001b[0m\u001b[0;34m(\u001b[0m\u001b[0mobject\u001b[0m\u001b[0;34m)\u001b[0m\u001b[0;34m.\u001b[0m\u001b[0m_values\u001b[0m\u001b[0;34m\u001b[0m\u001b[0;34m\u001b[0m\u001b[0m\n\u001b[0;32m-> 4138\u001b[0;31m                 \u001b[0mmapped\u001b[0m \u001b[0;34m=\u001b[0m \u001b[0mlib\u001b[0m\u001b[0;34m.\u001b[0m\u001b[0mmap_infer\u001b[0m\u001b[0;34m(\u001b[0m\u001b[0mvalues\u001b[0m\u001b[0;34m,\u001b[0m \u001b[0mf\u001b[0m\u001b[0;34m,\u001b[0m \u001b[0mconvert\u001b[0m\u001b[0;34m=\u001b[0m\u001b[0mconvert_dtype\u001b[0m\u001b[0;34m)\u001b[0m\u001b[0;34m\u001b[0m\u001b[0;34m\u001b[0m\u001b[0m\n\u001b[0m\u001b[1;32m   4139\u001b[0m \u001b[0;34m\u001b[0m\u001b[0m\n\u001b[1;32m   4140\u001b[0m         \u001b[0;32mif\u001b[0m \u001b[0mlen\u001b[0m\u001b[0;34m(\u001b[0m\u001b[0mmapped\u001b[0m\u001b[0;34m)\u001b[0m \u001b[0;32mand\u001b[0m \u001b[0misinstance\u001b[0m\u001b[0;34m(\u001b[0m\u001b[0mmapped\u001b[0m\u001b[0;34m[\u001b[0m\u001b[0;36m0\u001b[0m\u001b[0;34m]\u001b[0m\u001b[0;34m,\u001b[0m \u001b[0mSeries\u001b[0m\u001b[0;34m)\u001b[0m\u001b[0;34m:\u001b[0m\u001b[0;34m\u001b[0m\u001b[0;34m\u001b[0m\u001b[0m\n",
      "\u001b[0;32mpandas/_libs/lib.pyx\u001b[0m in \u001b[0;36mpandas._libs.lib.map_infer\u001b[0;34m()\u001b[0m\n",
      "\u001b[0;32m<ipython-input-23-286345259887>\u001b[0m in \u001b[0;36m<lambda>\u001b[0;34m(x)\u001b[0m\n\u001b[1;32m      1\u001b[0m \u001b[0mCORPUS_new\u001b[0m \u001b[0;34m=\u001b[0m \u001b[0mCORPUS\u001b[0m\u001b[0;34m.\u001b[0m\u001b[0mtoken_str\u001b[0m\u001b[0;31m\\\u001b[0m\u001b[0;34m\u001b[0m\u001b[0;34m\u001b[0m\u001b[0m\n\u001b[0;32m----> 2\u001b[0;31m             \u001b[0;34m.\u001b[0m\u001b[0mapply\u001b[0m\u001b[0;34m(\u001b[0m\u001b[0;32mlambda\u001b[0m \u001b[0mx\u001b[0m\u001b[0;34m:\u001b[0m \u001b[0mpd\u001b[0m\u001b[0;34m.\u001b[0m\u001b[0mSeries\u001b[0m\u001b[0;34m(\u001b[0m\u001b[0mnltk\u001b[0m\u001b[0;34m.\u001b[0m\u001b[0mpos_tag\u001b[0m\u001b[0;34m(\u001b[0m\u001b[0mx\u001b[0m\u001b[0;34m)\u001b[0m\u001b[0;34m)\u001b[0m\u001b[0;34m)\u001b[0m\u001b[0;31m\\\u001b[0m\u001b[0;34m\u001b[0m\u001b[0;34m\u001b[0m\u001b[0m\n\u001b[0m\u001b[1;32m      3\u001b[0m             \u001b[0;34m.\u001b[0m\u001b[0mstack\u001b[0m\u001b[0;34m(\u001b[0m\u001b[0;34m)\u001b[0m\u001b[0;31m\\\u001b[0m\u001b[0;34m\u001b[0m\u001b[0;34m\u001b[0m\u001b[0m\n\u001b[1;32m      4\u001b[0m             \u001b[0;34m.\u001b[0m\u001b[0mto_frame\u001b[0m\u001b[0;34m(\u001b[0m\u001b[0;34m'pos_tuple'\u001b[0m\u001b[0;34m)\u001b[0m\u001b[0;34m\u001b[0m\u001b[0;34m\u001b[0m\u001b[0m\n",
      "\u001b[0;32m~/anaconda3/lib/python3.8/site-packages/nltk/tag/__init__.py\u001b[0m in \u001b[0;36mpos_tag\u001b[0;34m(tokens, tagset, lang)\u001b[0m\n\u001b[1;32m    163\u001b[0m     \"\"\"\n\u001b[1;32m    164\u001b[0m     \u001b[0mtagger\u001b[0m \u001b[0;34m=\u001b[0m \u001b[0m_get_tagger\u001b[0m\u001b[0;34m(\u001b[0m\u001b[0mlang\u001b[0m\u001b[0;34m)\u001b[0m\u001b[0;34m\u001b[0m\u001b[0;34m\u001b[0m\u001b[0m\n\u001b[0;32m--> 165\u001b[0;31m     \u001b[0;32mreturn\u001b[0m \u001b[0m_pos_tag\u001b[0m\u001b[0;34m(\u001b[0m\u001b[0mtokens\u001b[0m\u001b[0;34m,\u001b[0m \u001b[0mtagset\u001b[0m\u001b[0;34m,\u001b[0m \u001b[0mtagger\u001b[0m\u001b[0;34m,\u001b[0m \u001b[0mlang\u001b[0m\u001b[0;34m)\u001b[0m\u001b[0;34m\u001b[0m\u001b[0;34m\u001b[0m\u001b[0m\n\u001b[0m\u001b[1;32m    166\u001b[0m \u001b[0;34m\u001b[0m\u001b[0m\n\u001b[1;32m    167\u001b[0m \u001b[0;34m\u001b[0m\u001b[0m\n",
      "\u001b[0;32m~/anaconda3/lib/python3.8/site-packages/nltk/tag/__init__.py\u001b[0m in \u001b[0;36m_pos_tag\u001b[0;34m(tokens, tagset, tagger, lang)\u001b[0m\n\u001b[1;32m    117\u001b[0m     \u001b[0;31m# Throws Error if tokens is of string type\u001b[0m\u001b[0;34m\u001b[0m\u001b[0;34m\u001b[0m\u001b[0;34m\u001b[0m\u001b[0m\n\u001b[1;32m    118\u001b[0m     \u001b[0;32melif\u001b[0m \u001b[0misinstance\u001b[0m\u001b[0;34m(\u001b[0m\u001b[0mtokens\u001b[0m\u001b[0;34m,\u001b[0m \u001b[0mstr\u001b[0m\u001b[0;34m)\u001b[0m\u001b[0;34m:\u001b[0m\u001b[0;34m\u001b[0m\u001b[0;34m\u001b[0m\u001b[0m\n\u001b[0;32m--> 119\u001b[0;31m         \u001b[0;32mraise\u001b[0m \u001b[0mTypeError\u001b[0m\u001b[0;34m(\u001b[0m\u001b[0;34m'tokens: expected a list of strings, got a string'\u001b[0m\u001b[0;34m)\u001b[0m\u001b[0;34m\u001b[0m\u001b[0;34m\u001b[0m\u001b[0m\n\u001b[0m\u001b[1;32m    120\u001b[0m \u001b[0;34m\u001b[0m\u001b[0m\n\u001b[1;32m    121\u001b[0m     \u001b[0;32melse\u001b[0m\u001b[0;34m:\u001b[0m\u001b[0;34m\u001b[0m\u001b[0;34m\u001b[0m\u001b[0m\n",
      "\u001b[0;31mTypeError\u001b[0m: tokens: expected a list of strings, got a string"
     ]
    }
   ],
   "source": [
    "CORPUS_new = CORPUS.token_str\\\n",
    "            .apply(lambda x: pd.Series(nltk.pos_tag(x)))\\\n",
    "            .stack()\\\n",
    "            .to_frame('pos_tuple')"
   ]
  },
  {
   "cell_type": "code",
   "execution_count": 19,
   "id": "3bf756df",
   "metadata": {},
   "outputs": [],
   "source": [
    "VOCAB = CORPUS.token_str.value_counts().to_frame('n').sort_index()\n",
    "VOCAB.index.name = 'token_str'\n",
    "VOCAB['n_chars'] = VOCAB.index.str.len()\n",
    "VOCAB['p'] = VOCAB.n / VOCAB.n.sum()\n",
    "VOCAB['i'] = -np.log2(VOCAB.p)"
   ]
  },
  {
   "cell_type": "code",
   "execution_count": 20,
   "id": "98730849",
   "metadata": {},
   "outputs": [
    {
     "data": {
      "text/html": [
       "<div>\n",
       "<style scoped>\n",
       "    .dataframe tbody tr th:only-of-type {\n",
       "        vertical-align: middle;\n",
       "    }\n",
       "\n",
       "    .dataframe tbody tr th {\n",
       "        vertical-align: top;\n",
       "    }\n",
       "\n",
       "    .dataframe thead th {\n",
       "        text-align: right;\n",
       "    }\n",
       "</style>\n",
       "<table border=\"1\" class=\"dataframe\">\n",
       "  <thead>\n",
       "    <tr style=\"text-align: right;\">\n",
       "      <th></th>\n",
       "      <th>n</th>\n",
       "      <th>n_chars</th>\n",
       "      <th>p</th>\n",
       "      <th>i</th>\n",
       "    </tr>\n",
       "    <tr>\n",
       "      <th>token_str</th>\n",
       "      <th></th>\n",
       "      <th></th>\n",
       "      <th></th>\n",
       "      <th></th>\n",
       "    </tr>\n",
       "  </thead>\n",
       "  <tbody>\n",
       "    <tr>\n",
       "      <th>-1</th>\n",
       "      <td>1</td>\n",
       "      <td>2</td>\n",
       "      <td>0.000033</td>\n",
       "      <td>14.889029</td>\n",
       "    </tr>\n",
       "    <tr>\n",
       "      <th>-32</th>\n",
       "      <td>2</td>\n",
       "      <td>3</td>\n",
       "      <td>0.000066</td>\n",
       "      <td>13.889029</td>\n",
       "    </tr>\n",
       "    <tr>\n",
       "      <th>-a-</th>\n",
       "      <td>2</td>\n",
       "      <td>3</td>\n",
       "      <td>0.000066</td>\n",
       "      <td>13.889029</td>\n",
       "    </tr>\n",
       "    <tr>\n",
       "      <th>-m-</th>\n",
       "      <td>1</td>\n",
       "      <td>3</td>\n",
       "      <td>0.000033</td>\n",
       "      <td>14.889029</td>\n",
       "    </tr>\n",
       "    <tr>\n",
       "      <th>-mn</th>\n",
       "      <td>21</td>\n",
       "      <td>3</td>\n",
       "      <td>0.000692</td>\n",
       "      <td>10.496711</td>\n",
       "    </tr>\n",
       "    <tr>\n",
       "      <th>...</th>\n",
       "      <td>...</td>\n",
       "      <td>...</td>\n",
       "      <td>...</td>\n",
       "      <td>...</td>\n",
       "    </tr>\n",
       "    <tr>\n",
       "      <th>zrnbo1omorerulo</th>\n",
       "      <td>1</td>\n",
       "      <td>15</td>\n",
       "      <td>0.000033</td>\n",
       "      <td>14.889029</td>\n",
       "    </tr>\n",
       "    <tr>\n",
       "      <th>zrre</th>\n",
       "      <td>1</td>\n",
       "      <td>4</td>\n",
       "      <td>0.000033</td>\n",
       "      <td>14.889029</td>\n",
       "    </tr>\n",
       "    <tr>\n",
       "      <th>zrrez</th>\n",
       "      <td>1</td>\n",
       "      <td>5</td>\n",
       "      <td>0.000033</td>\n",
       "      <td>14.889029</td>\n",
       "    </tr>\n",
       "    <tr>\n",
       "      <th>ztnbo1o0</th>\n",
       "      <td>1</td>\n",
       "      <td>8</td>\n",
       "      <td>0.000033</td>\n",
       "      <td>14.889029</td>\n",
       "    </tr>\n",
       "    <tr>\n",
       "      <th>zwick</th>\n",
       "      <td>1</td>\n",
       "      <td>5</td>\n",
       "      <td>0.000033</td>\n",
       "      <td>14.889029</td>\n",
       "    </tr>\n",
       "  </tbody>\n",
       "</table>\n",
       "<p>5155 rows × 4 columns</p>\n",
       "</div>"
      ],
      "text/plain": [
       "                  n  n_chars         p          i\n",
       "token_str                                        \n",
       "-1                1        2  0.000033  14.889029\n",
       "-32               2        3  0.000066  13.889029\n",
       "-a-               2        3  0.000066  13.889029\n",
       "-m-               1        3  0.000033  14.889029\n",
       "-mn              21        3  0.000692  10.496711\n",
       "...              ..      ...       ...        ...\n",
       "zrnbo1omorerulo   1       15  0.000033  14.889029\n",
       "zrre              1        4  0.000033  14.889029\n",
       "zrrez             1        5  0.000033  14.889029\n",
       "ztnbo1o0          1        8  0.000033  14.889029\n",
       "zwick             1        5  0.000033  14.889029\n",
       "\n",
       "[5155 rows x 4 columns]"
      ]
     },
     "execution_count": 20,
     "metadata": {},
     "output_type": "execute_result"
    }
   ],
   "source": [
    "VOCAB"
   ]
  },
  {
   "cell_type": "code",
   "execution_count": 21,
   "id": "ff7f0e70",
   "metadata": {},
   "outputs": [
    {
     "ename": "KeyError",
     "evalue": "\"['pos'] not in index\"",
     "output_type": "error",
     "traceback": [
      "\u001b[0;31m---------------------------------------------------------------------------\u001b[0m",
      "\u001b[0;31mKeyError\u001b[0m                                  Traceback (most recent call last)",
      "\u001b[0;32m<ipython-input-21-dd11f13af1b2>\u001b[0m in \u001b[0;36m<module>\u001b[0;34m\u001b[0m\n\u001b[0;32m----> 1\u001b[0;31m \u001b[0mVOCAB\u001b[0m\u001b[0;34m[\u001b[0m\u001b[0;34m'max_pos'\u001b[0m\u001b[0;34m]\u001b[0m \u001b[0;34m=\u001b[0m \u001b[0mCORPUS\u001b[0m\u001b[0;34m[\u001b[0m\u001b[0;34m[\u001b[0m\u001b[0;34m'token_str'\u001b[0m\u001b[0;34m,\u001b[0m\u001b[0;34m'pos'\u001b[0m\u001b[0;34m]\u001b[0m\u001b[0;34m]\u001b[0m\u001b[0;34m.\u001b[0m\u001b[0mvalue_counts\u001b[0m\u001b[0;34m(\u001b[0m\u001b[0;34m)\u001b[0m\u001b[0;34m.\u001b[0m\u001b[0munstack\u001b[0m\u001b[0;34m(\u001b[0m\u001b[0mfill_value\u001b[0m\u001b[0;34m=\u001b[0m\u001b[0;36m0\u001b[0m\u001b[0;34m)\u001b[0m\u001b[0;34m.\u001b[0m\u001b[0midxmax\u001b[0m\u001b[0;34m(\u001b[0m\u001b[0;36m1\u001b[0m\u001b[0;34m)\u001b[0m\u001b[0;34m\u001b[0m\u001b[0;34m\u001b[0m\u001b[0m\n\u001b[0m",
      "\u001b[0;32m~/anaconda3/lib/python3.8/site-packages/pandas/core/frame.py\u001b[0m in \u001b[0;36m__getitem__\u001b[0;34m(self, key)\u001b[0m\n\u001b[1;32m   3028\u001b[0m             \u001b[0;32mif\u001b[0m \u001b[0mis_iterator\u001b[0m\u001b[0;34m(\u001b[0m\u001b[0mkey\u001b[0m\u001b[0;34m)\u001b[0m\u001b[0;34m:\u001b[0m\u001b[0;34m\u001b[0m\u001b[0;34m\u001b[0m\u001b[0m\n\u001b[1;32m   3029\u001b[0m                 \u001b[0mkey\u001b[0m \u001b[0;34m=\u001b[0m \u001b[0mlist\u001b[0m\u001b[0;34m(\u001b[0m\u001b[0mkey\u001b[0m\u001b[0;34m)\u001b[0m\u001b[0;34m\u001b[0m\u001b[0;34m\u001b[0m\u001b[0m\n\u001b[0;32m-> 3030\u001b[0;31m             \u001b[0mindexer\u001b[0m \u001b[0;34m=\u001b[0m \u001b[0mself\u001b[0m\u001b[0;34m.\u001b[0m\u001b[0mloc\u001b[0m\u001b[0;34m.\u001b[0m\u001b[0m_get_listlike_indexer\u001b[0m\u001b[0;34m(\u001b[0m\u001b[0mkey\u001b[0m\u001b[0;34m,\u001b[0m \u001b[0maxis\u001b[0m\u001b[0;34m=\u001b[0m\u001b[0;36m1\u001b[0m\u001b[0;34m,\u001b[0m \u001b[0mraise_missing\u001b[0m\u001b[0;34m=\u001b[0m\u001b[0;32mTrue\u001b[0m\u001b[0;34m)\u001b[0m\u001b[0;34m[\u001b[0m\u001b[0;36m1\u001b[0m\u001b[0;34m]\u001b[0m\u001b[0;34m\u001b[0m\u001b[0;34m\u001b[0m\u001b[0m\n\u001b[0m\u001b[1;32m   3031\u001b[0m \u001b[0;34m\u001b[0m\u001b[0m\n\u001b[1;32m   3032\u001b[0m         \u001b[0;31m# take() does not accept boolean indexers\u001b[0m\u001b[0;34m\u001b[0m\u001b[0;34m\u001b[0m\u001b[0;34m\u001b[0m\u001b[0m\n",
      "\u001b[0;32m~/anaconda3/lib/python3.8/site-packages/pandas/core/indexing.py\u001b[0m in \u001b[0;36m_get_listlike_indexer\u001b[0;34m(self, key, axis, raise_missing)\u001b[0m\n\u001b[1;32m   1264\u001b[0m             \u001b[0mkeyarr\u001b[0m\u001b[0;34m,\u001b[0m \u001b[0mindexer\u001b[0m\u001b[0;34m,\u001b[0m \u001b[0mnew_indexer\u001b[0m \u001b[0;34m=\u001b[0m \u001b[0max\u001b[0m\u001b[0;34m.\u001b[0m\u001b[0m_reindex_non_unique\u001b[0m\u001b[0;34m(\u001b[0m\u001b[0mkeyarr\u001b[0m\u001b[0;34m)\u001b[0m\u001b[0;34m\u001b[0m\u001b[0;34m\u001b[0m\u001b[0m\n\u001b[1;32m   1265\u001b[0m \u001b[0;34m\u001b[0m\u001b[0m\n\u001b[0;32m-> 1266\u001b[0;31m         \u001b[0mself\u001b[0m\u001b[0;34m.\u001b[0m\u001b[0m_validate_read_indexer\u001b[0m\u001b[0;34m(\u001b[0m\u001b[0mkeyarr\u001b[0m\u001b[0;34m,\u001b[0m \u001b[0mindexer\u001b[0m\u001b[0;34m,\u001b[0m \u001b[0maxis\u001b[0m\u001b[0;34m,\u001b[0m \u001b[0mraise_missing\u001b[0m\u001b[0;34m=\u001b[0m\u001b[0mraise_missing\u001b[0m\u001b[0;34m)\u001b[0m\u001b[0;34m\u001b[0m\u001b[0;34m\u001b[0m\u001b[0m\n\u001b[0m\u001b[1;32m   1267\u001b[0m         \u001b[0;32mreturn\u001b[0m \u001b[0mkeyarr\u001b[0m\u001b[0;34m,\u001b[0m \u001b[0mindexer\u001b[0m\u001b[0;34m\u001b[0m\u001b[0;34m\u001b[0m\u001b[0m\n\u001b[1;32m   1268\u001b[0m \u001b[0;34m\u001b[0m\u001b[0m\n",
      "\u001b[0;32m~/anaconda3/lib/python3.8/site-packages/pandas/core/indexing.py\u001b[0m in \u001b[0;36m_validate_read_indexer\u001b[0;34m(self, key, indexer, axis, raise_missing)\u001b[0m\n\u001b[1;32m   1314\u001b[0m             \u001b[0;32mif\u001b[0m \u001b[0mraise_missing\u001b[0m\u001b[0;34m:\u001b[0m\u001b[0;34m\u001b[0m\u001b[0;34m\u001b[0m\u001b[0m\n\u001b[1;32m   1315\u001b[0m                 \u001b[0mnot_found\u001b[0m \u001b[0;34m=\u001b[0m \u001b[0mlist\u001b[0m\u001b[0;34m(\u001b[0m\u001b[0mset\u001b[0m\u001b[0;34m(\u001b[0m\u001b[0mkey\u001b[0m\u001b[0;34m)\u001b[0m \u001b[0;34m-\u001b[0m \u001b[0mset\u001b[0m\u001b[0;34m(\u001b[0m\u001b[0max\u001b[0m\u001b[0;34m)\u001b[0m\u001b[0;34m)\u001b[0m\u001b[0;34m\u001b[0m\u001b[0;34m\u001b[0m\u001b[0m\n\u001b[0;32m-> 1316\u001b[0;31m                 \u001b[0;32mraise\u001b[0m \u001b[0mKeyError\u001b[0m\u001b[0;34m(\u001b[0m\u001b[0;34mf\"{not_found} not in index\"\u001b[0m\u001b[0;34m)\u001b[0m\u001b[0;34m\u001b[0m\u001b[0;34m\u001b[0m\u001b[0m\n\u001b[0m\u001b[1;32m   1317\u001b[0m \u001b[0;34m\u001b[0m\u001b[0m\n\u001b[1;32m   1318\u001b[0m             \u001b[0mnot_found\u001b[0m \u001b[0;34m=\u001b[0m \u001b[0mkey\u001b[0m\u001b[0;34m[\u001b[0m\u001b[0mmissing_mask\u001b[0m\u001b[0;34m]\u001b[0m\u001b[0;34m\u001b[0m\u001b[0;34m\u001b[0m\u001b[0m\n",
      "\u001b[0;31mKeyError\u001b[0m: \"['pos'] not in index\""
     ]
    }
   ],
   "source": [
    "VOCAB['max_pos'] = CORPUS[['token_str','pos']].value_counts().unstack(fill_value=0).idxmax(1)"
   ]
  },
  {
   "cell_type": "code",
   "execution_count": null,
   "id": "bacbbd9b",
   "metadata": {},
   "outputs": [],
   "source": []
  }
 ],
 "metadata": {
  "kernelspec": {
   "display_name": "Python 3 (ipykernel)",
   "language": "python",
   "name": "python3"
  },
  "language_info": {
   "codemirror_mode": {
    "name": "ipython",
    "version": 3
   },
   "file_extension": ".py",
   "mimetype": "text/x-python",
   "name": "python",
   "nbconvert_exporter": "python",
   "pygments_lexer": "ipython3",
   "version": "3.7.7"
  }
 },
 "nbformat": 4,
 "nbformat_minor": 5
}
